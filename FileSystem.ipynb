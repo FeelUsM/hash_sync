{
 "cells": [
  {
   "cell_type": "code",
   "execution_count": 1,
   "metadata": {
    "ExecuteTime": {
     "end_time": "2019-11-17T07:09:44.644648Z",
     "start_time": "2019-11-17T07:09:44.620647Z"
    }
   },
   "outputs": [],
   "source": [
    "from FileSystem import *"
   ]
  },
  {
   "cell_type": "markdown",
   "metadata": {},
   "source": [
    "# применение"
   ]
  },
  {
   "cell_type": "code",
   "execution_count": 2,
   "metadata": {
    "ExecuteTime": {
     "end_time": "2019-11-17T07:09:44.763655Z",
     "start_time": "2019-11-17T07:09:44.651648Z"
    }
   },
   "outputs": [],
   "source": [
    "#myjson_dump(root,r'D:\\.files\\222.json')"
   ]
  },
  {
   "cell_type": "code",
   "execution_count": 3,
   "metadata": {
    "ExecuteTime": {
     "end_time": "2019-11-17T07:09:51.794057Z",
     "start_time": "2019-11-17T07:09:44.767655Z"
    },
    "scrolled": true
   },
   "outputs": [
    {
     "name": "stdout",
     "output_type": "stream",
     "text": [
      "readed D:\\.files\\111.json\n",
      "dict_keys(['$RECYCLE.BIN', 'amd64', 'Config.Msi', 'Games', 'i386', 'msdownld.tmp', 'System Volume Information', 'treeinfo.wc', 'Users', 'Windows.old'])\n",
      "readed D:\\.files\\222.json\n",
      "dict_keys(['$RECYCLE.BIN', '.files', 'amd64', 'Config.Msi', 'Games', 'i386', 'msdownld.tmp', 'System Volume Information', 'treeinfo.wc', 'Users', 'Windows.old'])\n"
     ]
    }
   ],
   "source": [
    "old_root = myjson_load(r'D:\\.files\\111.json')\n",
    "root = myjson_load(r'D:\\.files\\222.json')\n",
    "\n",
    "#root = scan('D:\\\\',{r'D:\\Users\\feelus\\YandexDisk',r'D:\\$RECYCLE.BIN'})\n",
    "#calc_hashes(root,old_root,'D:')"
   ]
  },
  {
   "cell_type": "code",
   "execution_count": 4,
   "metadata": {
    "ExecuteTime": {
     "end_time": "2019-11-17T07:09:53.786171Z",
     "start_time": "2019-11-17T07:09:51.802057Z"
    }
   },
   "outputs": [],
   "source": [
    "modified,old,new,strict_old,strict_new,touched = path_diff(old_root,root)"
   ]
  },
  {
   "cell_type": "code",
   "execution_count": 5,
   "metadata": {
    "ExecuteTime": {
     "end_time": "2019-11-17T07:09:53.791171Z",
     "start_time": "2019-11-17T07:09:53.788171Z"
    }
   },
   "outputs": [],
   "source": [
    "#print(myjson_dumps(touched"
   ]
  },
  {
   "cell_type": "code",
   "execution_count": 6,
   "metadata": {
    "ExecuteTime": {
     "end_time": "2019-11-17T07:10:01.305601Z",
     "start_time": "2019-11-17T07:09:53.809172Z"
    }
   },
   "outputs": [
    {
     "data": {
      "text/plain": [
       "True"
      ]
     },
     "execution_count": 6,
     "metadata": {},
     "output_type": "execute_result"
    }
   ],
   "source": [
    "assert set(old)&set(strict_old) == set()\n",
    "assert set(new)&set(strict_new) == set()\n",
    "new_root = path_patch(old_root,modified,{**old,**strict_old},{**new,**strict_new},touched)\n",
    "#path_diff(root,new_root)\n",
    "root==new_root"
   ]
  },
  {
   "cell_type": "code",
   "execution_count": 7,
   "metadata": {
    "ExecuteTime": {
     "end_time": "2019-11-17T07:10:01.321602Z",
     "start_time": "2019-11-17T07:10:01.309601Z"
    }
   },
   "outputs": [],
   "source": [
    "#print(myjson_dumps(path_patch_dump(*path_diff(\n",
    "#    path_patch(old_root,modified,{**old,**strict_old},{**new,**strict_new}),\n",
    "#              old_root))))"
   ]
  },
  {
   "cell_type": "code",
   "execution_count": 8,
   "metadata": {
    "ExecuteTime": {
     "end_time": "2019-11-17T07:10:01.419607Z",
     "start_time": "2019-11-17T07:10:01.326602Z"
    },
    "scrolled": true
   },
   "outputs": [],
   "source": [
    "#print(myjson_dumps(path_patch_dump(modified,old,new,strict_old,strict_new)))\n",
    "#myjson_dump(tree_dump(old_root),'old_root.json')\n",
    "#json.dumps(tree_dump(old_root['amd64']))"
   ]
  },
  {
   "cell_type": "code",
   "execution_count": 9,
   "metadata": {
    "ExecuteTime": {
     "end_time": "2019-11-17T07:10:01.535614Z",
     "start_time": "2019-11-17T07:10:01.421608Z"
    }
   },
   "outputs": [],
   "source": [
    "#root_d.keys()"
   ]
  },
  {
   "cell_type": "code",
   "execution_count": 10,
   "metadata": {
    "ExecuteTime": {
     "end_time": "2019-11-17T07:10:01.660621Z",
     "start_time": "2019-11-17T07:10:01.538614Z"
    }
   },
   "outputs": [],
   "source": [
    "#print(myjson_dumps(tree_dump(root_d)))\n",
    "#print(myjson_dumps(hash_patch_dump(modified,moved,old_dirs,new_dirs,\n",
    "#                      {**old,**strict_old},{**new,**strict_new})))\n",
    "#print(myjson_dumps(path_patch_dump(modified,old,new,strict_old,strict_new)))\n"
   ]
  },
  {
   "cell_type": "code",
   "execution_count": 18,
   "metadata": {
    "ExecuteTime": {
     "end_time": "2019-11-17T07:11:03.180140Z",
     "start_time": "2019-11-17T07:10:50.450412Z"
    },
    "scrolled": true
   },
   "outputs": [
    {
     "name": "stdout",
     "output_type": "stream",
     "text": [
      "--- ITERATION ---\n",
      "--- ITERATION ---\n",
      "--- FINAL ITERATION ---\n",
      "random move Users/feelus/AppData/Local/Google/Chrome/User Data/CertificateRevocation/5506/LICENSE\n",
      "            Users/feelus/AppData/Local/Google/Chrome/User Data/CertificateRevocation/5518/LICENSE\n",
      "            Users/feelus/AppData/Local/Google/Chrome/User Data/CertificateRevocation/5520/LICENSE\n",
      "            Users/feelus/AppData/Local/Google/Chrome/User Data/CertificateRevocation/5519/LICENSE\n",
      "random move Users/feelus/AppData/Local/Google/Chrome/User Data/CertificateRevocation/5507/LICENSE\n",
      "            Users/feelus/AppData/Local/Google/Chrome/User Data/CertificateRevocation/5520/LICENSE\n",
      "            Users/feelus/AppData/Local/Google/Chrome/User Data/CertificateRevocation/5519/LICENSE\n",
      "random move Users/feelus/AppData/Local/Google/Chrome/User Data/CertificateRevocation/5509/LICENSE\n",
      "            Users/feelus/Local Settings/Google/Chrome/User Data/CertificateRevocation/5520/LICENSE\n",
      "            Users/feelus/Local Settings/Google/Chrome/User Data/CertificateRevocation/5519/LICENSE\n",
      "            Users/feelus/Local Settings/Google/Chrome/User Data/CertificateRevocation/5518/LICENSE\n",
      "random move Users/feelus/AppData/Local/Google/Chrome/User Data/CertificateRevocation/5510/LICENSE\n",
      "            Users/feelus/Local Settings/Google/Chrome/User Data/CertificateRevocation/5519/LICENSE\n",
      "            Users/feelus/Local Settings/Google/Chrome/User Data/CertificateRevocation/5518/LICENSE\n",
      "random move Users/feelus/AppData/Local/Google/Chrome/User Data/Default/Cache/f_014a1f\n",
      "            Users/feelus/AppData/Local/Google/Chrome/User Data/Default/Cache/f_0154a8\n",
      "            Users/feelus/AppData/Local/Google/Chrome/User Data/Default/Cache/f_0157dd\n",
      "            Users/feelus/AppData/Local/Google/Chrome/User Data/Default/Cache/f_0157c7\n",
      "random move Users/feelus/AppData/Local/Google/Chrome/User Data/Default/Cache/f_014b60\n",
      "            Users/feelus/AppData/Local/Google/Chrome/User Data/Default/Cache/f_0157dd\n",
      "            Users/feelus/AppData/Local/Google/Chrome/User Data/Default/Cache/f_0157c7\n",
      "random move Users/feelus/AppData/Local/Google/Chrome/User Data/Default/Cache/f_014bed\n",
      "            Users/feelus/Local Settings/Google/Chrome/User Data/Default/Cache/f_0157dd\n",
      "            Users/feelus/Local Settings/Google/Chrome/User Data/Default/Cache/f_0157c7\n",
      "            Users/feelus/Local Settings/Google/Chrome/User Data/Default/Cache/f_0154a8\n",
      "random move Users/feelus/AppData/Local/Google/Chrome/User Data/Default/Service Worker/CacheStorage/eadf114e35641d8a14aa9648d8e1c01b4b3bb3f0/967c53cc-6ecc-41d5-af61-c91624a55693/index\n",
      "            Users/feelus/AppData/Local/Google/Chrome/User Data/Default/Service Worker/CacheStorage/eadf114e35641d8a14aa9648d8e1c01b4b3bb3f0/b525887c-7754-4d1c-9ee0-616351e1d8c0/index\n",
      "            Users/feelus/AppData/Local/Google/Chrome/User Data/Default/Service Worker/CacheStorage/eadf114e35641d8a14aa9648d8e1c01b4b3bb3f0/af97d923-3be7-4480-bdf2-421916d88c20/index\n",
      "random move Users/feelus/AppData/Local/History/History.IE5/MSHist012019101420191021/container.dat\n",
      "            Users/feelus/AppData/Local/History/History.IE5/MSHist012019111520191116/container.dat\n",
      "            Users/feelus/AppData/Local/History/History.IE5/MSHist012019111320191114/container.dat\n",
      "            Users/feelus/AppData/Local/History/History.IE5/MSHist012019110420191111/container.dat\n",
      "            Users/feelus/AppData/Local/History/History.IE5/MSHist012019111420191115/container.dat\n",
      "random move Users/feelus/AppData/Local/History/History.IE5/MSHist012019110420191105/container.dat\n",
      "            Users/feelus/AppData/Local/History/History.IE5/MSHist012019111320191114/container.dat\n",
      "            Users/feelus/AppData/Local/History/History.IE5/MSHist012019110420191111/container.dat\n",
      "            Users/feelus/AppData/Local/History/History.IE5/MSHist012019111420191115/container.dat\n",
      "random move Users/feelus/AppData/Local/History/History.IE5/MSHist012019110520191106/container.dat\n",
      "            Users/feelus/AppData/Local/History/History.IE5/MSHist012019110420191111/container.dat\n",
      "            Users/feelus/AppData/Local/History/History.IE5/MSHist012019111420191115/container.dat\n",
      "random move Users/feelus/AppData/Local/History/History.IE5/MSHist012019110720191108/container.dat\n",
      "            Users/feelus/AppData/Local/Microsoft/Windows/History/History.IE5/MSHist012019111420191115/container.dat\n",
      "            Users/feelus/AppData/Local/Microsoft/Windows/History/History.IE5/MSHist012019110420191111/container.dat\n",
      "            Users/feelus/AppData/Local/Microsoft/Windows/History/History.IE5/MSHist012019111320191114/container.dat\n",
      "            Users/feelus/AppData/Local/Microsoft/Windows/History/History.IE5/MSHist012019111520191116/container.dat\n",
      "random move Users/feelus/AppData/Local/History/History.IE5/MSHist012019110820191109/container.dat\n",
      "            Users/feelus/AppData/Local/Microsoft/Windows/History/History.IE5/MSHist012019110420191111/container.dat\n",
      "            Users/feelus/AppData/Local/Microsoft/Windows/History/History.IE5/MSHist012019111320191114/container.dat\n",
      "            Users/feelus/AppData/Local/Microsoft/Windows/History/History.IE5/MSHist012019111520191116/container.dat\n",
      "random move Users/feelus/AppData/Local/History/History.IE5/MSHist012019110920191110/container.dat\n",
      "            Users/feelus/AppData/Local/Microsoft/Windows/History/History.IE5/MSHist012019111320191114/container.dat\n",
      "            Users/feelus/AppData/Local/Microsoft/Windows/History/History.IE5/MSHist012019111520191116/container.dat\n",
      "random move Users/feelus/AppData/Local/Microsoft/Windows/History/History.IE5/MSHist012019110420191105/container.dat\n",
      "            Users/feelus/Local Settings/Microsoft/Windows/History/History.IE5/MSHist012019110420191111/container.dat\n",
      "            Users/feelus/Local Settings/Microsoft/Windows/History/History.IE5/MSHist012019111520191116/container.dat\n",
      "            Users/feelus/Local Settings/History/History.IE5/MSHist012019111520191116/container.dat\n",
      "            Users/feelus/Local Settings/Microsoft/Windows/History/History.IE5/MSHist012019111320191114/container.dat\n",
      "            Users/feelus/Local Settings/History/History.IE5/MSHist012019111420191115/container.dat\n",
      "            Users/feelus/Local Settings/Microsoft/Windows/History/History.IE5/MSHist012019111420191115/container.dat\n",
      "            Users/feelus/Local Settings/History/History.IE5/MSHist012019111320191114/container.dat\n",
      "            Users/feelus/Local Settings/History/History.IE5/MSHist012019110420191111/container.dat\n",
      "random move Users/feelus/AppData/Local/Microsoft/Windows/History/History.IE5/MSHist012019110520191106/container.dat\n",
      "            Users/feelus/Local Settings/Microsoft/Windows/History/History.IE5/MSHist012019111520191116/container.dat\n",
      "            Users/feelus/Local Settings/History/History.IE5/MSHist012019111520191116/container.dat\n",
      "            Users/feelus/Local Settings/Microsoft/Windows/History/History.IE5/MSHist012019111320191114/container.dat\n",
      "            Users/feelus/Local Settings/History/History.IE5/MSHist012019111420191115/container.dat\n",
      "            Users/feelus/Local Settings/Microsoft/Windows/History/History.IE5/MSHist012019111420191115/container.dat\n",
      "            Users/feelus/Local Settings/History/History.IE5/MSHist012019111320191114/container.dat\n",
      "            Users/feelus/Local Settings/History/History.IE5/MSHist012019110420191111/container.dat\n",
      "random move Users/feelus/AppData/Local/Microsoft/Windows/History/History.IE5/MSHist012019110620191107/container.dat\n",
      "            Users/feelus/Local Settings/History/History.IE5/MSHist012019111520191116/container.dat\n",
      "            Users/feelus/Local Settings/Microsoft/Windows/History/History.IE5/MSHist012019111320191114/container.dat\n",
      "            Users/feelus/Local Settings/History/History.IE5/MSHist012019111420191115/container.dat\n",
      "            Users/feelus/Local Settings/Microsoft/Windows/History/History.IE5/MSHist012019111420191115/container.dat\n",
      "            Users/feelus/Local Settings/History/History.IE5/MSHist012019111320191114/container.dat\n",
      "            Users/feelus/Local Settings/History/History.IE5/MSHist012019110420191111/container.dat\n",
      "random move Users/feelus/AppData/Local/Microsoft/Windows/History/History.IE5/MSHist012019110720191108/container.dat\n",
      "            Users/feelus/Local Settings/Microsoft/Windows/History/History.IE5/MSHist012019111320191114/container.dat\n",
      "            Users/feelus/Local Settings/History/History.IE5/MSHist012019111420191115/container.dat\n",
      "            Users/feelus/Local Settings/Microsoft/Windows/History/History.IE5/MSHist012019111420191115/container.dat\n",
      "            Users/feelus/Local Settings/History/History.IE5/MSHist012019111320191114/container.dat\n",
      "            Users/feelus/Local Settings/History/History.IE5/MSHist012019110420191111/container.dat\n",
      "random move Users/feelus/AppData/Local/Microsoft/Windows/History/History.IE5/MSHist012019110820191109/container.dat\n",
      "            Users/feelus/Local Settings/History/History.IE5/MSHist012019111320191114/container.dat\n",
      "            Users/feelus/Local Settings/History/History.IE5/MSHist012019111420191115/container.dat\n",
      "            Users/feelus/Local Settings/History/History.IE5/MSHist012019110420191111/container.dat\n",
      "            Users/feelus/Local Settings/Microsoft/Windows/History/History.IE5/MSHist012019111420191115/container.dat\n",
      "random move Users/feelus/AppData/Local/Microsoft/Windows/History/History.IE5/MSHist012019110920191110/container.dat\n",
      "            Users/feelus/Local Settings/History/History.IE5/MSHist012019111420191115/container.dat\n",
      "            Users/feelus/Local Settings/History/History.IE5/MSHist012019110420191111/container.dat\n",
      "            Users/feelus/Local Settings/Microsoft/Windows/History/History.IE5/MSHist012019111420191115/container.dat\n",
      "random move Users/feelus/AppData/Local/Microsoft/Windows/Temporary Internet Files/Content.IE5/2X0H7CP9/manifest[5].json\n",
      "            Users/feelus/AppData/Local/Microsoft/Windows/Temporary Internet Files/Content.IE5/3NR8AMEH/manifest[4].json\n",
      "            Users/feelus/AppData/Local/Microsoft/Windows/Temporary Internet Files/Content.IE5/D9EWKRAV/manifest[8].json\n",
      "random move Users/feelus/AppData/Local/Microsoft/Windows/Temporary Internet Files/Content.IE5/2X0H7CP9/_[1].gif\n",
      "            Users/feelus/AppData/Local/Microsoft/Windows/Temporary Internet Files/Content.IE5/D9EWKRAV/_[1].gif\n",
      "            Users/feelus/AppData/Local/Microsoft/Windows/Temporary Internet Files/Content.IE5/2U1ZX6KI/_[1].gif\n",
      "random move Users/feelus/AppData/Local/Temporary Internet Files/Content.IE5/2X0H7CP9/manifest[5].json\n",
      "            Users/feelus/AppData/Local/Temporary Internet Files/Content.IE5/D9EWKRAV/manifest[8].json\n",
      "            Users/feelus/AppData/Local/Temporary Internet Files/Content.IE5/3NR8AMEH/manifest[4].json\n",
      "random move Users/feelus/AppData/Local/Temporary Internet Files/Content.IE5/2X0H7CP9/_[1].gif\n",
      "            Users/feelus/AppData/Local/Temporary Internet Files/Content.IE5/D9EWKRAV/_[1].gif\n",
      "            Users/feelus/AppData/Local/Temporary Internet Files/Content.IE5/2U1ZX6KI/_[1].gif\n",
      "random move Users/feelus/Local Settings/Google/Chrome/User Data/Default/Cache/f_014a1f\n",
      "            Users/feelus/Local Settings/Google/Chrome/User Data/Default/Cache/f_0157c7\n",
      "            Users/feelus/Local Settings/Google/Chrome/User Data/Default/Cache/f_0154a8\n",
      "random move Users/feelus/Local Settings/Google/Chrome/User Data/Default/Service Worker/CacheStorage/eadf114e35641d8a14aa9648d8e1c01b4b3bb3f0/967c53cc-6ecc-41d5-af61-c91624a55693/index\n",
      "            Users/feelus/Local Settings/Google/Chrome/User Data/Default/Service Worker/CacheStorage/eadf114e35641d8a14aa9648d8e1c01b4b3bb3f0/af97d923-3be7-4480-bdf2-421916d88c20/index\n",
      "            Users/feelus/Local Settings/Google/Chrome/User Data/Default/Service Worker/CacheStorage/eadf114e35641d8a14aa9648d8e1c01b4b3bb3f0/b525887c-7754-4d1c-9ee0-616351e1d8c0/index\n",
      "random move Users/feelus/Local Settings/History/History.IE5/MSHist012019110520191106/container.dat\n",
      "            Users/feelus/Local Settings/Google/Chrome/User Data/Default/File System/033/t/Paths/000003.log\n",
      "            Users/feelus/Local Settings/Google/Chrome/User Data/Default/File System/033/t/Paths/LOCK\n",
      "random move Users/feelus/Local Settings/History/History.IE5/MSHist012019110720191108/container.dat\n",
      "            Users/feelus/AppData/Local/Google/Chrome/User Data/Default/File System/033/t/Paths/000003.log\n",
      "            Users/feelus/AppData/Local/Google/Chrome/User Data/Default/File System/033/t/Paths/LOCK\n",
      "random move Users/feelus/Local Settings/Microsoft/Windows/Temporary Internet Files/Content.IE5/2X0H7CP9/manifest[5].json\n",
      "            Users/feelus/Local Settings/Microsoft/Windows/Temporary Internet Files/Content.IE5/D9EWKRAV/manifest[8].json\n",
      "            Users/feelus/Local Settings/Microsoft/Windows/Temporary Internet Files/Content.IE5/3NR8AMEH/manifest[4].json\n",
      "random move Users/feelus/Local Settings/Microsoft/Windows/Temporary Internet Files/Content.IE5/2X0H7CP9/_[1].gif\n",
      "            Users/feelus/Local Settings/Microsoft/Windows/Temporary Internet Files/Content.IE5/D9EWKRAV/_[1].gif\n",
      "            Users/feelus/Local Settings/Microsoft/Windows/Temporary Internet Files/Content.IE5/2U1ZX6KI/_[1].gif\n",
      "random move Users/feelus/Local Settings/Temporary Internet Files/Content.IE5/2X0H7CP9/manifest[5].json\n",
      "            Users/feelus/Local Settings/Temporary Internet Files/Content.IE5/D9EWKRAV/manifest[8].json\n",
      "            Users/feelus/Local Settings/Temporary Internet Files/Content.IE5/3NR8AMEH/manifest[4].json\n",
      "random move Users/feelus/Local Settings/Temporary Internet Files/Content.IE5/2X0H7CP9/_[1].gif\n",
      "            Users/feelus/Local Settings/Temporary Internet Files/Content.IE5/D9EWKRAV/_[1].gif\n",
      "            Users/feelus/Local Settings/Temporary Internet Files/Content.IE5/2U1ZX6KI/_[1].gif\n"
     ]
    },
    {
     "data": {
      "text/plain": [
       "True"
      ]
     },
     "execution_count": 18,
     "metadata": {},
     "output_type": "execute_result"
    }
   ],
   "source": [
    "root_d     =     root\n",
    "old_root_d = old_root\n",
    "\n",
    "#root_d = {\n",
    "#    'data_reduction_proxy_leveldb':root_d['data_reduction_proxy_leveldb'], \n",
    "#    'File System':root_d['File System']\n",
    "#}\n",
    "#old_root_d = {\n",
    "#    'data_reduction_proxy_leveldb':old_root_d['data_reduction_proxy_leveldb'], \n",
    "#    'File System':old_root_d['File System']\n",
    "#}\n",
    "\n",
    "modified,old,new,strict_old,strict_new,touched = path_diff(old_root_d,root_d)\n",
    "assert set(old)&set(strict_old) == set()\n",
    "assert set(new)&set(strict_new) == set()\n",
    "moved,old_dirs,new_dirs,old,new = hash_diff(old,new,verbose=2)\n",
    "assert set(old)&set(strict_old) == set()\n",
    "assert set(new)&set(strict_new) == set()\n",
    "\n",
    "new_root_d = hash_patch(old_root_d,modified,moved,old_dirs,new_dirs,\n",
    "                      {**old,**strict_old},{**new,**strict_new},touched)\n",
    "first_diff(root_d,new_root_d)"
   ]
  },
  {
   "cell_type": "code",
   "execution_count": 12,
   "metadata": {
    "ExecuteTime": {
     "end_time": "2019-11-17T07:10:14.489355Z",
     "start_time": "2019-11-17T07:10:13.473297Z"
    }
   },
   "outputs": [
    {
     "data": {
      "text/plain": [
       "True"
      ]
     },
     "execution_count": 12,
     "metadata": {},
     "output_type": "execute_result"
    }
   ],
   "source": [
    "first_diff(root,new_root)"
   ]
  },
  {
   "cell_type": "code",
   "execution_count": 13,
   "metadata": {
    "ExecuteTime": {
     "end_time": "2019-11-17T07:10:14.825374Z",
     "start_time": "2019-11-17T07:10:14.491355Z"
    },
    "scrolled": false
   },
   "outputs": [
    {
     "name": "stdout",
     "output_type": "stream",
     "text": [
      "3173\n",
      "3799\n",
      "--- ITERATION ---\n",
      "--- FINAL ITERATION ---\n"
     ]
    }
   ],
   "source": [
    "from copy import *\n",
    "\n",
    "len(old)\n",
    "old_d = {}#deepcopy(old)\n",
    "keys = [k for k in old.keys()]\n",
    "for k in keys:#[2554:]:\n",
    "    old_d[k]=deepcopy(old[k])\n",
    "print(len(old_d))\n",
    "\n",
    "len(new)\n",
    "new_d = {}#deepcopy(old)\n",
    "keys = [k for k in new.keys()]\n",
    "for k in keys:#[3164:-1]:\n",
    "    new_d[k]=deepcopy(new[k])\n",
    "print(len(new_d))\n",
    "\n",
    "#print(myjson_dumps(path_patch_dump({},old_d,new_d,{},{})))\n",
    "\n",
    "r = hash_diff(old_d,new_d)\n"
   ]
  },
  {
   "cell_type": "code",
   "execution_count": 14,
   "metadata": {
    "ExecuteTime": {
     "end_time": "2019-11-17T07:10:14.847375Z",
     "start_time": "2019-11-17T07:10:14.833375Z"
    }
   },
   "outputs": [
    {
     "name": "stdout",
     "output_type": "stream",
     "text": [
      "1\n",
      "3\n"
     ]
    }
   ],
   "source": [
    "x = {1:2,3:4}\n",
    "for y in x:\n",
    "    print(y)"
   ]
  },
  {
   "cell_type": "code",
   "execution_count": 15,
   "metadata": {
    "ExecuteTime": {
     "end_time": "2019-11-17T07:10:14.959382Z",
     "start_time": "2019-11-17T07:10:14.866377Z"
    },
    "scrolled": true
   },
   "outputs": [
    {
     "name": "stdout",
     "output_type": "stream",
     "text": [
      "--- ITERATION ---\n",
      "--- FINAL ITERATION ---\n",
      "moved [(('a', 'b'), ('b', 'd'), [1, 1, '1'], [2, 2, '1']), (('a', 'c'), ('b', 'c'), [1, 1, '1'], [2, 2, '1'])]\n",
      "old {}\n",
      "new {}\n",
      "old1 {}\n",
      "new1 {}\n"
     ]
    }
   ],
   "source": [
    "if 0:\n",
    "    old = {\n",
    "        ('a','b'):[1,1,'1']\n",
    "    }\n",
    "    new = {\n",
    "        ('b','c'):[2,2,'2']\n",
    "    }\n",
    "if 0:\n",
    "    old = {\n",
    "        ('a','b'):[1,1,'1']\n",
    "    }\n",
    "    new = {\n",
    "        ('b','c'):[2,2,'1']\n",
    "    }\n",
    "if 0:\n",
    "    old = {\n",
    "        ('a','b'):[1,1,'1'],\n",
    "        ('a','c'):[1,1,'1'],\n",
    "    }\n",
    "    new = {\n",
    "        ('b','c'):[2,2,'1']\n",
    "    }\n",
    "if 1:\n",
    "    old = {\n",
    "        ('a','b'):[1,1,'1'],\n",
    "        ('a','c'):[1,1,'1'],\n",
    "    }\n",
    "    new = {\n",
    "        ('b','c'):[2,2,'1'],\n",
    "        ('b','d'):[2,2,'1'],\n",
    "    }\n",
    "r = hash_diff(old,new)\n",
    "\n",
    "print('moved',r[0])\n",
    "print('old',r[1])\n",
    "print('new',r[2])\n",
    "print('old1',r[3])\n",
    "print('new1',r[4])\n"
   ]
  },
  {
   "cell_type": "code",
   "execution_count": 16,
   "metadata": {
    "ExecuteTime": {
     "end_time": "2019-11-17T07:10:15.075388Z",
     "start_time": "2019-11-17T07:10:14.967382Z"
    }
   },
   "outputs": [
    {
     "name": "stdout",
     "output_type": "stream",
     "text": [
      "'1573419205.4468744 99814502 None'\n"
     ]
    },
    {
     "data": {
      "text/plain": [
       "[1573419205.4468744, 99814502, None]"
      ]
     },
     "execution_count": 16,
     "metadata": {},
     "output_type": "execute_result"
    }
   ],
   "source": [
    "x = deepcopy(root['.files']['111.json'])\n",
    "x[2] = None\n",
    "s = tree_dump(x)\n",
    "print(repr(s))\n",
    "s = s.split(' ')\n",
    "s[0] = float(s[0])\n",
    "s[1] = int(s[1])\n",
    "if s[2]=='None': s[2]=None\n",
    "s"
   ]
  },
  {
   "cell_type": "code",
   "execution_count": 17,
   "metadata": {
    "ExecuteTime": {
     "end_time": "2019-11-17T07:10:15.179394Z",
     "start_time": "2019-11-17T07:10:15.084389Z"
    }
   },
   "outputs": [
    {
     "data": {
      "text/plain": [
       "True"
      ]
     },
     "execution_count": 17,
     "metadata": {},
     "output_type": "execute_result"
    }
   ],
   "source": [
    "'//block 12'.startswith('//block')"
   ]
  },
  {
   "cell_type": "code",
   "execution_count": null,
   "metadata": {},
   "outputs": [],
   "source": []
  }
 ],
 "metadata": {
  "hide_input": false,
  "kernelspec": {
   "display_name": "Python 3",
   "language": "python",
   "name": "python3"
  },
  "language_info": {
   "codemirror_mode": {
    "name": "ipython",
    "version": 3
   },
   "file_extension": ".py",
   "mimetype": "text/x-python",
   "name": "python",
   "nbconvert_exporter": "python",
   "pygments_lexer": "ipython3",
   "version": "3.6.7"
  }
 },
 "nbformat": 4,
 "nbformat_minor": 2
}
