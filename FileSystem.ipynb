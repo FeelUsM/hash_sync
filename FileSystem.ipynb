{
 "cells": [
  {
   "cell_type": "code",
   "execution_count": 6,
   "metadata": {
    "ExecuteTime": {
     "end_time": "2020-07-21T12:41:47.642862Z",
     "start_time": "2020-07-21T12:41:47.638862Z"
    }
   },
   "outputs": [],
   "source": [
    "import winreg as reg\n",
    "import json\n",
    "from tree_tools import *\n",
    "\n",
    "import json_diff as jd\n",
    "comp = jd.Comparator()"
   ]
  },
  {
   "cell_type": "code",
   "execution_count": 7,
   "metadata": {
    "ExecuteTime": {
     "end_time": "2020-07-21T12:41:47.919878Z",
     "start_time": "2020-07-21T12:41:47.916878Z"
    }
   },
   "outputs": [],
   "source": [
    "import reg_diff"
   ]
  },
  {
   "cell_type": "code",
   "execution_count": null,
   "metadata": {
    "ExecuteTime": {
     "start_time": "2020-07-21T12:41:48.540Z"
    }
   },
   "outputs": [
    {
     "name": "stdout",
     "output_type": "stream",
     "text": [
      "C:/\t2020-07-21 15-41-48+0300\n",
      "simple update\n",
      "('HKEY_CURRENT_USER', 'Software', 'Classes', 'Wow6432Node', 'CLSID') 12 285211568\n",
      "('HKEY_USERS', 'S-1-5-21-281476240-1351446808-3602091694-1000', 'Software', 'Classes', 'Wow6432Node', 'CLSID') 12 2891600\n",
      "('HKEY_USERS', 'S-1-5-21-281476240-1351446808-3602091694-1000_Classes', 'Wow6432Node', 'CLSID') 12 2891600\n",
      "start writing\n",
      "writed .reg/last_snapshot 2020-07-21 15-41-48+0300.json\n",
      "patch: dict_keys(['/HKEY_CURRENT_USER//Software', '/HKEY_USERS', '/HKEY_LOCAL_MACHINE', '/HKEY_CLASSES_ROOT//Local Settings//Software//Microsoft//Windows//Shell//BagMRU/_MRUListEx', '/HKEY_PERFORMANCE_DATA'])\n",
      "start writing\n",
      "writed .reg/patch 2020-07-21 15-31-17+0300 to 2020-07-21 15-41-48+0300.json\n"
     ]
    }
   ],
   "source": [
    "reg_diff.last_diff_reg('C:\\\\')"
   ]
  },
  {
   "cell_type": "code",
   "execution_count": 4,
   "metadata": {
    "ExecuteTime": {
     "end_time": "2020-07-21T12:32:37.587401Z",
     "start_time": "2020-07-21T12:32:37.496396Z"
    }
   },
   "outputs": [
    {
     "data": {
      "text/plain": [
       "38"
      ]
     },
     "execution_count": 4,
     "metadata": {},
     "output_type": "execute_result"
    }
   ],
   "source": [
    "l = list(p1['modified_from'].keys())\n",
    "len(l)"
   ]
  },
  {
   "cell_type": "code",
   "execution_count": 5,
   "metadata": {
    "ExecuteTime": {
     "end_time": "2020-07-21T12:32:37.622403Z",
     "start_time": "2020-07-21T12:32:37.596401Z"
    }
   },
   "outputs": [
    {
     "data": {
      "text/plain": [
       "('HKEY_CURRENT_USER',\n",
       " '/Software',\n",
       " '/Microsoft',\n",
       " '/Windows',\n",
       " '/CurrentVersion',\n",
       " '/Explorer',\n",
       " '/UserAssist',\n",
       " '/{CEBFF5CD-ACE2-4F4F-9178-9926F41749EA}',\n",
       " '/Count',\n",
       " '_HRZR_PGYFRFFVBA')"
      ]
     },
     "execution_count": 5,
     "metadata": {},
     "output_type": "execute_result"
    }
   ],
   "source": [
    "l[0]"
   ]
  },
  {
   "cell_type": "code",
   "execution_count": 6,
   "metadata": {
    "ExecuteTime": {
     "end_time": "2020-07-21T12:30:03.996616Z",
     "start_time": "2020-07-21T12:30:03.980615Z"
    }
   },
   "outputs": [
    {
     "data": {
      "text/plain": [
       "[1, '']"
      ]
     },
     "execution_count": 6,
     "metadata": {},
     "output_type": "execute_result"
    }
   ],
   "source": [
    "p1['modified_from'][('HKEY_CLASSES_ROOT', '/*', '/OpenWithList', '/MSPaint.exe', '_')]"
   ]
  },
  {
   "cell_type": "code",
   "execution_count": 7,
   "metadata": {
    "ExecuteTime": {
     "end_time": "2020-07-21T12:30:04.671655Z",
     "start_time": "2020-07-21T12:30:04.648653Z"
    }
   },
   "outputs": [
    {
     "data": {
      "text/plain": [
       "[1, '']"
      ]
     },
     "execution_count": 7,
     "metadata": {},
     "output_type": "execute_result"
    }
   ],
   "source": [
    "p1['modified_to'][('HKEY_CLASSES_ROOT', '/*', '/OpenWithList', '/MSPaint.exe', '_')]"
   ]
  },
  {
   "cell_type": "code",
   "execution_count": null,
   "metadata": {},
   "outputs": [],
   "source": []
  },
  {
   "cell_type": "code",
   "execution_count": null,
   "metadata": {},
   "outputs": [],
   "source": []
  },
  {
   "cell_type": "code",
   "execution_count": null,
   "metadata": {},
   "outputs": [],
   "source": []
  },
  {
   "cell_type": "code",
   "execution_count": null,
   "metadata": {},
   "outputs": [],
   "source": []
  },
  {
   "cell_type": "code",
   "execution_count": null,
   "metadata": {},
   "outputs": [],
   "source": []
  },
  {
   "cell_type": "code",
   "execution_count": null,
   "metadata": {},
   "outputs": [],
   "source": []
  },
  {
   "cell_type": "code",
   "execution_count": 11,
   "metadata": {
    "ExecuteTime": {
     "end_time": "2020-07-21T08:44:43.657802Z",
     "start_time": "2020-07-21T08:44:30.915073Z"
    }
   },
   "outputs": [],
   "source": [
    "d = comp.compare_dicts(a,b)"
   ]
  },
  {
   "cell_type": "code",
   "execution_count": 12,
   "metadata": {
    "ExecuteTime": {
     "end_time": "2020-07-21T08:44:45.499907Z",
     "start_time": "2020-07-21T08:44:45.493907Z"
    }
   },
   "outputs": [
    {
     "data": {
      "text/plain": [
       "dict_keys(['HKEY_USERS', 'HKEY_LOCAL_MACHINE', 'HKEY_CURRENT_USER', 'HKEY_CURRENT_CONFIG', 'HKEY_CLASSES_ROOT', 'HKEY_PERFORMANCE_DATA'])"
      ]
     },
     "execution_count": 12,
     "metadata": {},
     "output_type": "execute_result"
    }
   ],
   "source": [
    "d['_update'].keys()"
   ]
  },
  {
   "cell_type": "code",
   "execution_count": 13,
   "metadata": {
    "ExecuteTime": {
     "end_time": "2020-07-21T08:44:46.796981Z",
     "start_time": "2020-07-21T08:44:46.781980Z"
    }
   },
   "outputs": [
    {
     "data": {
      "text/plain": [
       "dict_keys(['/Equation.DGEE2', '/OTB.ExcelTab', '/LR.LexRefBilingualTextContext.1.0', '/JavaScript1.2 Author', '/qedit.DxtCompositor', '/ttcfile', '/Skype4COM.CallChannelCollection', '/STSServer.EnumSTSALTINFO', '/System.Collections.Generic.KeyNotFoundException', '/OPCFile', '/Groove.GrooveFormsSandbox', '/Search.GathererLogFileProvider', '/SAPI.SpNullPhoneConverter', '/Groove.LaunchpadApplication', '/SAPI.SPNotify.1', '/VSTA_IP.vbproj.8.0', '/OutlSMTPPH.1', '/Groove.OutlookUtil', '/KLCP.WMP.ogm', '/IAS.PostEapRestrictions', '/PeerDraw.PeerDraw', '/.mig', '/.hxf', '/AzRoles.AzBizRuleContext.1', '/Groove.PseudoDocumentShareEngine', '/System.Runtime.Serialization.Formatters.InternalRM', '/Diagnostic.Perfmon.Document', '/SAPI.SpPhraseInfoBuilder', '/ptdobj.PTDPropBag', '/Microsoft.MediaCenter.GlidHost.ScanConfigWrapper', '/Ietag.EvtSink', '/3dsstp', '/DeviceDisplayObject', '/Epsilon', '/System.Security.Policy.TrustManagerContext', '/Forms.Image.1', '/JobObjIOActgInfoProv.JobObjIOActgInfoProv', '/GoogleUpdate.CoreClass.1', '/.ex5', '/System.Threading.SynchronizationLockException', '/VisualStudio.Launcher._vjsxsln80', '/VLC.aac', '/.gz', '/PDictEdit.SR.4', '/Groove.SoapSecurityFactory', '/GrooveFile', '/.xsn', '/PowerPoint.Slide.4', '/.sed', '/WMP11.AssocFile.ASX', '/SAPI.SpGrammarCompiler.1', '/CID.Local', '/j2kfile', '/opendocument.WriterWebTemplate.1', '/.sym', '/SDSnapinAbout.1', '/.ged', '/igfx.Scheme.1', '/Perfect World Entertainment', '/VSTA.user.8.0', '/.cpp', '/.vsdx', '/ehVid.TVThumb.1', '/OWS.WordUI.2', '/System.NotSupportedException', '/Groove.DocumentShareView', '/MMC20.Application.1', '/.rc2', '/BDATuner.AnalogTVTuningSpace', '/.ogg', '/PrmtLDB.PromtDictionaries', '/mapifvbx.object', '/Groove.CommunicationsStatusAndControlServices', '/Codejock.TabControl.13.4.2', '/AcroExch.Document.7', '/System.ContextStaticAttribute', '/webpnpFile', '/System.Runtime.CompilerServices.CompilerGlobalScopeAttribute', '/.jfw', '/Groove.WebGFS', '/eHome.MhegAddIn.1', '/MSOlapAdmin2.MSOLAPSource.1', '/DXImageTransform.Microsoft.CrBlinds.1', '/VLC.aifc', '/MailMsgAtt', '/lmxfile', '/VisioViewerDWGDisplayCreator.VisioViewerDWGDisplayCreator', '/.pptxml', '/.xlsmhtml', '/BDATuner.Components.1', '/Groove.ComponentCache', '/BDATuner.DigitalCableTuningSpace.1', '/FunctionDiscovery.UMBusDriver', '/MsoRun.AnimRotationDHTMLBehavior.1', '/System.EnterpriseServices.RegistrationHelper', '/eHome.McxAsyncRemotePlayer', '/.mp3', '/Groove.DefaultSkin', '/CplExt.ViaVoipPropPage', '/SBEServer.DataBurner', '/Codejock.ProgressBar.13.4.2', '/.mas', '/.ozf2', '/Microsoft.Update.ServiceManager', '/.pgm', '/UPnP.DescriptionDocument', '/VSFileHandler.VsShellExtHandler.1', '/igfxsrvc.MCCS', '/StdFont', '/SpeechUX.SpeechUXHost', '/Microsoft.JScript.DebugConvert', '/Excel.Workspace', '/STSInproc.SpeechTextService', '/ASHRAEDuctDll.clsASHRAEDuct', '/Groove.DVOLog', '/MSOlapAdmin2.MSOLAPAuxiliarie', '/odtfile', '/IMAPI2.MsftDiscFormat2Data', '/VisualStudio.user.8.0', '/VLC.mka', '/OpenOffice.Docx', '/MiKTeX.ltx.2.9', '/Equation.RSEE4', '/FSLoaderParser2.DefinitionParser.1', '/HtmTxt.PromtHtmTxtFileConverter', '/IMEAPI.CImeRequestSenderJK.1', '/DAO.DBEngine.120', '/X509Enrollment.CX509Attributes', '/PRMTLIB.PromtTMOptionsCtrl.4', '/System.Threading.ReaderWriterLock', '/FX.Rowset.1', '/X509Enrollment.CCryptAttribute', '/bsg_auto_file', '/VsWizard.WizCombo.8.0', '/IAS.NTSamAuthentication.1', '/.vdx', '/VLC.ogm', '/Wired.Extension', '/.bwt', '/.WSH', '/LR.LexRefXml2RTFObject.1.0.1', '/FunctionDiscovery.PropertyStoreCollection', '/.ascx', '/.sql', '/IAS.EAPTypes.1', '/System.Reflection.AssemblyNameProxy', '/.mk', '/OneNote.OutlookAddin', '/HardLink.Copyhook', '/ScriptletHandler.ASP', '/ADsSecurityUtility', '/JavaPlugin.112312', '/ADOX.Group.6.0', '/.com', '/GoogleUpdate.PolicyStatus.1.0', '/VLC.m2ts', '/PrmtDServices.PromtSpellCheckManager', '/TabIps.InkItem.1', '/Groove.GrooveFilesToolObject', '/System.Collections.SortedList', '/KLCP.WMP.mkv', '/System.Runtime.Remoting.Metadata.W3cXsd2001.SoapIdrefs', '/IAS.NTEventLog', '/GoogleUpdate.Update3COMClassService', '/opendocument.WriterWebDocument', '/SBEServer.VideoAudioBurner.1', '/ImgUtil.CoDitherToRGB8.1', '/Word95Txt.PromtWord95TxtFileConverter', '/.xcs', '/publisherhtmlfile', '/AMOVIE.ActiveMovie Control', '/PrmtPro.PromtUser.3', '/PLA.TraceSessionCollection', '/UmOutlookAddin.PlayOnPhoneDlg.1', '/SharePoint.StssyncHandler.2', '/OLE DB Rowset Server', '/.qcp', '/WlanPref.WlanPrefLUA', '/ptdsvr.PTDMemories.3', '/.uos', '/CDO.SS_NNTPOnPostFinalSink', '/System.Security.Permissions.HostProtectionAttribute', '/LibreOffice.Svg', '/.v', '/Speech.VoiceText', '/Groove.AssignRolesGlueCode', '/OWS.DiscussionServers.2', '/Search.FileHandler.1', '/igfxTMM.CloneViewHelper.1', '/HtmRtf.PromtRtfHtmFileConverter.3', '/FaxCommon.1', '/JNTFilter.JNTFilter', '/STLFile', '/SAPI.SpCustomStream.1', '/WMP11.AssocMIME.AVI', '/LibreOffice.Wmf', '/Groove.ContactListCode', '/LibreOffice.Uos', '/.trk', '/IImgCtx', '/EapMschapv2Cfg.EapMschapv2Cfg', '/.crds', '/BDATuner.ATSCTuningSpace.1', '/.chm', '/PrmAct.PromtActivation', '/Coloader.VsFreeLoader.8.0', '/Search.CustomWordbreaker.1', '/LocationDisp.LatLongReportFactory.1', '/Groove.ChatFilter', '/PropVariantCollection.PropVariantCollection.1', '/Msxml2.XMLHTTP.5.0', '/Equation.QTEE2', '/System.Security.Policy.GacMembershipCondition', '/.html', '/.oxps', '/LR.LexRefEnglishStemmer.1.0.1', '/Groove.WebSpaces', '/Search.MapPI.1', '/SQLXMLX.1', '/Search.MapPI', '/VLC.asf', '/COMSNAP.COMNSView.1', '/32Folder', '/Word.OpenDocumentText.12', '/.mdf', '/.psc1', '/DAO.Relation.35', '/Coloader.VsApartmentLoader.1', '/MediaCatalogMMW', '/MSPowerPoint', '/ScriptDebugEngine.7', '/Workspace.ResTypeRegistry.1', '/Coloader.VsApartmentLoader', '/Groove.GFSSpaceGeneralGlueCode', '/CAPICOM.Attribute.1', '/MSDAORA', '/System.Runtime.Remoting.Metadata.W3cXsd2001.SoapNmtokens', '/.flac', '/System.Security.XmlSyntaxException', '/.icc', '/System.EnterpriseServices.Internal.ClrObjectFactory', '/X509Enrollment.CCertPropertyDescription.1', '/LibreOffice.Xls', '/Internet.HHCtrl', '/HtmlDlgSafeHelper.HtmlDlgSafeHelper', '/.au', '/Equation.2', '/.5vw', '/EventSystem.EventSystem.1', '/.mmw', '/BMPFilter.CoBMPFilter.1', '/Groove.TimingCheck', '/VLC.vob', '/PhotoViewer.FileAssoc.JFIF', '/Search.GatherMgr.1', '/Groove.RVP2RAMP', '/._sln', '/System.DllNotFoundException', '/MSComctlLib.ListViewCtrl', '/.config', '/System.ApplicationException', '/Mathematica.CopernicIndexer', '/SppComApi.ElevationConfig', '/.met', '/System.IO.FileNotFoundException', '/Groove.MessengerContacts', '/ADODB.Error', '/COMSNAP.CPartitionNotify.1', '/.soh', '/WindowsSideShow.SideShowClassExtension', '/MSExtOrganization', '/VisioViewerDWGDisplay.VisioViewerDWGDisplay', '/System.Object', '/Groove.AccountUIErrorHelper', '/System.Runtime.Remoting.Services.TrackingServices', '/.602', '/MSVidCtl.MSVidVideoRenderer.1', '/CryptSig.CryptSig', '/VSTA.dtd.8.0', '/CorrEngine.CorrelationEngine.1', '/VLC.pls', '/.sit', '/WECAPI5.FpwUser3', '/Microsoft.DirectMusicCollection', '/Codejock.TreeView.13.4.2', '/xmlfile', '/PrmtDServices.PromtSpellCheckManager.3', '/MSOlapAdmin2.MSOLAPAuxiliaries', '/Journal.JournalReader', '/.onetoc', '/MiDocViewer.MiRioEventSink', '/ITIR.LocalGroupArray', '/.hxc', '/.123', '/Search.TripoliIndexer.1', '/PRMTLIB.PromtDirListCtrl.4', '/ckan', '/qedit.RenderEngine.1', '/.mdw', '/System.Resources.MissingSatelliteAssemblyException', '/Groove.WebTransceiver', '/MAPI/Attachment', '/OWS.PostData', '/LocationDisp.CivicAddressReportFactory.1', '/file', '/ImgUtil.CoSniffStream', '/PromtSmartFoldersShellExt.PromtSmartFoldersShellExt.2', '/Udtool.UserDicManager', '/System.Runtime.Remoting.Lifetime.LifetimeServices', '/DocWrap.DocWrap.1', '/progId_VirtualBox.Shell.vbox', '/IAS.AbsoluteTime', '/.dbs', '/TipAutoCompleteClient.TipAutoCompleteClient.1', '/Microsoft.DirectMusicSegTriggerTrack', '/Msxml2.SAXAttributes.5.0', '/teamviewer10', '/Excel.SheetBinaryMacroEnabled', '/IAS.SHV.1', '/.adc', '/LibreOffice.WriterDocument', '/Search.CollatorDSO', '/WSCommCntr4.CommCntrChannelCollection', '/.exe', '/Excel.SheetMacroEnabled', '/.resx', '/.odf', '/RemoteHelper.RemoteHelper', '/Groove.WebGFSProperties', '/Skype4COM.Command.1', '/ADOX.Index.6.0', '/Microsoft.XMLHTTP.1.0', '/CertificateAuthority.EncodeDateArray.1', '/IAS.IasHelper.1', '/eHome.McxRemoteFilePlayer', '/.SpiderSolitaireSave-ms', '/Microsoft.PowerShellXMLData.1', '/.gta', '/System.Runtime.Remoting.Metadata.SoapFieldAttribute', '/.fig', '/.ppm', '/KmSvc.CKmsCertEnroll', '/.xss', '/MSOlapAdmin2.MSOLAPDetail', '/VSJITDebug.7', '/.prc', '/RowPosition.RowPosition.1', '/JobObject', '/.easmx', '/GIMP-2.8-gih', '/Microsoft.DirectMusicBand', '/CertificateAuthority.EncodeBitString.1', '/MiKTeX.dvi.2.9', '/pnffile', '/Excel.SLK', '/System.Data.SqlClient.SQLDebugging', '/Shell.Explorer.2', '/PRMEDCTL.PrmEdCtl.1', '/IAS.Accounting', '/Txt2If.CKOI8RToIfConverter.3', '/Groove.GrooveFormsMetaDataHTMLProperty', '/.mag', '/.lzh', '/ndfapi.NDFAPI', '/PRMTLIB.PromtTemplateListCtrl.4', '/LibreOffice.Potx', '/CertificateAuthority.ServerPolicy.1', '/Groove.ActivationWizard', '/InternetExplorer.Application', '/.mp1', '/GoogleDrive.gdoc', '/DXImageTransform.Microsoft.CrSpiral.1', '/.rda', '/rt2file', '/RDS.DataSpace', '/KLCP.WMP.avs', '/WIA.Vector', '/MemuHyperv.MemuHypervClient', '/FunctionDiscovery.FunctionInstanceCollection.1', '/VsWizard.VsWizardEngine.8.0', '/SKBMonitor.KeyStrokeMonitor', '/eHomeSchedulerService.EhepgdatWrapper', '/VLC.nuv', '/MicrosoftSpiderSolitaireSaveFile', '/.pcb', '/OneIndex', '/Icad.ViewerDrawing', '/PenInputPanel.PenInputPanel.1', '/Groove.ClientAuditLog', '/Application.Manifest', '/DMM.FeatureSelection.1', '/System.ArgumentException', '/.sor', '/Shell.Explorer.1', '/Stack.System.Keywords', '/.hxv', '/CorSymReader_SxS', '/MSDASQL Enumerator', '/chkfile', '/Groove.DropTarget', '/VLC.ogv', '/ISInstallDriver.InstallDriver.1', '/VLC.VCDMovie', '/LibreOffice.Vsd', '/JSEFile', '/.xaf', '/SAPI.SpFileStream.1', '/OpenOffice.Xltx', '/VLC.caf', '/MicrosoftWorks.WkImgSrv.WksImagingServer.6', '/PrmtLDB.PromtDictInfo', '/.ntm', '/MSOlapAdmin2.MSOLAPModels', '/Microsoft.XPS.Shell.Thumbnail.1', '/yEd 1', '/IEPH.HistoryHandler', '/System.Runtime.InteropServices.SetWin32ContextInIDispatchAttribute', '/AcSmComponents.AcSmCalloutBlockReferences.20', '/DXImageTransform.Microsoft.Matrix', '/Msxml2.ServerXMLHTTP.4.0', '/Groove.TextDocument', '/JavaScript1.1 Author', '/MSOlapAdmin2.MSOLAPLastError', '/dota2', '/.rar', '/OpenOffice.Rtf', '/.hpp', '/WMICntl.WMISnapin', '/ehGLID.GLIDPlugInDVBSatellite.1', '/.lzma', '/PRMTLIB.PromtPreProcCtrl.4', '/.HeartsSave-ms', '/SAPI.SpITNProcessor', '/X509Enrollment.CPolicyQualifiers', '/CDO.SS_NNTPOnPostEarlySink.1', '/Groove.SystemServices', '/.gsa', '/Theme.Manager.1', '/.vssscc', '/msinkaut.InkRenderer', '/nQppExt.nQPropPage', '/IRService.IRUser', '/Groove.ListView', '/VLC.ac3', '/CryptPKO.CryptPKO', '/.wpr', '/AcroBroker.Broker', '/IAS.PostQuarantineEvaluator.1', '/MicrosoftComfyCakesSaveFile', '/Groove.PropertyListFactory', '/VisShe.CVisioFileFilter.1', '/gnuplot', '/Groove.GrooveSoapWriter', '/BDATuner.ATSCLocator.1', '/HxVz.HxTocCtrl', '/SAPI.SpPhoneConverter', '/YandexCRX.YSHUMIPZOK4RU5HIRBRXQTHAXU', '/BDATuner.ComponentTypes.1', '/.fif', '/.r24', '/WPD.SettingsCommitPage.1', '/VBSFile.HostEncode', '/Aec32BitAppServer.AecDBPromptInitialize.1', '/TabIps.InkStore.1', '/JavaPlugin.111312', '/LibreOffice.Png', '/PortableDeviceService.PortableDeviceService', '/BDATuner.Component.1', '/.accdb', '/ECMAScript', '/DXImageTransform.Microsoft.Blur', '/Search.StickyNotesHandler', '/RemoteAssistance.1', '/LayoutRect.LayoutRect.1', '/AutoItX3.Control.1', '/Microsoft.DirectMusicScriptAutoImpSegment.1', '/X509Enrollment.CX509AttributeOSVersion.1', '/X509Enrollment.CCertPropertyFriendlyName', '/JobObjectProv.JobObjectProv', '/KLCP.WMP.alac', '/.tlg', '/3dsxaf', '/ehGLID.GLIDPlugInDVBTerrestrial', '/OneNoteMobile.SpnSync.1', '/.maq', '/OneNote.Application', '/HtmlDlgHelper.HtmlDlgHelper', '/DXImageTransform.Microsoft.Glow', '/service4', '/.ppa', '/X509Enrollment.CX509PolicyServerUrl', '/.ghi', '/.sdl', '/Snapins.OCXSnapin', '/.chk', '/.vsto', '/IAS.ExtensionHost', '/MSOlapAdmin2.MSOLAPDetail.1', '/VSTA_IP.xsc.8.0', '/.vbproj', '/.wsdl', '/OTMFile', '/VLC.dts', '/Microsoft.Office.List.OLEDB.2.0', '/ptddb.PTDMemory.3', '/.sol', '/github-windows', '/windowsmediacenterssl', '/jarfile', '/DExplore.AppObj.8.0', '/CDO.SS_NNTPOnPostEarlySink', '/Windows.gadget', '/CplExt.VIASysFxPropPage', '/SensorsApi.Sensor', '/FaxComEx.FaxDocument.1', '/RdpCoreKMTS.WTSProtocolManager', '/ACCWIZ.ImexGridCtrl.2.8', '/ITIR.LocalGroupArray.4', '/LibreOffice.Ppt', '/RACplDlg.RASettingProperty.1', '/.odccubefile', '/.pothtml', '/Groove.SketchPageInfo', '/.mdi', '/Excel.Template', '/Skype4COM.CallChannelManager', '/IMAPI2.MsftWriteEngine2', '/CAPICOM.Store', '/PrmtDServices.PromtFlexServices', '/Psisdecd.AtscPsipParser', '/AudioEngine', '/OTB_Loader.VTB_Loader', '/System.Globalization.HebrewCalendar', '/CorRegistration.CorFltr.1', '/VsaVbRT.7.1', '/DAO.PrivateDBEngine.35', '/.vqf', '/Microsoft.Update.Session.1', '/ITIR.LocalCatalog.4', '/HWXInk.E-Ink', '/RDP.File', '/IAS.MachineAccountValidation', '/._vcsxsln80', '/VLC.rpl', '/eHome.MCAsyncVcdPlayer.1', '/IPW.ScriptEngine', '/regfile', '/X509Enrollment.CCertPropertyBackedUp', '/System.Globalization.NumberFormatInfo', '/Outlook.OlkCheckBox', '/ozfx3file', '/.p7c', '/ehGLID.GLIDPlugInISDBTerrestrial.1', '/Groove.TelespaceUIHelperObject', '/System.Runtime.Remoting.Channels.ClientChannelSinkStack', '/.asp', '/HHCtrl.SystemSort', '/.crtx', '/gsp_auto_file', '/COMSNAP.SnapinAboutImpl', '/ehGLID.NetOPlugIn', '/System.IO.DriveNotFoundException', '/IconLibraryFile', '/LocationApi.1', '/IRMain.Translator', '/MSDASCErrorLookup', '/MSRDC.RdcLibrary', '/MsTscAx.MsTscAx.2', '/InputProcessor.RioTabletInput', '/Msxml2.MXNamespaceManager.5.0', '/TpcCom.TabletManager', '/MSVidCtl.MSVidOutputDevices.1', '/VideoLAN.VLCPlugin.2', '/outlspam.SmartScreenFactoryOutlook.1', '/Microsoft.Update.AutoUpdate.1', '/Object.Microsoft.DXTFilter.1', '/.bip', '/py_auto_file', '/NetUtil.NetUtil', '/Scripting.FileSystemObject', '/Journal.JournalReader.1', '/Search.TripoliIndexer', '/FaxControl.FaxControl', '/.sldx', '/jxwfile', '/SQLOLEDB', '/.sdp', '/CertificateAuthority.Config.1', '/MAPI/IPM.Appointment', '/Groove.ToolAlerts', '/WSCommCntr4.SearchResultCollection.1', '/ATL.Registrar', '/MaxInventorServerHost.InventorServerH.1', '/LISTNET.Listnet.12', '/MsoRun.IEAnimBehaviorFactory.1', '/RWZFile', '/WSMan.Automation', '/.r07', '/MSHelp.hxv.2.5', '/AcSignCore.R18GetData.1', '/opendocument.MathDocument', '/Skype4COM.PluginEvent.1', '/.dv', '/IMAPI.MSDiscRecorderObj', '/skypecheck', '/VLC.cda', '/DAO.DBEngine.35', '/GoogleUpdate.OnDemandCOMClassMachineFallback.1.0', '/.hhc', '/UPnP.UPnPDevices', '/SDENGINE.CSdWhcNotifier.1', '/.xht', '/MediaCenter.MCL', '/MSOlapAdmin2.MSOLAPClient.1', '/Codejock.CommonDialog.13.4.2', '/LpkSetup.1', '/System.Runtime.InteropServices.RegistrationServices', '/opendocument.DrawDocument', '/YandexCSS.YSHUMIPZOK4RU5HIRBRXQTHAXU', '/.jpf', '/OpenOffice.Xlsb', '/Object.Microsoft.DXTFilterCollection.1', '/FDate.Factoid', '/Groove.ToolContainer', '/.msu', '/SAPI.SpLexicon', '/Groove.SecurityPreferencesGlueCode', '/ehRecvr.RecorderMgr.1', '/ComPlusDebug.CorpubPublish', '/NbDocViewer.NbDocView', '/vnd.libreoffice.command', '/eHome.McxRemoteFilePlayer.1', '/tex File', '/CAPICOM.OID.1', '/System.Reflection.CustomAttributeFormatException', '/.mk3d', '/WD95CONVLib.WordRtfPromtFileConverter', '/Publisher.Document.12', '/Sgml2If.Converter.2', '/SBEServer.AudioCD', '/System.Runtime.Remoting.Metadata.W3cXsd2001.SoapDateTime', '/X509Enrollment.CCertPropertyDescription', '/LiveScript Author', '/SketchObj.SketchInk', '/BDATuner.DVBCLocator', '/MSOlapAdmin2.MSOLAPExtLevels', '/HNetCfg.HNetShare.1', '/Aec32BitAppServer.AecDataInitialize.1', '/Groove.SpaceLogNotificationAction', '/Ietag.Factory', '/.pds', '/.r27', '/NODEMGR.NodeInitObject.1', '/.diagcab', '/KLCP.WMP.opus', '/Outlook.OlkTimeZone', '/.tp', '/.cdf', '/.plt', '/ExcelChart', '/System.OverflowException', '/SDENGINE.SdEngine2', '/RECIP.RecipCtl.1', '/wireshark-capture-file', '/Groove.StorageService', '/PrmtPro.PromtProductSession2Shared', '/ehRecvr.BackgroundScanner', '/InputProcessor.RioTabletInput.1', '/SharePoint.StssyncHandler', '/MsoRun.IterateDHTMLBehavior.1', '/3dsmcr', '/Publisher.Document', '/MiKTeX.dtx.2.9', '/XSTFile', '/ListPad.ListPad.1', '/WinNTNamespace', '/.img', '/Groove.MessageHistoryCode', '/.m4v', '/3dsfbx', '/X509Enrollment.CCertPropertyAutoEnroll', '/o_auto_file', '/VLC.m1v', '/System.Security.Policy.ApplicationDirectoryMembershipCondition', '/PromtBrowserProxy.PromtIEContextMenu.1', '/MATLAB.AutoServer.9.5', '/MemuHyperv.MemuHyperv.1', '/System.Runtime.Remoting.RemotingException', '/3dsbpr', '/System.Security.Cryptography.ToBase64Transform', '/MsRDP.MsRDP.2.a', '/Forms.OptionButton.1', '/System.Security.Cryptography.HMACSHA512', '/office.Extension.1', '/.text', '/Microsoft.Aspnet.Snapin.AspNetManagementUtility.4', '/.caf', '/.user', '/WMP11.AssocFile.WMZ', '/Access.Workgroup.12', '/CSSfile', '/Mathematica.CopernicIndexer.1', '/Promt6.ShellContextMenu.2', '/UPnP.UPnPDeviceFinder', '/TxCTx.TransactionContextEx', '/IAS.SHV', '/Groove.IdleManager', '/Groove.MissingToolUIDelegate', '/CAPICOM.EncryptedData.1', '/ScriptedDiag.Engine', '/ScriptoSys.Scripto.1', '/Groove.GrooveNotepadPage', '/MSOlapAdmin2.MSOLAPLastError.1', '/3dsmnu', '/OlePrn.OleInstall', '/Microsoft.VisualStudio.Tools.Applications.Blueprints.HostControl', '/PenIMC.PimcSurrogate.2', '/Microsoft.DirectMusicStyleTrack', '/MSIME.Japan.11', '/IMAPI2.MsftStreamInterleave', '/NbDocViewer.NbRioEventSink.1', '/Groove.SpaceSelectorPaneWrapper', '/ITIR.PropertyList', '/LibreOffice.Wpg', '/htmlfile_FullWindowEmbed', '/PromtBrowserProxy.WebClassCreator.1', '/System.Runtime.Serialization.FormatterConverter', '/GPSMapEdit.Application.1', '/.3g2', '/BDATuner.LanguageComponentType', '/EnumBthMtpConnectors.EnumBthMtpConnectors.1', '/LibreOffice.ImpressTemplate.1', '/Logagent.Logagent.1', '/Microsoft.DirectMusicMarkerTrack.1', '/MSVidCtl.MSVidITVPlayback', '/.avi', '/Publisher.Application', '/Yandex.ScreenshotEditor', '/Spp.Spp.1', '/MSVidCtl.MSVidBDATunerDevice.1', '/.zip', '/CivicAddressReport.1', '/IAS.DatabaseAccounting', '/Msxml2.SAXXMLReader.4.0', '/Outlook.OlkContactPhoto', '/System.DuplicateWaitObjectException', '/MMCCtrl.MMCCtrl', '/MQL5.File', '/ehRecvr.EnumRecorderGraph.1', '/IE.AssocFile.PARTIAL', '/Groove.GotoMenuObject', '/LocationDisp.LatLongReportFactory', '/Kind.Picture', '/CplExt.VtSrdPropPage', '/VLC.f4v', '/MSDASC.MSDAINITIALIZE.1', '/.mdbhtml', '/SAPI.SpSharedRecoContext.1', '/OneIndex.ShellFolder', '/WindowsSideShow.SideShowSession.1', '/.mml', '/windowsmediacenterweb', '/.vmdk', '/BDATuner.ChannelIDTuneRequest', '/JavaPlugin.112612', '/osu', '/COMSNAP.CPartitionContextMenu.1', '/.reg', '/MiKTeX.pdf.2.9', '/IMAPI2.MsftDiscFormat2TrackAtOnce', '/WECAPI5.FpwAccessSetup', '/.avs', '/DXImageTransform.Microsoft.CheckerBoard', '/FunctionDiscovery.WCNProvider', '/Forms.ToggleButton.1', '/.fnt', '/YandexXML.YSHUMIPZOK4RU5HIRBRXQTHAXU', '/soffice.StarDrawTemplate.6', '/SAPI.SpPhoneConverter.1', '/Outlook.OlkDateControl.1', '/.appref-ms', '/Skype4COM.SmsTargetCollection', '/.svg', '/TabIps.TextContributor.1', '/HWXInk.E-Ink.1', '/.b5t', '/VLC.mp2v', '/.ex_', '/3dsmnux', '/KLCP.WMP.ogv', '/SQLOLEDB Enumerator.1', '/Transmittal.TransmittalInfo.19', '/Forms.HTML:Select.1', '/.aifc', '/Groove.DiscussionUIDelegate', '/DispatchMapper.DispatchMapper.1', '/Word.Document.12', '/qedit.RenderEngine', '/.xltx', '/.mpls', '/Outlook.File.det', '/Outlook.Envelope', '/Groove.ContactUIHelperObject', '/PrmtPro.PromtUsers.2', '/eHomeSchedulerService.MCEMediaOutputDevice.1', '/Forms.Label.1', '/RDSServer.DataFactory', '/System.Collections.Hashtable', '/DXImageTransform.Microsoft.RadialWipe', '/Groove.CalendarView', '/SAPI.SpStreamFormatConverter.1', '/ACLFile', '/qedit.DxtAlphaSetter.1', '/CABFolder', '/directory', '/.vscontent', '/LR.LexRefXml2RTFObject.1.0', '/SDBACKUPCONFIG.SdBackupConfig', '/MSOSOAP.WSDLReader30', '/Microsoft.DirectMusicStyle.1', '/Stack.System.Music.AlbumID', '/IMAPI2.MsftStreamZero.1', '/ImgUtil.CoSniffStream.1', '/Nbdoc.Stationery', '/LibreOffice.MathDocument', '/X509Enrollment.CAlternativeNames.1', '/Outlook.OlkSenderPhoto.1', '/PowerPoint.Show', '/X509Enrollment.CCertProperties', '/CertificateAuthority.EncodeLongArray.1', '/WSCommCntr4.CommCntrChannel', '/ImgUtil.CoDitherToRGB8', '/MSOLAPErrorLookup', '/.det', '/TestServer.CodeCoverage.1', '/.search-ms', '/.odc', '/PowerPoint.Show.12', '/.epf', '/System.Runtime.Remoting.Metadata.W3cXsd2001.SoapNonPositiveInteger', '/YandexBrowser.crx', '/Groove.XMLVector', '/SAPI.SpInProcRecoContext.1', '/X509Enrollment.CSignerCertificate', '/ERCLuaSupport.1', '/Word.OpenDocumentText', '/CompatContextMenu.CompatContextMenu.1', '/Microsoft.PhotoAcqHWEventHandler.1', '/Kind.Video', '/LibraryFolder', '/igfxsrvc.CUIPower', '/System.Runtime.Remoting.Metadata.W3cXsd2001.SoapDuration', '/3dsmax', '/Skype4COM.Participant', '/.htt', '/FunctionDiscovery.PropertyStoreCollection.1', '/Groove.DataListColumnImageInfo', '/AutoCAD.AcCmColor.20', '/OlePrn.OleCvt', '/Access.WizardUserDataFile', '/Windows.IsoFile', '/.odg', '/KLCP.WMP.bdmv', '/M-WIN-L.M.10.0.1.5157734', '/Microsoft.DirectMusicTemplate.1', '/32HardLink.PropertySheetPage.1', '/Groove.Win32LocalFileTime', '/texi_auto_file', '/PLA.TraceSessionCollection.1', '/X509Enrollment.CCspInformations.1', '/Txt2If.CWIN1252ToIfConverter', '/Groove.TreeNode', '/ehVid.TVThumb', '/DiskManagement.SnapInAbout', '/bidispl.bidispl', '/IAS.CClient.1', '/ICOFilter.CoICOFilter', '/System.Text.UTF7Encoding', '/.msc', '/NODEMGR.ScopeTreeObject.1', '/sdchange.sdchangeobj.1', '/Igfxdo.DataObject', '/Skype4COM.User.1', '/.386', '/System.Security.Policy.Evidence', '/Microsoft.MediaCenter.GlidHost.GLIDLoader', '/SensorsApi.Sensor.1', '/WMP.PlayCD', '/.wcx', '/.osr', '/CAPICOM.Utilities', '/MSSTDFMT.StdDataValue.1', '/JavaPlugin.11772', '/WMNetSourcePlugin.NetSourcePlugin.1', '/DMM.ClassificationModel', '/ACCWIZ.ImexGridCtrl.2', '/System.ArithmeticException', '/GarminGpsDatabase', '/Groove.OutlookProxyAddIn', '/SdrService.SdrRestoreService.1', '/04471_auto_file', '/WSCommCntr4.RssFeedCollection.1', '/.cod', '/PABFile', '/Search.EmbeddedGatherNotify', '/System.EntryPointNotFoundException', '/UPnP.DeviceHostICSSupport', '/SAPI.SpITNProcessor.1', '/MSDMine.MSDMineEnum.1', '/.hdmov', '/.xdl', '/DAO.Field.36', '/.gslides', '/VisualStudio.Launcher._sln', '/WMPlayer.OCX.7', '/Groove.MiscUIHelperObject', '/.pptm', '/JavaPlugin.11712', '/IAS.NTEventLog.1', '/MSGraph.Application', '/odc.database', '/Search.GatherTrx.1', '/Word.Picture', '/.dvi', '/AdobeAcrobat.OpenDocuments.3', '/WcsPlugInService.WcsPlugInService.1', '/.icm', '/32CLSID', '/UmOutlookAddin.ButtonBar.1', '/X509Enrollment.CX509PrivateKey', '/Microsoft.DirectSoundWave.1', '/DiskManagement.UITasks', '/CertificateAuthority.GetConfig.1', '/Groove.ContactStoreContactListEngine', '/mraut.MathRecognizer.1', '/WECAPI5.FpStructureModification.3', '/SAPI.SpAudioFormat', '/Groove.AccountAlerts', '/MMC.WaitDialog', '/Outlook.OlkTextBox', '/ADODB.Recordset.6.0', '/M-WIN-L.CDF.10.0.1.5157734', '/Groove.FileDownloadProgressDialog', '/eHome.MCAsyncTVPlayer.1', '/System.Runtime.Serialization.OptionalFieldAttribute', '/.cmd', '/FName.Factoid.2', '/HardLink.HardLinkMenu.1', '/.pma', '/BDATuner.AnalogRadioTuningSpace', '/DXImageTransform.Microsoft.Pixelate', '/MSASR.TextNormMultiResult.1', '/SAPI.SpCompressedLexicon', '/Microsoft.DirectMusicMotifTrack.1', '/chm.file', '/themefile', '/x-github-client', '/.gra', '/.mid', '/Txt2If.UTF16ToIfConverter', '/eHome.RecovRecoveryTaskMonitoreryTasks', '/Forms.ComboBox.1', '/MSVidCtl.MSVidAudioRenderer', '/MSVidCtl.MSVidStreamBufferRecordingControl', '/CDisplayAceArchive', '/Promt5.RSS.2', '/X509Enrollment.CX509PublicKey.1', '/.trc', '/MMC.IconControl.1', '/WorkspaceRuntime.Workspace', '/Coloader.VsBothLoader.1', '/SBEServer.BurnDevice.1', '/.shtm', '/LibreOffice.Xlsx', '/MsoRun.IETimeBehaviorFactory', '/MSOSOAP.HttpConnector30', '/VisualStudio.Launcher._vstasln80', '/NbTextLayout.NbTextLayoutPageText', '/System.EnterpriseServices.Internal.GenerateMetadata', '/MiKTeX.bib.2.9', '/PDictEdit.SR', '/.M2V', '/DAO.TableDef.120', '/._vjsxsln80', '/32*', '/Groove.RichTextPropertyPage', '/MSDMine.1', '/Stack.System.Music.Artist', '/LocationDisp.DispLatLongReport', '/HxDS.HxRegisterSession.1', '/KLCP.WMP.ssif', '/prc_auto_file', '/.ico', '/HxDS.HxRegisterSession', '/System.Collections.Queue', '/.i', '/VSTA_IP.dtd.8.0', '/KLCP.WMP.spx', '/Groove.SingleCellViewContainer', '/System.Runtime.Remoting.Metadata.W3cXsd2001.SoapEntities', '/CplExt.ViaKaraokePropPage.1', '/Groove.MultiCellLayoutControlInfo', '/WindowsInstaller.Installer', '/WMP11.AssocFile.CDA', '/OneNote.CSimpleImporter.1', '/MMC.SnapInFailureReporter.1', '/opendocument.CalcDocument.1', '/32LibraryFolder', '/SharePoint.ExportDatabase', '/csc', '/Ehmsas.MediaStatusSession', '/AcSignCore.AdskSignDWG.1', '/MSOSOAP.WinInetConnector30', '/System.Security.Cryptography.RSACryptoServiceProvider', '/IAS.EAPIdentity', '/igfxsrvc.Settings.1', '/KLCP.WMP.rmvb', '/MSOlapAdmin2.MSOLAPSource', '/VLC.mkv', '/ProductInf.PromtProductSession', '/TextInputPanel.TextInputPanel', '/VLC.mtv', '/igfxsrvc.Overlay', '/eHome.RecoveryTaskWrapper.1', '/3dsfig', '/WbemScripting.SWbemRefresher', '/DXImageTransform.Microsoft.CrIris.1', '/IAS.AuthorizationHost', '/System.Globalization.TaiwanCalendar', '/ITIR.IndexSearch', '/OpenOffice.Xls', '/SDENGINE.CSdGITManager.1', '/X509Enrollment.CX509EnrollmentPolicyWebService.1', '/Microsoft.DirectMusicMuteTrack.1', '/.torrent', '/MSOSOAP.SimpleComposer30', '/Groove.SignedComponentDownloadDialogGlue', '/exefile', '/AcroExch.SecStore', '/MSVidCtl.MSVidStreamBufferV2Source', '/FSLoaderParser.DefinitionLoader.1', '/Logagent.Logagent', '/OpenOffice.Pps', '/icmfile', '/MFCongestionController.CMFNetworkConge', '/.sbr', '/.ma', '/OpenOffice.Pptx', '/mk_auto_file', '/.ra', '/AzRoles.AzPrincipalLocator.1', '/FName.Factoid', '/Groove.Address', '/.lwv', '/DXImageTransform.Microsoft.DropShadow', '/DXImageTransform.Microsoft.CrWheel', '/DXImageTransform.Microsoft.Alpha.1', '/NODEMGR.MMCViewExt', '/qedit.DxtKey', '/MsoRun.AnimMotionDHTMLBehavior.1', '/campfile', '/.cs', '/.otg', '/AcSmComponents.AcSmProjectPointLocation.20', '/.a3x', '/.psd', '/JavaPlugin.11662', '/Groove.AwarenessServices', '/PrmAgentCtl.PrmAgents.9', '/System.Runtime.Remoting.Metadata.W3cXsd2001.SoapNotation', '/.snk', '/CDO.DropDirectory', '/CplExt.ViaVoipPropPage.1', '/.voc', '/MSVidCtl.MSVidAudioRendererDevices.1', '/.wpl', '/Groove.PrintHelperObject', '/Forms.HTML:Text.1', '/vscode', '/qedit.Xml2Dex', '/discord-610508934456934412', '/Pdf2If.Pdf2IfConverter.2', '/WinInetBroker.WinInetBroker', '/MSTTSEngine.TTSEngine.2', '/OneNote', '/ITIR.WordWheelBuild.4', '/.3ga', '/Search.GathererLogFileProvider.1', '/System.Diagnostics.StackTrace', '/CertificateAuthority.Request', '/3dsmse', '/.7z', '/X509Enrollment.CX509AttributeArchiveKeyHash.1', '/System.Diagnostics.SymbolStore.SymLanguageVendor', '/DiskManagement.SnapInExtension', '/PDictEdit.RS.4', '/MSVidCtl.MSVidFeatures.1', '/Scriptlet.HostEncode', '/ersfile', '/.hlp', '/OISgiffile', '/MsoRun.AnimColorDHTMLBehavior.1', '/NODEMGR.MMCDocConfig.1', '/MiInkSeg.MiRichInkSegment', '/.tbz2', '/TpcCom.Lattice', '/CDO.NNTPFinalConnector', '/PropertyKeyCollection.PropertyKeyCollection.1', '/MSOlapAdmin2.MSOLAPDatabases.1', '/Groove.ComponentUpdate', '/JScript.Compact Author', '/System.Runtime.Remoting.Metadata.W3cXsd2001.SoapIdref', '/.cpl', '/X509Enrollment.CCertificatePolicies', '/DXImageTransform.Microsoft.CrStretch', '/NbDocCstg.NbDocCstg', '/TabIps.InkStore', '/Office2007If.WordConverter.2', '/.m3u', '/MAPI/IPM.Post.Rss', '/.ChessTitansSave-ms', '/.db', '/ITSProtocol', '/MSSTDFMT.StdDataFormat', '/Skype4COM.CallChannel.1', '/Microsoft.DirectMusicBandTrack.1', '/DXImageTransform.Microsoft.Barn.1', '/AccessAddin.DC', '/Groove.GFSClientServices', '/.vbs', '/IE.AssocFile.HTM', '/BDATuner.ATSCComponentType', '/IDApro.Database64', '/Skype4COM.VoicemailCollection.1', '/.H1Q', '/.gbr', '/.inv', '/.pif', '/msinkaut.InkRectangle.1', '/life3.Document', '/TpcCom.InkObjectXP.1', '/WMP11.AssocFile.AVI', '/AcSmComponents.AcSmObjectReference.20', '/VSTA_IP.snippet.8.0', '/MSOlapAdmin2.MSOLAPCubeSecurity.1', '/ITIR.LocalDatabase.4', '/ITIR.WordWheelBuild', '/.trace', '/Diagnostic.Cabinet', '/Equation.IPEE1', '/Outlook.URL.stssync', '/IMOfferRAApp.IMOfferRA.1', '/MSTTSEngine.TTSEngine', '/MSOrgChart.1', '/Msxml2.SAXAttributes', '/SDSHELLEXTENSION.SdShellExtension', '/ADs', '/MSComctlLib.TreeCtrl', '/Microsoft.Update.Installer.1', '/Skype4COM.Application', '/PROMT5.SmartUrls2', '/NODEMGR.AppEventsDHTMLConnector.1', '/Groove.Splitter', '/Results', '/Msxml2.ServerXMLHTTP.6.0', '/Equation.MVEE4', '/Search.EmbeddedSearchSvcAdmin', '/X509Enrollment.CCertPropertySHA1Hash.1', '/Diagnostic.Perfmon.Config', '/WMP11.AssocFile.MIDI', '/windowsmediacenterapp', '/WMP.DVD', '/IAS.EAPTypes', '/ADODB.ErrorLookup.6.0', '/DXImageTransform.Microsoft.CrEmboss', '/msinkaut.InkOverlay', '/web_auto_file', '/OpenOffice.Pot', '/igfxcfg.ShellExt', '/.wv\"', '/Groove.GrooveDiscussionEntry', '/DAO.Group.120', '/System.Runtime.Remoting.Messaging.OneWayAttribute', '/.vsd', '/Groove.ShareObjectEnum', '/Msshed.ShedDSO.1', '/*', '/X509Enrollment.CSmimeCapabilities', '/.pfx', '/WSHFile', '/MSOlapAdmin2.MSOLAPDatabase.1', '/yEd 5', '/cttunesvr.CtTuner', '/jpxfile', '/PdfFile.OpenDocuments', '/System.Security.Cryptography.MD5CryptoServiceProvider', '/mp3file', '/Catsrv.CatalogServer', '/M-WIN-L.WL.10.0.1.5157734', '/System.Runtime.Remoting.ObjRef', '/RAServer.RASrv.1', '/PromtEvw.PromtEvwKbdHook.2', '/MSVidCtl.MSVidAnalogTunerDevice.1', '/.IVF', '/Microsoft.JScript.Vsa.VsaEngine', '/LibreOffice.Uot', '/Microsoft.MediaCenter.iTv.AudioClipFactory', '/.accde', '/.spc', '/IAS.CRPBasedEAP', '/CorSymBinder_SxS', '/.gih', '/txtfile', '/MessageView.MessageView.1', '/Microsoft.XMLParser', '/WSCommCntr4.WebSearchResult.1', '/MSVidCtl.MSVidFeatures', '/VLC.nsv', '/.wsc', '/Groove.ArtifactEngine', '/MAPI/IPM.DistList', '/.oft', '/Groove.VCardViewer', '/.r13', '/otkloadr.WRLoader', '/sidfile', '/DXImageTransform.Microsoft.Blinds.1', '/.cmx', '/OpenOffice.Dotm', '/DXImageTransform.Microsoft.DropShadow.1', '/.wv', '/Wchat', '/.sxw', '/sh_auto_file', '/qedit.DxtJpeg', '/XLaunch.cygwin', '/wincredprovider.Cwincredprovider', '/LibreOffice.Eps', '/Groove.DashboardPendingItemDetailsFactory', '/.pdf', '/LibreOffice.Vdx', '/Briefcase', '/Microsoft.SQLLITE.MOBILE.OLEDB.3.0', '/PrmEDBase.PrmEDBases', '/Outlook.OlkPageControl', '/PerfFile', '/DfsShell.DfsShell', '/DXImageTransform.Microsoft.RandomDissolve', '/System.Runtime.Remoting.Metadata.W3cXsd2001.SoapYearMonth', '/System.Runtime.Serialization.OnDeserializingAttribute', '/CDO.SS_NNTPOnPostFinalSink.1', '/workflowy', '/IPW.User.1', '/.diagcfg', '/msinkaut.InkWordList', '/System.EventArgs', '/Groove.GFSStubServices', '/AcSmComponents.AcSmResources.20', '/Microsoft.DirectSoundParamEqDMO.1', '/.bib', '/.m3u8', '/IE.text/html', '/MAXComponents.SkinEngine.1', '/VLC.rec', '/Groove.TelespaceServices', '/.mnu', '/System.FieldAccessException', '/LayoutFolder', '/Groove.TextWrapper', '/Groove.FileSysRAMP', '/WMP.BurnCD', '/ptdctl.PTDCtlProjects', '/PRMEDCTL.PromtEdLightCtrl', '/VLC.thp', '/SDConfig.AutoPlayHandler.1', '/Smart.DebugDocumentHelper', '/MsoRun.AnimColorDHTMLBehavior', '/.vss', '/COMSNAP.CPartitionPropPages', '/DataLinks', '/Msxml2.SAXXMLReader.6.0', '/ADODB.Record.6.0', '/Groove.TelespaceSecurity', '/JavaPlugin.111012', '/LibreOffice.Doc', '/MSP.MSP.2', '/.mau', '/wordhtmltemplate', '/AcSmComponents.AcSmFileWatchReactor.20', '/.rqy', '/IMCommonCtrlLib.TranslateDirection', '/Windows.XPSRichPreview', '/.nbp', '/SAPI.SpStreamFormatConverter', '/InfoPath.SolutionManifest.2', '/System.Security.Cryptography.RSAPKCS1SignatureDeformatter', '/.dat', '/System.EnterpriseServices.RegistrationConfig', '/FPerson.Factoid', '/PrmEdCtl.PromtMDSParser.2', '/MachineDebugManagerSqlInitDebug.1', '/Skype4COM.CallChannelCollection.1', '/SBEServer.VideoAudioBurner', '/InfoPath.ExternalApplication.2', '/.pko', '/AutoIt3XScript', '/.pbk', '/OWS.ClientEventSubscription.2', '/x-internet-signup', '/Outlook.OlkInfoBar', '/WMP11.AssocMIME.M2TS', '/Groove.ComponentManagerMinimum', '/DXImageTransform.Microsoft.Blur.1', '/OpenOffice.Dotx', '/Outlook.URL.feed', '/.fb2', '/OWS.BrowserUI.2', '/.ltx', '/RACplDlg.RASettingProperty', '/VSTA_IP.xss.8.0', '/.03861', '/CLRMetaData.CorMetaDataDispenserRuntime', '/gpxfile', '/DAO.User.36', '/frm_auto_file', '/WSCommCntr4.ELearningCollection.1', '/Cmiv2.CmiFactory', '/CAPICOM.Chain.2', '/WMP11.AssocFile.TTS', '/BDATuner.ChannelIDTuningSpace.1', '/PDictEdit.FR', '/TpcCom.InkSettings', '/Ehmsas.MediaStatusAggregator.1', '/Microsoft.DirectMusicSegmentState.1', '/DirControl.DirList.8.0', '/.ost', '/System.Runtime.Remoting.Metadata.W3cXsd2001.SoapHexBinary', '/AcSmComponents.AcSmPersistProxy.20', '/Equation.BREE2', '/msinkaut.InkRenderer.1', '/X509Enrollment.CCertPropertyArchivedKeyHash.1', '/DXImageTransform.Microsoft.Convolution', '/WIA.ImageProcess', '/.gxf', '/Groove.DocumentShareFactory', '/MSVidCtl.MSVidAudioRenderer.1', '/.pmp', '/VLC.s3m', '/Microsoft.DirectSoundDistortionDMO.1', '/WSCommCntr4.WebServiceManager.1', '/BehaviorFactory.Microsoft.DXTFilterFactory', '/Wisptis.TabletManager', '/SAPI.SpVoice.1', '/Groove.Tele', '/.map', '/Access.ACCDAExtension.12', '/Microsoft.Update.StringColl', '/CplExt.MagicVoicePage.1', '/BDATuner.Components', '/MMC.ExecutivePlatform.1', '/.fon', '/.cui', '/Codejock.FlatEdit.13.4.2', '/WSCommCntr4.RssFeed.1', '/.ppsx', '/steam', '/LibreOffice.Bmp', '/UPnP.UPnPService', '/SAPI.SpObjectTokenEnum.1', '/VLC.ram', '/.xrm-ms', '/.application', '/Snapins.FolderSnapin', '/WIA.CommonDialog', '/IMAPI2.MsftStreamConcatenate', '/LibreOffice.Gif', '/PRMTLIB.PromtTransNewRulesCtrl.5', '/RACplDlg.RARegSetting.1', '/X509Enrollment.CX509CertificateRequestCmc.1', '/PrmtPro.PromtProductSession2Shared.3', '/VisualStudio.Launcher.sln', '/VLC.mxf', '/Outlook.OlkTimeControl', '/Groove.ContactInfoCode', '/Txt2If.UTF16ToIfConverter.3', '/.usr', '/LibreOffice.Dot', '/OSE.DiscussionServers', '/.evt', '/tel', '/Krnlprov.KernelTraceProvider', '/Microsoft.VbaAddinForOutlook.1', '/Shell.Explorer', '/Groove.SpaceAlerts', '/ITIR.GroupBuild.4', '/ITIR.LocalCatalog', '/SRMain.Translator', '/Groove.Image', '/MAPI/IPM.Message', '/.xba', '/BDATuner.AnalogRadioTuningSpace.1', '/MsoRun.OAVDShowPlayer.1', '/.MinesweeperSave-ms', '/LibreOffice.Potm', '/X509Enrollment.CCryptAttributes.1', '/.vtx', '/.ygf', '/.mps', '/.cer', '/opendocument.WriterWebTemplate', '/MTxSpm.SharedPropertyGroupManager', '/Groove.Header', '/MSVidCtl.MSVidVideoRendererDevices.1', '/msinkaut.InkOverlay.1', '/Groove.TicTacToeView', '/IntelliJIdeaProjectFile', '/PDictEdit.IR', '/Groove.SelectorItemFactoryObject', '/GrooveSpaceArchive', '/MsoRun.AnimTargetDHTMLBehavior.1', '/GoogleUpdate.OnDemandCOMClassSvc', '/XEV.OriginalApp', '/Pathname', '/TpcCom.DrawAttrsXP.1', '/Groove.ContactHelperObject', '/WbemScripting.SWbemDateTime', '/VisualStudio.ContentInstaller.vscontent', '/LibreOffice.Tiff', '/.vst', '/oms', '/PLA.DataCollectorSet.1', '/.kci', '/Groove.FileSystemUnreadMarkServices', '/DBROWPRX.AsProxy.1', '/Microsoft.DirectMusicScriptAutoImpAudioPathConfig', '/Groove.CSMTracer', '/IAS.InfoBase.1', '/JavaScript1.2', '/IMEPad.SKF.SCIME5', '/.dct', '/InfoPath.DesignerWordImport.2', '/.rps', '/NbTextLayout.NbTextLayoutPageProp.1', '/c_auto_file', '/.dtd', '/Access.ShortCut.Module', '/.hxt', '/NetworkConnections', '/IE.AssocFile.SVG', '/ADODB.Command.6.0', '/Arduino file', '/WCN.AutoPlayHandler', '/EhStorShell.ContextMenuHandler', '/.enc', '/.odt', '/.snoop', '/VSTA.xsc.8.0', '/Psisdecd.CDvb', '/CCWU.ComCallWrapper', '/OWS.DiscussionServers', '/AgControl.AgControl', '/About.PromtAppCounter.3', '/WPD.SettingsReviewPage', '/3dsbprx', '/Groove.GrooveFormsScriptCode', '/.r', '/OLSideShow.Addin', '/.wizhtml', '/.syc', '/igfxsrvc.CUIService.1', '/MSOlapAdmin2.MSOLAPMeasure.1', '/.xlw', '/KLCP.WMP.dv', '/rtsph', '/Skype4COM.UserCollection.1', '/System.Security.Policy.GacInstalled', '/Groove.EDBClientBackupToolDataDelegate', '/System.PlatformNotSupportedException', '/Skype4COM.UserCollection', '/Groove.Download', '/System.Security.Cryptography.RSAPKCS1KeyExchangeFormatter', '/WScript.Shell', '/CAPICOM.EnvelopedData.1', '/.trl', '/Access.Application', '/.gscript', '/Access.ShortCut.Diagram', '/UrlToHtml.PromtUrlReader', '/ntffile', '/.ibq', '/Outlook.OlkTextBox.1', '/System.Security.Cryptography.DSACryptoServiceProvider', '/LIFE.Document', '/MSSppLicenseFile', '/.xevgenxml', '/MSVidCtl.MSVidCCA', '/DXImageTransform.Microsoft.OAVRedirect', '/eHome.McxRemoteDvrPlayer', '/WECAPI5.FpwGroup3', '/JobObjSecLimitInfoProv.JobObjSecLimitInfoProv', '/Object.Microsoft.DXTFilterCollection', '/ERMain.Translator', '/JavaScript Author', '/VLC.mpc', '/PrmtLDB.PromtEntry', '/WMP11.AssocMIME.WMD', '/DXImageTransform.Microsoft.CrEngrave', '/Autodesk.IPTex', '/patch_auto_file', '/.pptx', '/CDO.SS_NNTPOnPostSink', '/WbemScripting.SWbemSink.1', '/Groove.ConnectionProxyComponent', '/About.PromtAbout.4', '/eHome.MCSyncDVDPlayer', '/CAPICOM.Chain.1', '/NbImage.NbBitmapLayer', '/MDACVer.Version', '/.adp', '/TransIF.PrmtIFTranslator.2', '/LocationDisp.DispLatLongReport.1', '/PDFPrevHndlr.PDFPreviewHandler', '/.crt', '/.p7r', '/.fdc', '/WcsPlugInService.WcsPlugInService', '/LibreOffice.Cdr', '/PromtSmartFolders.PromtSmartFolders.2', '/Groove.HTMLTableLayoutControlInfo', '/MSVidCtl.MSVidITVCapture', '/VSTA_IP.user.8.0', '/VBScript.RegExp', '/Groove.ContactRelationshipsCode', '/.bas', '/HxDs.HxRegistryWalker.1', '/eHome.mcplayer', '/Groove.EDBClientBackupToolMasterLogUIDelegate', '/h1qfile', '/OTB.TabsforVisio', '/IMAPI2.MsftStreamPrng001.1', '/SAPI.SpSharedRecoContext', '/ContactPicker.PropPage1.1', '/.f4v', '/PortalConnect12.PersonalSite', '/MSDADC', '/ConsolePower.ConsolePower', '/Shell.HWEventHandlerShellExecute.1', '/CAPICOM.Settings.1', '/.tdl', '/ConsolePower.ConsolePower.1', '/.wpg', '/pngfile', '/PLA.ServerDataCollectorSetCollection.1', '/VisualStudio.Launcher._vwdxsln80', '/VSS.VSSCoordinator', '/.ov2', '/InfoPath.SolutionManifest', '/ndfapi.NDFAPI.1', '/Calc.Application', '/Microsoft.DirectMusicScriptAutoImpPerformance.1', '/MSOlapAdmin2.MSOLAPRoles', '/PrmtCtl.Directions.3', '/Groove.ProxyConfigRAMP', '/.clr', '/msinkaut.InkRecognizers', '/Groove.ManagementDomainServerFactory', '/3dsifl', '/SEG2PTD.SEG2PTDConverter', '/Microsoft.DirectMusicTimeSigTrack', '/YandexDisk.AutoplayEventHandler.1', '/.H1D', '/Aec32BitAppServer.AecSdfDoublePoint.1', '/.webm', '/LR.LexRefBilingualService.1.0.1', '/igfxcfg.ShellExt.1', '/Groove.TextView', '/Microsoft.DirectMusicLyricsTrack.1', '/MODI.Document.1', '/VLC.3gp', '/SAPI.SpUncompressedLexicon', '/WSFFile', '/Matlab.Application.Single', '/Outlook.FileAttach', '/COMAdmin.COMAdminCatalog', '/PrmRange.Ranges.R5', '/ptdobj.PTDPropBagSchema', '/Cmiv2.CmiFactory.2', '/Search.XmlContentFilter.1', '/WMP11.AssocMIME.WMV', '/Excelhtmltemplate', '/FSLoaderParser.DefinitionLoader', '/VisualStudio.Launcher._sln80', '/MAPI/IPM.Note', '/Groove.ProjectContactHelper', '/ehGLID.PBDASiParser.1', '/MSExtPrintQueue', '/Midoc.MiDocument.1', '/WMP11.AssocMIME.WVX', '/PortableDeviceManager.PortableDeviceManager', '/Agent.Server.2', '/DXImageTransform.Microsoft.RadialWipe.1', '/NetUtil.NetUtil.1', '/System.Security.Policy.ApplicationTrust', '/TPCRTP.DynamicRenderer.1', '/.ott', '/Wisptis.TabletManager.1', '/System.Security.Cryptography.SHA1Managed', '/Groove.ToolHelperObject', '/LibreOffice.Ppsx', '/.Rnw', '/.xz', '/MSVidCtl.MSVidVideoRenderer', '/Microsoft.DirectMusicParamControlTrack.1', '/.WSF', '/System.Runtime.Remoting.Metadata.W3cXsd2001.SoapMonth', '/System.Runtime.Serialization.Formatters.SoapFault', '/JavaWebStart.isInstalled', '/WMINet_Utils.WmiSecurityHelper', '/MMC.IconControl', '/COMSNAP.ComponentDataImpl.1', '/Schedule.Service.1', '/ACCWIZ.FieldListCtrl.1', '/SppComApi.SPPLUAObject.1', '/RDB.AutoPlayHandler', '/KLCP.WMP.mpv4', '/Outlook.File.msg', '/MsScp.SCPTRANS', '/MachineDebugManagerUtilities.6', '/VSTA.csproj.8.0', '/dpapiprovider.Cdpapiprovider', '/ndfapi.NetworkDiagnostics', '/CAPICOM.SignedData.1', '/h_auto_file', '/System.Runtime.Remoting.Channels.ServerChannelSinkStack', '/Groove.LANContactsRAMP', '/.mpeg4', '/MSPersist', '/MSPaper.Document', '/ardfile', '/eHome.MCSyncTVPlayer.1', '/Magnet', '/OOPlugIn.promtooplugin', '/DXTransform.Microsoft.DXLUTBuilder', '/MSOlapAdmin2.MSOLAPExtMeasure', '/VLC.mpeg', '/BDATuner.ChannelTuneRequest.1', '/MSSearch.IpsPi', '/System.Runtime.InteropServices.ComConversionLossAttribute', '/.TTS', '/outlspam.SmartScreenFactoryOutlook', '/Search.NullWB.1', '/.eyb', '/Promt5.TextAnalyzerEngine', '/xhtmlfile', '/.djvu', '/.slupkg-ms', '/skype', '/.camp', '/MsoRun.TimeDHTMLBehavior.1', '/MimeDir.MimeDirItem.1', '/AccServerDocMgr.AccServerDocMgr', '/Smile.SmilePP9', '/soffice.StarWriterDocument', '/DAEMON.Tools.Lite', '/CDO.Configuration.1', '/EhSched.ResourceMgr', '/System.Runtime.Serialization.Formatters.Binary.BinaryFormatter', '/X509Enrollment.CX509AttributeExtensions', '/.r16', '/TeamViewer.Application.1', '/Groove.ScriptHost2', '/PromtEdSvr8.PromtEdSvr.2', '/.art', '/.dsp', '/IImeIPointSrv1041', '/VLC.mpa', '/Microsoft.DirectSoundWavesReverbDMO.1', '/.r08', '/PowerPoint.SlideShow', '/UmOutlookAddin.PlayOnPhoneDlg', '/OSE.DiscussionServer', '/Search.MAPI2Handler', '/.vstemplate', '/CLRMetaData.CorMetaDataDispenser.2', '/micaut.MathInputControl.1', '/Aec32BitAppServer.AecSdfObjectGeometry.1', '/.sy_', '/M-WIN-L.NBP.10.0.1.5157734', '/.pcapng', '/LibreOffice.Emf', '/X509Enrollment.CCertPropertyBackedUp.1', '/X509Enrollment.CX509ExtensionAlternativeNames', '/.mp', '/WMP11.AssocFile.3GP', '/igfxcfg.DataObject.1', '/Microsoft.DirectMusicCollection.1', '/X509Enrollment.CX509Attribute.1', '/EventSystem.EventSubscription', '/MsoRun.AnimateDHTMLBehavior', '/System.Security.Cryptography.HMACMD5', '/Microsoft.MediaCenter.iTv.CiTvTuning', '/X509Enrollment.CCertPropertyKeyProvInfo', '/Groove.TelespaceMembers', '/X509Enrollment.CX500DistinguishedName.1', '/Access.ShortCut.View', '/InkSeg.RichInkSegment.1', '/NbDocViewer.NbRioEventSink', '/MSOLAPUI80.ConnectDialog', '/System.EnterpriseServices.Internal.ClientRemotingConfig', '/MSVidCtl.MSVidCCA.1', '/Matlab.Application', '/ImeKeyEventHandler1042', '/.pct', '/teamviewer8', '/PrmAct.PromtConnectionState', '/.pab', '/WbemScripting.SWbemObjectPath', '/WindowsMail.MimeEdit.1', '/Equation.DSMT36', '/YandexHTML.YSHUMIPZOK4RU5HIRBRXQTHAXU', '/.scp', '/.xdp', '/Groove.RDBLightweightRecord', '/DXImageTransform.Microsoft.CrIris', '/VSTA_IP.snk.8.0', '/Groove.ComponentSeekPolicy', '/Groove.StreamFactory', '/MSOSOAP.GenericCustomTypeMapper30', '/KLCP.WMP.rm', '/UPnP.UPnPServices', '/WbemScripting.SWbemLastError', '/Groove.Manifest', '/RGMain.Translator', '/.themepack', '/HxDS.HxSession', '/HxDS.HxRegisterProtocol.1', '/odffile', '/HxVz.HxTocCtrl.1', '/VSTA.datasource.8.0', '/.tod', '/LibreOffice.MathDocument.1', '/Groove.DataModelGlue', '/AccClientDocMgr.AccClientDocMgr', '/eHome.MCAsyncFilePlayer.1', '/yEd', '/VLC.ifo', '/Outlook.OlkListBox', '/VSTA_IP.vb.8.0', '/.aw', '/TestServer.Utility', '/SharePoint.OpenDocuments.2', '/.sid', '/ADOX.Key.6.0', '/System.Runtime.Remoting.Metadata.W3cXsd2001.SoapAnyUri', '/System.Runtime.Remoting.RemotingTimeoutException', '/SAPI.SpWaveFormatEx', '/Microsoft.XPS.Shell.Thumbnail', '/DXImageTransform.Microsoft.CrBlur', '/MSVidCtl.MSVidClosedCaptioningSI', '/MSVidCtl.MSVidCtl.1', '/CDO.Message.1', '/TPCRTP.DynamicRenderer', '/Chat2.Chat2', '/.lnk', '/Access.Shortcut.StoredProcedure.1', '/GoogleDrive.gdraw', '/.midi', '/Skype4COM.ChatCollection', '/ptdctl.PTDCtlRecordset.3', '/HNetCfg.FwPolicy2', '/System.Runtime.Serialization.OnSerializingAttribute', '/RegisterControl.Register.1', '/tvpresent1', '/InfoPath.DesignerExcelImport.2', '/SDRun.AutoPlayHandler.1', '/MFCongestionController.CMFNetworkCon.1', '/Search.ShellFolder.1', '/.gitignore', '/EhStorShell.EhStorFolder.1', '/.gpl', '/.bz', '/X509Enrollment.CX509Extension', '/System.Runtime.InteropServices.SafeArrayTypeMismatchException', '/Microsoft.DirectMusicScriptAutoImpAudioPath', '/CompatContextMenu.CompatContextMenu', '/PROMTENTRYGRID.EntryGridCtrl.9', '/WMP11.AssocFile.AU', '/Msxml2.XMLSchemaCache.6.0', '/.uxdc', '/System.Runtime.Remoting.Metadata.W3cXsd2001.SoapBase64Binary', '/Groove.LANContactList', '/WECAPI5.WebExtenderClient', '/IAS.IASDataStoreComServer', '/X509Enrollment.CCertPropertyRequestOriginator.1', '/Msxml2.SAXXMLReader.5.0', '/ContactPicker.ContactPicker', '/STSInproc.SpeechTextService.1', '/OneNote.OutlookAddin.12', '/.rev', '/.mkv', '/JScript.Encode', '/MAPI/IPM.Contact', '/SppComApi.TokenActivation.1', '/LatLongReport', '/.mpc', '/System.Runtime.Remoting.Metadata.W3cXsd2001.SoapNmtoken', '/.gadget', '/CAPICOM.EncryptedData', '/Microsoft.MediaCenter.GlidHost.ScanConfigWrapper.1', '/.mak', '/Groove.DeviceIdleServices', '/X509Enrollment.CCertProperty.1', '/DAO.Index.35', '/System.Diagnostics.SymbolStore.SymDocumentType', '/WMP11.AssocMIME.WPL', '/DXImageTransform.Microsoft.Alpha', '/.xlc', '/PrmEDBase.EDBase.2', '/.php3', '/X509Enrollment.CX509ExtensionEnhancedKeyUsage', '/otkloadr.WRAssembly.1', '/Msxml2.MXHTMLWriter.4.0', '/System.RankException', '/SAPI.SpObjectToken', '/VSTA.vssettings.8.0', '/Msxml2.DOMDocument.5.0', '/MSDAER.1', '/AMOVIE.ActiveMovie Control.2', '/VLC.ra', '/32AppID', '/Smart.DebugHelper.1', '/WMP11.AssocFile.3G2', '/LR.LexRefBilingualService.1.0', '/KLCP.WMP.tta', '/Microsoft.Windows.Diagnosis.ManagedHost', '/tvsqsupport1', '/OziExplorer.RoutesFile', '/FaxServer.FaxServer', '/Groove.AccountGlueCode', '/DXImageTransform.Microsoft.Strips.1', '/HNetCfg.FwOpenPort', '/VLC.vqf', '/MSRDC.SimilarityFileIdTable.1', '/AcSmComponents.AcSmAcDbBlockRecordReference.20', '/System.Globalization.HijriCalendar', '/MiKTeX.sty.2.9', '/Groove.MessagerHelperObject', '/PLA.DataCollectorSetCollection', '/AccClientDocMgr.Shortcut.1', '/EPTBL.ToolBarEx', '/.ace', '/ITIR.Query.4', '/PrmtODAManager.PrmtODAManager.2', '/MSVidCtl.MSVidFilePlaybackDevice', '/PDCube.PDCubeCreate', '/CertificateAuthority.EncodeStringArray', '/Skype4COM.IEProtocolHandler', '/.graphmlz', '/PrmtLDB.PromtFlexProperties', '/Groove.VCardEditor', '/Groove.WebForms', '/ITIR.WWFilterBuild.4', '/Microsoft.PhotoAcqOptionsDlg.1', '/CryptSig.CryptSig.1', '/MSComctlLib.ImageComboCtl', '/Skype4COM.Client', '/WPD.SettingsCommitPage', '/._sln60', '/Microsoft.PhotoAcquire', '/TpcCom.Lattice.1', '/X509Enrollment.CX509AttributeArchiveKeyHash', '/Microsoft.MediaCenter.GlidHost.GLIDHost', '/OneNote.CSimpleImporter', '/System.NotFiniteNumberException', '/X509Enrollment.CCspInformation.1', '/KLCP.WMP.flv', '/Wireless.About.1', '/.rwz', '/IMOfferRAApp.IMOfferRA', '/TransMan.Manager', '/Forms.CommandButton.1', '/VLC.rmi', '/Search.JetPropStore', '/ProductInf.PromtProductSession.4', '/Groove.MessageStoreEngine', '/.mp4v', '/Groove.TelespaceDynamics2', '/Smile.SmilePP9.2', '/CDO.SS_SMTPOnArrivalSink.1', '/Groove.SketchView', '/WMLSS.WindowsMediaLibrarySharingServices', '/ITIR.ResultSet', '/HomePage.HomePage.1', '/MSVidCtl.MSVidWebDVD.1', '/.hxi', '/DXImageTransform.Microsoft.RandomBars', '/DAO.QueryDef.35', '/igfxsrvc.TVParam', '/TpcCom.InkObjectXP', '/Msshed.ShedDSO', '/TpcCom.DrawAttrsXP', '/SessionDebugManager.7', '/drvfile', '/Skype4COM.ApplicationStream', '/Stack.System.Photo', '/.gdraw', '/Groove.LoginPasswordCode', '/Ietag.OOC', '/Matlab.Desktop.Application.9.5', '/About.PromtAppCounter', '/X509Enrollment.CX509CertificateRequestPkcs10.1', '/MSVidCtl.MSVidAnalogTunerDevice', '/System.Runtime.Remoting.Metadata.W3cXsd2001.SoapDay', '/LibreOffice.Dxf', '/.edrwx', '/Word.Basic', '/qedit.MediaLocator.1', '/Outlook.File.ics', '/MMCTask.MMCTask', '/.VBE', '/3dsmus', '/VSTA_IP.config.8.0', '/Microsoft.DirectMusicLyricsTrack', '/EhEtwServer.EhTraceProvider', '/Msxml2.MXXMLWriter.4.0', '/DXTransform.Microsoft.DXLUTBuilder.1', '/.rll', '/MAXComponents.SkinEngine', '/ADODB.Parameter', '/Microsoft.VisualStudio.Tools.Applications.Blueprints.BlueprintCancelEventArgs', '/.xsc', '/IAS.InfoBase', '/VLC.opus', '/ScanProfiles.ScanProfileUI.1', '/EventSystem.EventSystem', '/Groove.IdentityAuthenticationCode', '/PRMTLIB.PromtSegRulesCtrl.3', '/Groove.DragDropDataTransferTarget', '/System.NotImplementedException', '/.cbz', '/Groove.DummyShellExtension', '/Microsoft.Access.OLEDB.10.0', '/DBRSTPRX.AsServer', '/.mdb', '/ScriptBridge.ScriptBridge.1', '/MSVidCtl.EVR', '/PLA.SystemDataCollectorSet', '/IPW.ScriptEngine.1', '/MSOlapAdmin2.MSOLAPDimension', '/PowerPoint.Slide.7', '/3dsbip', '/Skype4COM.Client.1', '/HNetCfg.FwProducts', '/.xgml', '/VideoLAN.VLCPlugin.1', '/MSOlapAdmin2.MSOLAPAuxiliarie.1', '/IMCommonCtrlLib.MainPropertyPage', '/.ts', '/MSIDXS', '/LR.LexRefServiceContainer.1.0.1', '/RtfTxt.PromtRtfTxtFileConverter', '/PRMTLIB.PromtUWListCtrl.4', '/Forms.CheckBox.1', '/BDATuner.DVBSTuningSpace.1', '/Groove.XYLayout', '/.java', '/.amr', '/Skype4COM.SmsMessageCollection.1', '/.z96', '/Forms.TabStrip.1', '/Msxml2.FreeThreadedDOMDocument.5.0', '/IMAPI2.MsftDiscMaster2', '/MapiCvt.MapiCvt.1', '/OutlMapiPH', '/Groove.FetchServices', '/PrmtODAManager.PrmtODAManager', '/SAPI.SpInProcRecoContext', '/Groove.DPPRAMP', '/UPnP.SOAPRequest.1', '/htmlfile', '/System.Runtime.Remoting.ServerException', '/MSXML.DOMDocument', '/MimeDir.MimeDirParser.1', '/TvRatings.XDSToRat', '/bootstrap.vsto', '/LR.LexRefStGeObject.1.0', '/PrmtSvr.Directions', '/jnlps', '/bkmfile', '/Microsoft.XMLDOM', '/ECMAScript Author', '/igfxsrvc.EDID', '/mailto', '/.rels', '/ITIR.SvMgr', '/MSDASQLEnumerator.1', '/Transmittal.TransmittalOperation.19', '/Groove.TransportVirtualConnectionRAMP', '/.Rproj', '/Groove.Install', '/HHCtrl.FileFinder.1', '/.ova', '/MicrosoftMinesweeperSaveFile', '/VSTA.xsl.8.0', '/.ppam', '/.xaml', '/IMESingleKanjiDict.9', '/OpenOffice.Potm', '/Codejock.TrayIcon.13.4.2', '/Groove.IconOverlayLoader', '/System.Runtime.CompilerServices.NativeCppClassAttribute', '/Groove.StorageSecurity', '/.wll', '/.mlt', '/.04471', '/Microsoft.Update.InstallationAgent', '/AtWorkRendering', '/DiskManagement.Control', '/OfficeCompatible.Application.1', '/Groove.RecordEnum', '/SDConfig.AutoPlayHandler', '/HardLink.HardLinkMenu', '/Equation', '/SAPI.SpPhraseInfoBuilder.1', '/SyncResultsFolder', '/Groove.WorkspaceManagerApplication', '/PSTFile', '/igfx.TVParam.1', '/DxDiag.DxDiagProvider', '/RdpCoreTS.WTSProtocolManager.1', '/.xsd', '/.tbz', '/Groove.WebSubscriptions', '/soffice.StarDrawDocument', '/.accdr', '/MiInkSeg.MiRioTabletInput.1', '/Tabs_for_Access.Connect', '/System.Security.AllowPartiallyTrustedCallersAttribute', '/3dsant', '/MSOlapAdmin2.MSOLAPDimension.1', '/.iso', '/.divx', '/ptdctl.PTDCtlMemories.3', '/KLCP.WMP.ac3', '/MSXML.FreeThreadedDOMDocument', '/WMP11.AssocFile.WPL', '/j2cfile', '/Groove.ProjectItemDetailsFactory', '/Groove.Button', '/WinInetCache.WinInetCache', '/FaxControl.FaxControl.1', '/igfx.OpenGL.1', '/TpcCom.DrawAttrs.1', '/.wlt', '/.DVR-MS', '/MSVidCtl.MSEventBinder', '/.rul', '/AzRoles.AzAuthorizationStore', '/Groove.MessageFactory', '/Msxml2.MXXMLWriter.6.0', '/VisualStudio.Launcher.suo', '/.nvr', '/BDATuner.ChannelTuneRequest', '/MSOlapAdmin2.MSOLAPDatabase', '/MsRdpWebAccess.MsRdpClientShell', '/MODI.Document', '/Skype4COM.Group', '/DXImageTransform.Microsoft.Compositor', '/SAPI.SpMemoryStream.1', '/.wax', '/Groove.WebProperties', '/.r20', '/ADDFLOW.AddFlowCtrl.1', '/System.Text.StringBuilder', '/qedit.GrfCache', '/MSGraph.Chart.5', '/Microsoft.PhotoProgressDialog', '/MiKTeX.Session', '/.asf', '/MSOlapAdmin2.MSOLAPRole.1', '/IgfxExt.CUIExternal.1', '/Microsoft.DirectMusicContainer.1', '/PrmtPro.PromtUsers', '/MAPI/Folder', '/Igfxdo.DataObjectInit', '/Groove.RecordDatabaseManager', '/msinkaut.InkObject.1', '/System.Security.Cryptography.RSAOAEPKeyExchangeFormatter', '/Microsoft.DirectMusicSeqTrack.1', '/DxDiag.DxDiagProvider.1', '/IAS.IASDataStoreComServer.1', '/.vhd', '/IAS.MachineNameMapper', '/CDO.SMTPConnector.1', '/ISInstallDriver.InstallDriver', '/YandexTXT.YSHUMIPZOK4RU5HIRBRXQTHAXU', '/MSTSWebProxy.MSTSWebProxy', '/DSRefObject8.Simple', '/LR.LexRefServiceManager.1.0.1', '/ehRecvr.Recorder.1', '/Groove.GrooveSoapReader', '/comfile', '/DXSurface.OAVEmpty.1', '/System.CannotUnloadAppDomainException', '/CHSIme.CHSInputModule.1', '/Codejock.UpDown.13.4.2', '/Assembler source code', '/Microsoft.DirectMusicSignPostTrack.1', '/MSComctlLib.Toolbar.2', '/WindowsSideShow.SideShowPropVariantCollection.1', '/jntfile', '/.msstyles', '/Groove.FileSynchronizerApplication', '/.ade', '/System.Runtime.Remoting.Metadata.SoapTypeAttribute', '/Word.DocumentMacroEnabled.12', '/MIME', '/MSOlapAdmin2.MSOLAPSources.1', '/ehGLID.GLIDPlugInPAL.1', '/.pbc', '/iqyfile', '/GoogleDrive.gslides', '/Application.Reference', '/.cba', '/OWS.ClientMiscApis', '/PLA.TraceDataProviderCollection', '/ImeCommonAPI1042', '/Msxml', '/Forms.HTML:Submitbutton.1', '/Promt5.PromtFeed.2', '/X509Enrollment.CBinaryConverter.1', '/IAS.QuarantineEvaluator', '/SAPI.SpTextSelectionInformation.1', '/.arj', '/Msxml2.MXDigitalSignature.5.0', '/.odb', '/Search.GatherTrx', '/VSTA.vstemplate.8.0', '/System.OutOfMemoryException', '/Skype4COM.SmsChunk.1', '/MSDMine.MSDMineEnum', '/.sdw', '/.blg', '/LibreOffice.Cgm', '/.s', '/.mv', '/Equation.XPEE2', '/opendocument.MathDocument.1', '/MimeDir.MimeDirProfile.1', '/IAS.ExternalAuthNames.1', '/WPD.NetworkConfigCompletionPage.1', '/System.Runtime.Remoting.Metadata.W3cXsd2001.SoapId', '/ITIR.Query', '/.r09', '/DeviceRect.DeviceRect.1', '/TMX2PTD.TMX2PTDConverter', '/igfxsrvc.Scheme', '/WMPTheme.WMPSkinMngr', '/WMP.Device', '/DXImageTransform.Microsoft.Gradient.1', '/PROTOCOLS', '/Microsoft.PhotoAcqOptionsDlg', '/mcstore', '/TvRatings.EvalRat.1', '/DXImageTransform.Microsoft.CrSlide', '/Groove.ContactListEngine', '/MSExtOrganizationUnit', '/CDO.SS_NNTPOnPostSink.1', '/VSTA_IP.datasource.8.0', '/MsoRun.IEPropertyListenerProxy.1', '/System.Diagnostics.DebuggerHiddenAttribute', '/WECAPI5.FpwAccessSetup3', '/Microsoft.DirectMusicScriptAutoImpSegment', '/X509Enrollment.CObjectIds.1', '/MimeDir.MimeDirProfile', '/.emf', '/OneNoteMobile.SpnSync', '/.mdown', '/.alac', '/DXImageTransform.Microsoft.Slide', '/GIFFilter.CoGIFFilter.1', '/OfficeTheme.12', '/NbTextLayout.NbTextLayoutPage.1', '/MSSTDFMT.StdDataValue', '/.snd', '/ITIR.StdWordBreaker', '/DXImageTransform.Microsoft.GradientWipe.1', '/FX.Rowset', '/ImeCommonAPIClassFactory1028', '/Groove.GrooveFormsDesigner', '/System.IO.EndOfStreamException', '/progId_VirtualBox.Shell.ova', '/System.InvalidProgramException', '/ImeCommonAPI1041', '/Groove.TelespaceTemplateFactory', '/Groove.CollectionManager', '/WMINet_Utils.WmiSecurityHelper.1', '/X509Enrollment.CX509EnrollmentPolicyActiveDirectory.1', '/REMain.Translator', '/.wab', '/System.Security.Permissions.GacIdentityPermission', '/System.Security.Cryptography.HMACSHA1', '/.mpga', '/Txt2If.CKOI8RToIfConverter', '/.3gpp', '/System.Security.Cryptography.PKCS1MaskGenerationMethod', '/MachineDebugManagerAD2.7', '/VSFileHandler.VsShellExtHandler', '/.rt2', '/AcSignCore.AdskSignature.1', '/Mmcshext.ExtractIcon', '/dpapiprovider.cdpapiprovider.1', '/Microsoft.MediaCenter.iTv.BackgroundImageFactory', '/LibreOffice.Tga', '/REMain.Translator.4', '/DXImageTransform.Microsoft.CrBarn.1', '/soffice.StarWriterGlobalDocument.6', '/Pdf2If.Pdf2IfConverter', '/Rdpcomapi.RDPSession.1', '/SppComApi.LicensingStateTools', '/MsoRun.OAVMediaDHTMLBehavior', '/IMCommonCtrl.PromtMessengerProxy.2', '/SDENGINE.SdEngine2.1', '/VLC.mp2', '/.dts', '/WMFFilter.CoWMFFilter', '/.001', '/igfxsrvc.Rotation', '/MSOlapAdmin2.MSOLAPMeasure', '/lstfile', '/AIFFFile', '/Codejock.TaskDialog.13.4.2', '/HxVz.HxIndexCtrl.1', '/MSDASQL ErrorLookup.1', '/Word.Application.12', '/TipAutoCompleteClient.TipAutoCompleteClient', '/WinRAR.ZIP', '/System.FormatException', '/WpdSerializer.WpdSerializer.1', '/SmarTool8.PowerPointAddin', '/MSDAURL.Binder.1', '/MSDADC.1', '/Skype4COM.Skype.1', '/CDisplayTarArchive', '/PhotoViewer.FileAssoc.Bitmap', '/X509Enrollment.CX509AttributeExtensions.1', '/.vro', '/CTREEVIEW.CTreeViewCtrl.1', '/VLC.qcp', '/WindowsInstaller.Message', '/OWS.ClientMiscApis.2', '/UnityWebPlayer.UnityWebPlayer', '/yEd 4', '/SdrService.SdrRestoreService', '/OutlMapiPH.1', '/h1tfile', '/Microsoft.DirectMusic.1', '/System.Security.Cryptography.FromBase64Transform', '/IMCommonCtrl.PromtPluginMessageStorage', '/Equation.COEE2', '/Search.GatherNotify', '/RWorkspace', '/IMEAPI.CImePropertyJK.1', '/Microsoft.DirectMusicCommandTrack', '/OpenOffice.Doc', '/PropertyValue', '/PRMT8.PromtLDBConv.2', '/Groove.TabToolSetGlue', '/ADSystemInfo', '/MSComctlLib.Slider.2', '/Skype4COM.ConferenceCollection', '/CRTXFile', '/soffice.StarCalcDocument.6', '/MSDASQL.1', '/Search.StickyNotesHandler.1', '/IMEPad.SKF.SCIME', '/KLCP.WMP.flac', '/RACplDlg.RARegSetting', '/CLRMetaData.CLRRuntimeHost.2', '/KLCP.WMP.m2p', '/GPSMapEdit.Register.1', '/SAPI.SpAudioFormat.1', '/FunctionDiscovery.WSDPrintProxy.1', '/.stl', '/PrmtLDB.PromtDictInfo.9', '/System.ArgumentOutOfRangeException', '/OneNote.Application.12', '/MSOLAPUI90.ConnectDialog', '/Word.Document.8', '/PowerPoint.Template.12', '/telnet', '/.cls', '/Groove.InkObject', '/NCProv.NCProvider.1', '/mapifvbx.object.1', '/WinNT', '/.lmx', '/msinkaut.InkRecognizers.1', '/Groove.NotepadToolGlue', '/SAPI.SpCompressedLexicon.1', '/rtffile', '/Microsoft.JScript.COMFieldInfo', '/System.Reflection.AssemblyName', '/opendocument.DatabaseDocument.1', '/.rgn', '/Windows.XamlDocument', '/LibreOffice.WriterWebDocument.1', '/Msxml2.DOMDocument.6.0', '/COMSNAP.CUserPropPages.1', '/evtxfile', '/3dsxmm', '/WSCommCntr4.CommCntrManager', '/SensorsApi.SensorDataReport.1', '/MsoRun.OAVRedirectFallback.1', '/Microsoft.PhotoAcqHWEventHandler', '/.jod', '/Msxml2.DOMDocument.4.0', '/.tif', '/TyporaMarkdownFile', '/BdeUISrv.BDEUILauncher.1', '/Outlook.OlkOptionButton', '/Skype4COM.PluginEvent', '/Explorer.AssocProtocol.search-ms', '/Microsoft.DirectSoundCompressorDMO.1', '/DiskManagement.DataObject', '/KLCP.WMP.trp', '/RAServer.RemoteAssistance', '/Groove.DocumentShareEngine', '/MSSTDFMT.StdDataFormats', '/MsRDP.MsRDP.6', '/.EQP', '/TpcCom.InkObject', '/.it', '/Microsoft.Update.AgentInfo.1', '/JNTFilter.JNTFilter.1', '/opensearchresult', '/ODCNEWFILE', '/Microsoft.DirectMusicWaveTrack', '/InkEd.InkEdit.1', '/COMSVCS.TrackerServer', '/SAPI.SpNullPhoneConverter.1', '/IAS.EAPTerminator.1', '/VLC.ogx', '/WMSClientNetManager.ClientNetManager.1', '/CertificateAuthority.EncodeLongArray', '/OISwmffile', '/ptdctl.PTDSegmentationRules.3', '/SAPI.SpPhraseBuilder.1', '/BDATuner.MPEG2TuneRequest.1', '/Search.LanguageResource', '/.udf', '/.mov', '/Microsoft.System.Update.1', '/LbrkTxt.PromtLbrkTxtFileConverter', '/Outlook.OlkBusinessCardControl.1', '/Groove.EnumFactory', '/.wbk', '/LibreOffice.DrawDocument', '/VLC.OPENFolder', '/icofile', '/.lcap', '/DirectDrawClipper', '/Microsoft.Update.Downloader.1', '/htafile', '/System.Security.Cryptography.CryptoConfig', '/TAPI.TAPI', '/Local Settings', '/.api', '/Mmcshext.ExtractIcon.1', '/Groove.EDBClientBackupToolMasterLogDataDelegate', '/SBEServer.SBEDeviceManager.1', '/BDATuner.ISDBSLocator.1', '/Groove.MessagerServices', '/Skype4COM.SmsMessage.1', '/Access.Extension', '/X509Enrollment.CX509ExtensionTemplate.1', '/AcSmComponents.AcSmNamedAcDbObjectReference.20', '/.wmv', '/mshjdic.hanjadic.1', '/Groove.RoleUIHelperObject', '/System.Runtime.InteropServices.OptionalAttribute', '/ADODB.Connection.6.0', '/DAO.User.120', '/LibreOffice.CalcDocument.1', '/MSOlapAdmin2.MSOLAPDetails.1', '/LibraryLocation', '/FaxComEx.FaxDocument', '/.gqsx', '/eHome.McxMediaController.1', '/MSVidCtl.MSEventBinder.1', '/X509Enrollment.CX509AttributeClientId', '/Psisdecd.AnalogCable', '/X509Enrollment.CX509ExtensionTemplateName', '/.ntar', '/soffice.StarMathDocument', '/.resmoncfg', '/System.Runtime.Remoting.Lifetime.ClientSponsor', '/MSDAORA ErrorLookup', '/.xlthtml', '/AUFile', '/.stc', '/Msxml2.FreeThreadedDOMDocument.3.0', '/VSTA.snk.8.0', '/Forms.HTML:TextArea.1', '/COMSNAP.CPartitionSetContextMenu.1', '/DirectDraw7', '/eHome.mcplayer.1', '/MicrosoftChessTitansSaveFile', '/CplExt.VtSrdPropPage.1', '/IMECheckDefaultInputProfile.Japan.3', '/Msxml2.DSOControl.4.0', '/Google.OneClickProcessLauncherMachine.1.0', '/Rdpvcomapi.RDPViewer.1', '/X509Enrollment.CCertificatePolicy.1', '/WMP11.AssocFile.M2TS', '/MessageView.MessageView', '/SoftwareDistribution.VistaWebControl.1', '/.p10', '/MPlayer', '/System.Version', '/wlsrvc.WLServices.1', '/KLCP.WMP.evo', '/PRMT8.PromtDictServices', '/WiaVideo.WiaVideo.1', '/Groove.FilesToolDataDelegate', '/Agent.Character.2', '/cttunesvr.CtTuner.1', '/CDO.Message', '/DXImageTransform.Microsoft.AlphaImageLoader', '/MsoRun.AnimScaleDHTMLBehavior', '/LibreOffice.Pps', '/TemplatePrinter.TemplatePRinter', '/.mam', '/MSOlapAdmin2.MSOLAPLevels.1', '/.library-ms', '/.mp2v', '/WSCommCntr4.NetworkConnectionManager.1', '/Transmittal.TransmittalFilesGraph.19', '/Access.ShortCut.Macro', '/PrmEDBase.EDBaseDirection.2', '/X509Enrollment.CX509AttributeClientId.1', '/Txt2If.CWIN1251ToIfConverter.3', '/.JSE', '/igfxsrvc.Settings', '/.tab', '/.asm', '/MSVidCtl.MSVidInputDevices', '/.bdmv', '/Microsoft.DirectMusicScripSourceCodeLoader.1', '/WMP11.AssocFile.M3U', '/VLC.flac', '/.mka', '/ZoomRecording', '/Microsoft.DirectMusicScriptAutoImpSegmentState', '/Skype4COM.User', '/VSTA.sdl.8.0', '/IMEPad.SKF.TCIME', '/VirtualBox.Session.1', '/VSTA.cs.8.0', '/igfxsrvc.CUIService', '/.sop', '/VLC.voc', '/OfficeCompatible.Application', '/VLC.divx', '/SAPI.SpShortcut.1', '/Search.EmbeddedGatherNotifyInline', '/BDATuner.ChannelIDTuneRequest.1', '/IMEAPI.CImeCommonAPI.1', '/PDictEdit.GR', '/PrmAct.PromtActivationProducts', '/Microsoft.DirectMusicChordMapTrack.1', '/.WMS', '/VLC.aob', '/CAPICOM.Attribute', '/System.Globalization.ThaiBuddhistCalendar', '/.fnd', '/Groove.Email', '/TpcCom.DrawAttrs', '/TpcCom.TabletManager.1', '/Skype4COM.Voicemail', '/.maf', '/Microsoft.DirectMusicSynthSink', '/.wmz', '/inifile', '/X509Enrollment.CAlternativeNames', '/Promt5.Web2', '/X509Enrollment.CCspInformation', '/DirectXFile', '/.jpe', '/SAPI.SpNotifyTranslator', '/KLCP.WMP.f4v', '/Licenses', '/System.Runtime.Remoting.Proxies.ProxyAttribute', '/.xm', '/TextInputPanel.TextInputPanel.1', '/System.Runtime.CompilerServices.CallConvFastcall', '/DXImageTransform.Microsoft.Pixelate.1', '/Midoc.MiDocument', '/BDATuner.DVBTLocator2.1', '/.idq', '/Groove.SoundAlerts', '/Groove.WebNotifications', '/IAS.UserNTGroups', '/PropertyEntry', '/MsRDP.MsRDP.4', '/.tiff', '/VLC.3g2', '/JScript', '/.dochtml', '/LibreOffice.Pptx', '/.texi', '/WECAPI5.FpStats', '/Skype4COM.Chat', '/OTB.cRijndael', '/.sfcache', '/KLCP.WMP.aob', '/IMEAPI.CImeCommonAPI', '/System.MTAThreadAttribute', '/.xix', '/PFXFile', '/SrControl.SrControl.1', '/Msxml2.XSLTemplate.3.0', '/.iqy', '/GrooveVCard', '/MsoEuro.Converter', '/.srf', '/PortableDeviceValuesCollection.PortableDeviceValuesCollection', '/ITIR.SystemWordSink', '/.mqh', '/PDCube2.PDCubeCreate.1', '/Groove.IdentityMessageTransport', '/X509Enrollment.CX509AttributeRenewalCertificate', '/osu!', '/.m4p', '/Nbdoc.NBDocument.1', '/HNetCfg.HNetShare', '/Groove.MessagerUIHelperObject', '/.mpa', '/LocationDisp.CivicAddressReportFactory', '/SVCID', '/YandexGIF.YSHUMIPZOK4RU5HIRBRXQTHAXU', '/VLC.3gp2', '/Codejock.Label.13.4.2', '/.xlxml', '/.h', '/SAPI.SpMemoryStream', '/.mq5', '/Microsoft.VisualStudio.Tools.Applications.Blueprints.BaseTypes.HostControlType', '/Microsoft.MediaCenter.iTv.CiTvMediaCenterSettings', '/DAO.Index.120', '/Sharepoint.OpenXMLDocuments.2', '/Windows.ContactManager.1', '/Groove.ApplicationDescriptorStore', '/.xlam', '/EhSched.RecordingEventsMediator', '/DXImageTransform.Microsoft.CrRadialWipe', '/ScanProfiles.ScanProfileMgr.1', '/WindowsMail.Envelope', '/Smart.DebugHelper', '/DMM.Classifier.1', '/igfx.Overlay.1', '/DXImageTransform.Microsoft.Gradient', '/VisualStudio.Launcher._sln70', '/Scriptlet.Constructor', '/Microsoft.DirectSoundEchoDMO.1', '/Codejock.WebBrowser.13.4.2', '/IAS.CClient', '/WSMan.InternalAutomation', '/System.Globalization.GregorianCalendar', '/VisShe.QuickViewShellExt.1', '/SensorsApi.SensorManager.1', '/IAS.MachineAccountValidation.1', '/.jfif', '/.wtx', '/MSOLAPUI90.ConnectDialog.1', '/Groove.RegistryRAMP', '/Msxml2.XSLTemplate.4.0', '/GoogleUpdate.ProcessLauncher.1.0', '/ptdctl.PTDCtlRecordset', '/.pic', '/System.SystemException', '/Groove.CommunicationsServices', '/SHCmdFile', '/DXImageTransform.Microsoft.Emboss', '/PrmtLDB.PromtFlexProperties.3', '/OTB_Loader.PJTB_Loader', '/.H1H', '/Rdpvcomapi.RDPViewer', '/Label', '/.fodp', '/Groove.VersionGlueCode', '/.pubmhtml', '/Groove.LiteChatApplication', '/MSOlapAdmin2.MSOLAPExtLevels.1', '/WBEMComLocator', '/WMP11.AssocFile.ADTS', '/DNWithString', '/EventSystem.EventPublisher.1', '/DBROWPRX.AsServer.1', '/System.MethodAccessException', '/Groove.UserVerificationDlgDelegate', '/IAS.BaseCampHost', '/VLC.adts', '/DAO.PrivateDBEngine.36', '/Codejock.MonthCalendar.13.4.2', '/Mathematica.WindowsIndexer.1', '/AcroExch.FDFDoc', '/JavaPlugin.11912', '/AcSmComponents.AcSmDSTFiler.20', '/System.Runtime.Remoting.Channels.TransportHeaders', '/.label', '/Microsoft.DirectSoundEchoDMO', '/.onetoc2', '/SQLOLEDB.1', '/IAS.NTSamPerUser.1', '/XTPFile', '/Skype4COM.Call.1', '/.m4b', '/webcals', '/X509Enrollment.CX509ExtensionCertificatePolicies', '/Microsoft.DirectSoundParamEqDMO', '/.mp2', '/MTSAdmin.Catalog', '/inffile', '/Theme.Manager', '/.rtf', '/YandexPDF.YSHUMIPZOK4RU5HIRBRXQTHAXU', '/MSOlapAdmin2.MSOLAPExtLevel', '/BDATuner.MPEG2TuneRequestFactory', '/IAS.SdoMachine.1', '/X509Enrollment.CCertPropertyAutoEnroll.1', '/.pl', '/Groove.DeviceServices', '/Groove.ChessView', '/ADCFile', '/WorkspaceRuntime.Workspace.1', '/ecwfile', '/3dskbd', '/.ps1', '/MSVidCtl.MSVidCtl', '/opendocument.CalcTemplate.1', '/.Rhtml', '/Groove.OptionsGlueCode', '/Access.ShortCut.Report', '/IAS.NetDataStore', '/XEV.FailSafeApp', '/MsoRun.CommandDHTMLBehavior', '/Stack.System.Music.Genre', '/KLCP.WMP.ape', '/OWS.DiscussionBar.1', '/.sct', '/MSOlapAdmin2.MSOLAPModels.1', '/RegisterControl.Register', '/Groove.FormsToolDataDelegate', '/eHomeSchedulerService.EhepgdatDispatcher', '/EHomeDropTarget.EHomePhotosHandler', '/Microsoft.DirectMusicPerformance.1', '/SystemFileAssociations', '/VLC.rm', '/Groove.SubscriptionNotificationServices', '/AcSmComponents.AcSmAcDbLayoutReference.20', '/KLCP.WMP.pls', '/CHTIme.CHTInputModule', '/Forms.HTML:Password.1', '/SmarTool8.WordAddin', '/msinkaut.DrawingAttributes', '/SAPI.SpGrammarCompiler', '/.mse', '/LibreOffice.Uop', '/SAPI.SpSharedRecognizer.1', '/Groove.ShellAPIHelper', '/PhotoViewer.FileAssoc.Png', '/System.ContextMarshalException', '/.awb', '/ptdctl.PTDCtlProjects.3', '/Groove.AdviseProxy', '/X509Enrollment.CCryptAttribute.1', '/CAPICOM.Store.2', '/KLCP.WMP.mpc', '/Forms.SpinButton.1', '/eHome.McxMediaController', '/WMP11.AssocMIME.MOV', '/Groove.NotepadToolDataDelegate', '/MsoRun.AnimSetDHTMLBehavior.1', '/WMP11.AssocFile.M4A', '/X509Enrollment.CX509AttributeCspProvider.1', '/PromtBrowserProxy.WebClassCreator', '/JNLPFile', '/EventSystem.EventClass.1', '/WECAPI5.FpwGroup', '/PLA.TraceDataProvider', '/Groove.SecureStoreFactory', '/VLC.drc', '/ComInkAnalysislib.InkAnalyzer.1', '/VLC.m4p', '/.dbg', '/odctable.1', '/.j2c', '/.ics', '/DXImageTransform.Microsoft.Blinds', '/.xmm', '/WiaDevMgr', '/PortableDeviceValues.PortableDeviceValues.1', '/IAS.NetDataStore.1', '/ScriptBridge.ScriptBridge', '/IAS.AuditChannel.1', '/VisioViewerDWGDisplay.VisioViewerDWGDisplay.1', '/.webpnp', '/giffile', '/JPNIme.JPNInputModule.1', '/NetProjW.Elev', '/MSVidCtl.EVR.1', '/Groove.Soap', '/Groove.AccountServicesPolicy', '/System.MulticastNotSupportedException', '/JRO.Replica.2.6', '/DfsShell.DfsShellAdmin', '/.hxx', '/Windows.DVD.Maker', '/.idb', '/.tta', '/IAS.MachineNTGroups.1', '/IMAPI2.MsftDiscMaster2.1', '/jfwfile', '/InfoPath.DesignerExcelImport', '/trlfile', '/System.TypeLoadException', '/OlePrn.OleInstall.1', '/.AddIn', '/Codejock.PopupControl.13.4.2', '/Groove.CredentialServices', '/WINMGMTS.1', '/Groove.FrameMapStrToStrFactory', '/jtpfile', '/SecurityDescriptor', '/IRService.IRServiceManager', '/AcroExch.XFDFDoc', '/MSTTSFrontendENU.MSTTSFrontendENU', '/Psisdecd.CIsdb.1', '/System.ObsoleteAttribute', '/Msxml2.SAXAttributes.6.0', '/FaultrepDataCollectionInProc', '/mapi', '/.acs', '/MSVidCtl.MSVidEncoder', '/X509Enrollment.CX500DistinguishedName', '/P7MFile', '/OLE DB Row Server', '/ProcessDebugManager.ThreadMgr', '/System.Security.UnverifiableCodeAttribute', '/f_auto_file', '/DXImageTransform.Microsoft.ICMFilter.1', '/Groove.RecordSetEngine', '/LibreOffice.Ras', '/X509Enrollment.CX509ExtensionTemplateName.1', '/.rct', '/WbemScripting.SWbemLocator', '/Groove.UnknownArray', '/Wireless.Snapin.1', '/.sdv', '/MSInfoFile', '/QueryAllWinSAT', '/Skype4COM.SmsTarget.1', '/ttffile', '/WMDMCESP.WMDMCESP', '/AcSmComponents.AcSmProjectPointLocations.20', '/VLC.asx', '/Microsoft.IE.Manager', '/VLC.wma', '/OpenOffice.Docm', '/FunctionDiscovery.WCNProvider.1', '/Groove.DataViewer', '/msinkdiv.InkDivider', '/DXImageTransform.Microsoft.CrZigzag', '/X509Enrollment.CX509CertificateRequestPkcs7', '/ImeCommonAPI1042.1', '/MedicalImagingSystem.Document', '/Groove.GFSServices', '/Equation.IPEE3', '/soffice.StarDrawDocument.6', '/Access.ACCDAExtension', '/NODEMGR.ScopeTreeObject', '/AzRoles.AzBizRuleContext', '/OpenSearchProvider', '/hlpfile', '/msinkaut.InkCollector', '/.ods', '/Codejock.Slider.13.4.2', '/SrControl.SrControl', '/._vstasln80', '/LocationApi', '/SysColorCtrl.SysColorCtrl.1', '/EhStorShell.AutoplayHandler.1', '/SAPI.SpDataKey', '/DBRSTPRX.AsProxy', '/rlefile', '/SharePoint.SpreadsheetLauncher', '/X509Enrollment.CX509AttributeCspProvider', '/Promt5.Web2.2', '/.sxm', '/X509Enrollment.CCertProperty', '/ozf2file', '/JavaPlugin.111212', '/Microsoft.DirectMusicScripSourceCodeLoader', '/MSGraph.Chart', '/.inx', '/IAS.SdoMachine', '/.sys', '/WMICntl.WMISnapin.1', '/X509Enrollment.CCertPropertyRenewal.1', '/Groove.LiveAudioTuner', '/AccDictionary.AccDictionary.1', '/PRMT8.PrmtDServices.PrmtEntryFilterData', '/ndfapi.NetworkDiagnostics.1', '/AcInetEngine.AcInetCallback.20', '/AdobeAcrobat.OpenDocuments.2', '/MSProgramGroup', '/Search.FilesystemBackupProvider.1', '/Search.GatherNotify.1', '/ordecom.PDF2Word.1', '/BDATuner.SystemTuningSpaces', '/CertificateAuthority.ServerExit.1', '/Groove.CSMMaster', '/JRO.JetEngine.2.6', '/.wav', '/.mkd', '/ACCWIZ.FieldListCtrl.2', '/AcroPDF.PDF.1', '/ptdctl.PTDCtlMemories', '/Groove.ObjectEntryStore', '/ml', '/ps_auto_file', '/pjpegfile', '/OWS.DiscussionBar', '/BDATuner.AnalogAudioComponentType', '/VSTA.xss.8.0', '/HNetCfg.FwProduct', '/.inl', '/CAPICOM.Settings', '/FaxServer.FaxServer.1', '/LR.LexRefServiceManager.1.0', '/DXImageTransform.Microsoft.Light', '/IMAPI2.MsftDiscFormat2TrackAtOnce.1', '/.mcl', '/WPD.WindowsPortableDeviceTask.1', '/.mda', '/.inc', '/VLC.mpg', '/.exp', '/IAS.Realm.1', '/WbemScripting.SWbemNamedValueSet.1', '/WMP11.AssocMIME.MP3', '/soffice.StarImpressTemplate.6', '/System.Collections.ArrayList', '/Microsoft.XMLHTTP', '/mql5buy', '/NODEMGR.ComCacheCleanup.1', '/VSCodeSourceFile', '/Skype4COM.ApplicationStream.1', '/System.Text.UTF8Encoding', '/System.Security.Cryptography.DSASignatureDeformatter', '/PNGFilter.CoPNGFilter.1', '/Byot.ByotServerEx', '/AutoItX3.Control', '/eHome.RecoveryTasks', '/Speech.VoiceCommand.1', '/MSOlapAdmin2.MSOLAPAggregation.1', '/PromtBrowserProxy.PromtIEContextMenu', '/OneNote.CFileConverter.1', '/MSDataShape', '/MSOSOAP.SoapReader30', '/CDO.DropDirectory.1', '/.bfr', '/X509Enrollment.CCspStatus.1', '/.vspscc', '/VirtualBox.Session', '/HtmRtf.PromtHtmRtfFileConverter', '/UPnP.SOAPRequest', '/CTapiLuaLib', '/Access.ACCDEFile.12', '/Msxml2.SAXXMLReader', '/UPnP.UPnPService.1', '/MSVidCtl.MSVidClosedCaptioning', '/WindowsSideShow.SideShowNotification', '/Groove.LiveAudio', '/.ppsm', '/System.InvalidOperationException', '/IPM.Note.Mobile.SMS', '/VLC.sdp', '/themepackfile', '/Outlook.OlkCategoryStrip', '/VSTA_IP.settings.8.0', '/FaxComEx.FaxServer.1', '/IMEAPI.CImeKeyMapViewJK.1', '/ADODB.Error.6.0', '/.rf5', '/Groove.LocalIPAddressRAMP', '/FunctionDiscovery.FunctionInstanceCollection', '/CATFile', '/PhunScenePackage', '/IE.message/rfc822', '/MsoRun.IEAnimBehaviorFactory', '/Skype4COM.SmsMessageCollection', '/.yadiskTrash', '/OSE.Global.2', '/VLC.rmvb', '/InfoPath.TemplatePart.2', '/batfile', '/System.Security.Cryptography.RSAOAEPKeyExchangeDeformatter', '/ScanProfiles.ScanProfileUI', '/DSEquations', '/Groove.ChatToolGlue', '/COMSNAP.CPartitionPropPages.1', '/Excel.Chart.5', '/WW.TiberianSun', '/Equation.GAEE2', '/KLCP.WMP.amr', '/.pmc', '/PDictEdit.ER', '/h1kfile', '/DXSurface.OAVEmpty', '/PRMTLIB.PromtTransRulesCtrl.4', '/OSE.Global', '/igfx.Color.1', '/Groove.FileObject', '/COMSVCS.CServiceConfig.1', '/.bkf', '/Access.ShortCut.Form', '/Microsoft.DirectSoundChorusDMO.1', '/PowerPoint.OpenDocumentPresentation.12', '/WiaVideo.WiaVideo', '/MimeDir.MimeDirItem', '/SppComApi.LicensingPackage', '/Skype4COM.CallCollection', '/EHomeDropTarget.EHomeC2RDropTarget', '/TestServer.CodeCoverage', '/MSDASQL ErrorLookup', '/Matlab.Application.Single.9.5', '/Forms.Frame.1', '/X509Enrollment.CX509ExtensionSubjectKeyIdentifier', '/LISTNET.Listnet.11', '/InputProcessor.RioEventSender.1', '/DXImageTransform.Microsoft.CrRadialWipe.1', '/IMAPI.MSEnumDiscRecordersObj.1', '/pbkfile', '/soffice.StarMathDocument.6', '/qedit.DxtJpegPP.1', '/Groove.InstaGrooveServices', '/Previous.Versions', '/UmOutlookAddin.AudioNotes', '/SPPUI.SPPUIObjectInteractive.1', '/MSOlapAdmin2.MSOLAPLevel.1', '/soffice.StarWriterGlobalDocument', '/ScriptControl', '/DBRSTPRX.AsProxy.1', '/WMSDKMSBSourcePlugin.MSBDSource.2', '/System.IO.MemoryStream', '/Codejock.DateTimePicker.13.4.2', '/CAPICOM.Certificate.2', '/X509Enrollment.CX509ExtensionKeyUsage', '/.asc', '/IAS.Match', '/PTDStudio.Application.3', '/.ape', '/TpcCom.UserLexiconManager.1', '/COMEXPS.CTrkEvntListener', '/CEIPLuaElevationHelper', '/SAPI.SpMMAudioIn.1', '/Mathematica.Control', '/SDBACKUPCONFIG.SdBackupConfig.1', '/Groove.URLNavigator', '/VisualStudio.Launcher._sln71', '/System.MemberAccessException', '/WMP11.AssocFile.ASF', '/ADOX.Index', '/ImeCommonAPI1041.1', '/YandexDisk.AutoplayEventHandler', '/IAS.QuarantineEvaluator.1', '/WECAPI5.FpwUser', '/.lex', '/PRMTODA.PrmtODACtrl.2', '/IMAPI.MSDiscRecorderObj.1', '/KLCP.WMP.ogg', '/WECAPI5.WebExtenderClient.3', '/Groove.VersionHelper', '/markdownpad2', '/BDATuner.MPEG2Component', '/Network', '/.xlsm', '/.wdp', '/Groove.AccountEngine', '/Component Categories', '/HNetCfg.NATUPnP', '/h1sfile', '/OWS.BrowserUI', '/AcSmComponents.AcSmSheet.20', '/.mdt', '/System.EnterpriseServices.Internal.SoapClientImport', '/System.Runtime.Remoting.Metadata.W3cXsd2001.SoapYear', '/IE.AssocFile.XHT', '/VLC.mpeg2', '/xslfile', '/XEV.GenericApp', '/Groove.Record', '/Stack.Image', '/InfoPath.TemplatePart', '/MemuHyperv.Session.1', '/COMSNAP.ComponentDataImpl', '/Microsoft.DirectSoundFlangerDMO', '/X509Enrollment.CX509CertificateRequestPkcs7.1', '/WMP.WTVFile', '/DesktopBackground', '/Software', '/.mat', '/Groove.AgendaWizard', '/MSVidCtl.MSVidStreamBufferSource', '/CryptPKO.CryptPKO.1', '/eHomeSchedulerService.MCEMediaOutputDevice', '/Microsoft.DirectMusicSection', '/System.Security.Cryptography.HMACRIPEMD160', '/X509Enrollment.CCertPropertyKeyProvInfo.1', '/Groove.MeetingDetailsFactory', '/Outlook.OlkCommandButton.1', '/Coloader.VsFreeLoader.1', '/Skype4COM.Skype', '/.ncb', '/Skype4COM.ApplicationStreamCollection', '/DRM.GetLicense', '/eHome.MCAsyncTVPlayer', '/WSCommCntr4.SearchResultCollection', '/VSMGMT.VssSnapshotMgmt', '/VLC.gvi', '/PrmtCtl.DictDoc.3', '/BDATuner.AnalogTVTuningSpace.1', '/.PurbleShopSave-ms', '/Codejock.CheckBox.13.4.2', '/Microsoft.DirectSoundWave', '/Psisdecd.PBDA', '/3dsqop', '/ImeCommonAPIClassFactory2052.1', '/PLA.TraceSession.1', '/ITIR.PropertyList.4', '/Groove.GFSBroadcastServices', '/X509Enrollment.CSmimeCapabilities.1', '/DXImageTransform.Microsoft.Barn', '/soffice.StarWriterTemplate.6', '/Microsoft.Update.SystemInfo.1', '/SAPI.SpInprocRecognizer', '/.csproj', '/.ppthtml', '/System.Runtime.InteropServices.InAttribute', '/TIFImage.Document', '/IAS.NTSamNames', '/VLC.aif', '/ehGLID.AtscPsipParser', '/ODCTABLEFILE', '/X509Enrollment.CX509ExtensionSmimeCapabilities', '/.xlt', '/RGMain.Translator.4', '/EventPublisher.EventPublisher', '/.pdb', '/MSGraph', '/NODEMGR.MMCViewExt.1', '/.mxf', '/OpenOffice.Potx', '/Groove.ProgressBar', '/Promt6.WebPageFolder', '/UXDCFILE', '/.sr_', '/.r03', '/PLA.SystemDataCollectorSetCollection.1', '/DXImageTransform.Microsoft.Slide.1', '/OWS.WordUI', '/tvcontrol1', '/.ifl', '/msinkaut.InkPicture.1', '/FTMngr.FileTranslateManager.3', '/Access.LockFile.12', '/IAS.EAPTerminator', '/EHomeDropTarget.EHomeDVRDropTarget', '/DownloadBehavior.DownloadBehavior.1', '/Outlook.File.vcf', '/.hxk', '/32HardLink.IconOverlayHardlink.1', '/X509Enrollment.CX509AttributeArchiveKey', '/Groove.CountedEvent', '/SBEServer.AudioCD.1', '/.contact', '/GoogleUpdate.CoCreateAsync.1.0', '/System.Runtime.InteropServices.OutAttribute', '/System.Exception', '/Groove.GrooveFormsDatabase', '/RTPatcher.RTPatcher', '/TDCCtl.TDCCtl.1', '/Sysmon', '/Microsoft.DirectMusicTempoTrack', '/X509Enrollment.CX509Attributes.1', '/Search.CommandCreator', '/LibreOffice.Xpm', '/.gcsx', '/LibreOffice.CalcDocument', '/Smile.SmilePP9.3', '/DAO.QueryDef.36', '/Search.Indexer.1', '/wbcatfile', '/Groove.DNSRAMP', '/Groove.ToolUnreadTriggerFactory', '/SAPI.SpUncompressedLexicon.1', '/LibreOffice.Xltm', '/OIStiffile', '/.phz', '/Folder', '/LibreOffice.Pbm', '/Skype4COM.Conference', '/PrmtCtl.DictDoc', '/SensorsApi.SensorDataReport', '/IAS.MachineInventory', '/WSCommCntr4.ELearningCourse', '/.oqy', '/BDATuner.ATSCComponentType.1', '/System.Runtime.Serialization.SurrogateSelector', '/com.sun.star.ServiceManager.1', '/Promt6.TextToSpeech.9', '/DXImageTransform.Microsoft.RevealTrans.1', '/Psisdecd.DvbSiParser.1', '/.gdb', '/cc_auto_file', '/MediaCenter.C2R', '/MSSTDFMT.StdDataFormats.1', '/X509Enrollment.CX509ExtensionKeyUsage.1', '/MicrosoftSolitaireSaveFile', '/.py', '/UPnP.UPnPDevice.1', '/.bcp', '/Outlook.OlkSenderPhoto', '/ADTFile', '/igfxpph.GraphicsShellExt.1', '/Groove.TelespaceURLSyntax', '/System.DataMisalignedException', '/ORG10SVR.Application.1', '/Equation.BOEE4', '/IAS.RadiusProxy.1', '/Shell.Autoplay.1', '/PortableDeviceValuesCollection.PortableDeviceValuesCollection.1', '/GC', '/PrmEdCtl.PromtMDSParser', '/Writer.Application', '/AcSmComponents.AcSmPublishOptions.20', '/Microsoft.DirectMusicScriptTrack.1', '/docxfile', '/WMPTheme.WMPSkinMngr.1', '/Groove.DatabaseUtil', '/OTB_Loader.PBTB_Loader', '/Rtf2If.Rtf2IFConverterNew', '/RCM.ConnectionManager.1', '/MediaPackageFile', '/Chat2.Chat2.1', '/ITIR.FTIBuild.4', '/System.Diagnostics.SymbolStore.SymLanguageType', '/dictedit.PromtDictionaryEditor', '/MsRDP.MsRDP.2', '/LDAP', '/CAPICOM.Store.1', '/PRMTLIB.PromtDictListCtrl.4', '/WinNTSystemInfo', '/EhSched.RecordingEventsMediator.1', '/korime.korinputmodule', '/Search.GatherNotifyInline.1', '/DAO.TableDef.36', '/BDATuner.DVBSLocator', '/MiKTeX.tex.2.9', '/fonfile', '/.msg', '/XLaunchFile', '/ehGLID.GLIDLoaderHandler', '/Groove.ImageList', '/yabrowser', '/CAPICOM.Certificates.2', '/OfficeTheme', '/eHome.RecoveryTaskDispatchServer.1', '/Microsoft.DirectMusicSysExTrack.1', '/X509Enrollment.CCertificatePolicies.1', '/Txt2If.UTF8ToIfConverter', '/mraut.MathRecognizer', '/MSHelp.hxd.2.5', '/.local', '/LR.LexRefTfFunctionProvider.1.0.1', '/.acf', '/PrmtDServices.PromtFlexServices.3', '/MSDMineErrorLookup', '/System.Security.Cryptography.DESCryptoServiceProvider', '/IMAPI2FS.MsftFileSystemImage.1', '/System.Security.Cryptography.X509Certificates.X509Certificate', '/Shell.UIHelper.1', '/InkSeg.RichInkSegment', '/MSDFMAP.Handler.1', '/SppComApi.LicensingStatusData', '/ImeCommonAPIClassFactory1042', '/gmmpfile', '/.ers', '/.p7s', '/.mpv2', '/Groove.ClipboardDataTransferTarget', '/opensearchdescription', '/.MTS', '/GoogleUpdate.Update3WebMachine.1.0', '/PowerPoint.Slide.12', '/Paint.Picture', '/soffice.StarCalcDocument', '/BdeUISrv.BDEUILauncher', '/AutoCAD.AxMPolygonObj.20', '/WSCommCntr4.CommCntrContentCollection', '/VLC.aiff', '/.stw', '/IFProvider.PrmtIFDocument', '/.dothtml', '/System.MissingMethodException', '/yEd 3', '/Groove.WebChat', '/Access.ADEFile', '/System.Security.Cryptography.CspParameters', '/qedit.Xml2Dex.1', '/BDATuner.ATSCTuningSpace', '/MSOlapAdmin2.MSOLAPPartition', '/PLA.BootTraceSessionCollection', '/.moc', '/32Directory', '/Psisdecd.DigitalCable.1', '/Skype4COM.CallCollection.1', '/vcard_wab_auto_file', '/WMLSS.WindowsMediaLibrarySharingServices.1', '/PowerPoint.SlideShow.12', '/X509Enrollment.CX509CertificateRequestCmc', '/WIA.ImageProcess.1', '/Coloader.VsApartmentLoader.8.0', '/.cda', '/.elm', '/ehGLID.GLIDPlugInISDBSatellite.1', '/.mlp', '/acrobat', '/Promt6.TextToSpeech', '/Access.ShortCut.Query', '/Midoc.Stationery.1', '/Microsoft.DirectSoundFlangerDMO.1', '/odc.table', '/MSComctlLib.TabStrip.2', '/._sln70', '/ADODB.Connection', '/FBiblio.Factoid.1', '/Groove.HTMLTableLayout', '/MSComctlLib.ProgCtrl.2', '/ehGLID.DvbSiParser.1', '/ptdctl.PTDSegmentationRules', '/DXImageTransform.Microsoft.Chroma.1', '/System.Diagnostics.StackFrame', '/System.Reflection.TargetParameterCountException', '/P7SFile', '/MSIME.Taiwan', '/Groove.UnreadMarkEngine', '/.tcl', '/WMP.Device.1', '/KSGenerator.KeystrokeGenerator.1', '/IAS.UserNTGroups.1', '/KLCP.WMP.wtv', '/ProductInf.PromtProductSession2.3', '/MsoRun.AnimExecutiveBehavior', '/.kmz', '/powerpointmhtmlfile', '/Access.PromtAppCounter', '/Skype4COM.Voicemail.1', '/Microsoft.MediaCenter.iTv.CiTvStreamEvents', '/SAPI.SpResourceManager', '/PowerPoint.ShowMacroEnabled', '/.sti', '/Microsoft.Update.Installer', '/dqyfile', '/WebServices.WSProductProfile', '/.dot', '/SAPI.SpCustomStream', '/Wordpad.Document.1', '/Groove.CSM', '/KLCP.WMP.rec', '/OneNote.TableOfContents.12', '/IE.AssocFile.URL', '/SVCID.Local', '/3dsclr', '/.psd1', '/.H1T', '/X509Enrollment.CSmimeCapability', '/SQLOLEDB Enumerator', '/.tar', '/.wb2', '/Groove.RTFHelpProvider', '/WIA.ImageFile', '/PrintSys.CoFilterPipeline', '/Wireless.Snapin', '/SDSnapin.SDSnapin', '/PRMT6.PromtMorph', '/otffile', '/.pml', '/System.Runtime.InteropServices.MarshalDirectiveException', '/Groove.WebContacts', '/PeerFactory.PeerFactory.1', '/System.UnauthorizedAccessException', '/.flv', '/System.FlagsAttribute', '/Wireless.Extension', '/.evo', '/.jfr', '/.pst', '/.docxml', '/Office2007If.ExcelConverter.2', '/OTB.PowerPointTab', '/AgControl.AgControl.5.1', '/Groove.ProtocolHandler', '/Groove.ChatToolDataModelDelegate', '/MSGraph.Chart.8', '/.gp', '/System.AppDomainSetup', '/.WTV', '/Outlook.File.ofs', '/ClientCaps.ClientCaps', '/WMFFilter.CoWMFFilter.1', '/SharePoint.OpenDocuments.3', '/VSTA_IP.cs.8.0', '/Groove.ExternalApplicationHandler', '/PenIMC.PimcSurrogate.4', '/.md', '/qedit.SmartRenderEngine', '/Stack.Video', '/LibreOffice.Pct', '/MSOlapAdmin2.MSOLAPExtMeasures', '/.osk', '/MMC.WaitDialog.1', '/ExcelMacrosheet', '/IMCommonCtrl.PromtPluginSettings.2', '/.max', '/GLOXFile', '/Groove.UIComponentServices', '/Word.Backup.8', '/WMINet_Utils.WmiSinkDemultiplexor', '/MsoRun.AnimExecutiveBehavior.1', '/OVCtl.OVCtl', '/.mpe', '/MSSTDFMT.StdDataFormat.1', '/PLA.LegacyDataCollectorSet', '/.scc', '/.scd', '/.10216', '/Wired.Extension.1', '/Outlook.Application', '/RDSServer.DataFactory.6.0', '/apkfile', '/.patch', '/Msxml2.XMLHTTP.3.0', '/Office12.Authz.1', '/DBROWPRX.AsProxy', '/SppComApi.LicensingPackage.1', '/WMINet_Utils.WmiSinkDemultiplexor.1', '/Shell.HWEventHandlerShellExecute', '/X509Enrollment.CSmimeCapability.1', '/WMP11.AssocMIME.ASF', '/msinkaut.InkTablets', '/Microsoft.MediaCenter.iTv.CiTvCaptionControl', '/Groove.ProjectAttachment', '/LR.LexRefTfFunctionProvider.1.0', '/Groove.ScriptFreeThreadedComponent', '/Microsoft.Update.Searcher.1', '/Groove.ViewContainer', '/RFMain.Translator.4', '/DAO.Field.35', '/JavaPlugin.111412', '/X509Enrollment.CCertPropertyArchived', '/KLCP.WMP.tp', '/otkloadr.WRAssembly', '/MS Remote', '/Ietag.Factory.1', '/IRService.CSetTopBox', '/Search.FilterRegistration.1', '/WMSClientNetManager.ClientNetManager', '/HNetCfg.FwRule', '/DAO.Index.36', '/Groove.ToolCollectionsComponent', '/Office.awsdc.1', '/Skype4COM.ChatMessage', '/VisShe.CInfoTipShellExt.1', '/.stm', '/MSDMineErrorLookup.1', '/X509Enrollment.CAlternativeName.1', '/ReplicateCatalog.ReplicateCatalog', '/FunctionDiscovery.PropertyStore', '/Groove.CalendarToolDataDelegate', '/CAPICOM.PrivateKey.1', '/Groove.SketchEngine', '/Microsoft.DirectMusicBand.1', '/.mpeg1', '/VLC.w64', '/.xxe', '/Groove.SoapRecordSet', '/PIFUAC.TheElevated', '/Microsoft.XMLParser.1.0', '/.zfsendtotarget', '/Word.Document.6', '/Forms.HTML:Checkbox.1', '/SppComApi.OnlineActivation', '/TpcCom.ClassicW', '/queue', '/TeamViewerConfiguration', '/.tgf', '/.bin', '/EapMschapv2Cfg.EapMschapv2Cfg.1', '/PdfRtf.PromtPdfRtfFileConverter.3', '/JavaPlugin.11732', '/OLETransactionManagers', '/ptdobj.PTDPropBag.3', '/Wireless.Extension.1', '/ContactPicker.ContactPicker.1', '/RCM.ConnectionManager', '/eHome.RecoveryTaskMonitor.1', '/Microsoft.FeedsManager', '/VLC.oga', '/Microsoft.Update.AgentInfo', '/Search.LoadLangRes', '/Groove.GFSSpaceStatusGlueCode', '/MiKTeX.cls.2.9', '/System.Runtime.CompilerServices.CallConvCdecl', '/Groove.ToolBar', '/.rec', '/OWS.ClientCollaboration', '/StdPicture', '/CHTIme.CHTInputModule.1', '/Skype4COM.Conference.1', '/X509Enrollment.CX509EnrollmentPolicyActiveDirectory', '/X509Enrollment.CX509AttributeOSVersion', '/Codejock.FormExtender.13.4.2', '/CHSIme.CHSInputModule', '/Excel.Application.12', '/Groove.DeviceURLStatus', '/.mix', '/System.MissingFieldException', '/Groove.TelespaceHelperObject', '/Groove.XMLElement', '/DXImageTransform.Microsoft.BasicImage', '/Microsoft.Photos.ViewerGalleryInterface', '/GoogleEarth.kmlfile', '/AcroExch.pdfxml', '/Adobe.Reader.HTMLPreview.1', '/IAS.Accounting.1', '/OpenOffice.Pptm', '/Msrtedit.AAMSREdit.1', '/PortalConnect12.PersonalSite.1', '/Microsoft.VbaAddinForOutlook', '/otkloadr.WRLoader.1', '/.htm', '/ASP.HostEncode', '/HardLink.IconOverlayHardlink', '/adprovider.cadprovider.1', '/Codejock.ComboBox.13.4.2', '/Groove.QAWindow', '/GoogleUpdate.OnDemandCOMClassSvc.1.0', '/eHome.MCSyncTVPlayer', '/Groove.SecurityMiscServices', '/Microsoft.Office.List.OLEDB.1.0', '/SDENGINE.CSdWhcNotifier', '/OpenOffice.Xlsm', '/LibreOffice.Jpe', '/DVD', '/.datasource', '/SplSetup.CFindNetPrinters.1', '/MOFL.Factoid.2', '/.tlb', '/iehistory', '/.bpr', '/COMSNAP.CPartitionSetPropPages.1', '/.sod', '/rgnfile', '/System.Collections.CaseInsensitiveHashCodeProvider', '/.webp', '/rtspm', '/System.Runtime.Remoting.Metadata.W3cXsd2001.SoapPositiveInteger', '/MSTTSFrontendENU.MSTTSFrontendENU.2', '/MSDASC.PDPO.1', '/CLRMetaData.CorRuntimeHost.2', '/System.Security.Cryptography.RNGCryptoServiceProvider', '/QC.ListenerHelper', '/PRMTLIB.PromtWWTListCtrl.4', '/X509Enrollment.CX509EnrollmentWebClassFactory.1', '/VSTA_IP.xsl.8.0', '/.tvs', '/eHome.RecoveryTasks.1', '/.slk', '/Groove.CollectionDataListDataSource', '/DAO.Group.35', '/Access.BlankDatabaseTemplate.12', '/.vbox-extpack', '/.taz', '/Groove.MeetingWizard', '/Search.FileHandler', '/VisioViewer.Viewer.1', '/NbDocViewer.NbDocView.1', '/MSHelp.hxh.2.5', '/WMISnapinAbout.1', '/.cb7', '/Search.XmlContentFilter', '/COMSNAP.CPartitionContextMenu', '/oqyfile', '/VisioViewer.Viewer', '/OWS.ClientCommentThread', '/SppComApi.SPPLUAObject', '/MSOlapAdmin2.MSOLAPCubeSecurities.1', '/FDE', '/Groove.AccountUIServices', '/AcSmComponents.AcSmViewCategory.20', '/.oga', '/.gsp', '/Promt5.TemplateAnalyzerProvider.9', '/.mpv4', '/Access.Workgroup', '/Groove.Win32ShellNewDescriptor', '/WPDContextMenu.Image', '/wab_auto_file', '/Record', '/Search.OutlookToolbar', '/.osdx', '/System.AccessViolationException', '/Microsoft.DirectMusicChordMap.1', '/.apk', '/.onepkg', '/Access.Shortcut.Form.1', '/.Rd', '/MediaCatalogMML', '/Msxml2.FreeThreadedDOMDocument.4.0', '/32HardLink.IconOverlayHardlink', '/IAS.AuthorizationHost.1', '/NODEMGR.MMCProtocol.1', '/PLA.LegacyTraceSession.1', '/PowerPoint.OpenDocumentPresentation', '/.nfo', '/.cuix', '/PortableDeviceManager.PortableDeviceManager.1', '/Snapins.HTMLSnapin.1', '/MediaCenterHandler.ShellFolder', '/MSOLAP90ErrorLookup', '/.dic', '/bidispl.bidirequestcontainer', '/SAPI.SpSharedRecognizer', '/.xlb', '/HtmTxt.PromtHtmTxtFileConverter.3', '/ITIR.EngStemmer.4', '/CompressedFolder', '/msinkaut.InkTransform.1', '/X509Enrollment.CX509CertificateTemplateADWritable', '/.669', '/Microsoft.DirectMusicSegTriggerTrack.1', '/AccDictionary.AccDictionary', '/IMAPI2.MsftDiscRecorder2.1', '/certificatefile', '/ObjectDBX.AxDbDocument.20', '/HardLink.IconOverlayHardlink.1', '/System.Runtime.Remoting.Metadata.SoapAttribute', '/GoogleUpdate.CredentialDialogMachine.1.0', '/ehRecvr.RecorderMgr', '/HHCtrl.SystemSort.666', '/Forms.Form.1', '/VLC.a52', '/STSUpld.UploadCtl.1', '/OziExplorer.MapFile', '/Access.Application.12', '/dtsh.DetectionAndSharing', '/ColleagueImport.ColleagueImportAddIn.1', '/STSServer.DictationHost', '/device.1', '/.pas', '/.mcr', '/Groove.DataFormat', '/MSRDC.SimilarityTraitsTable', '/Skype4COM.CallChannel', '/Equation.SAEE2', '/Speech.VoiceText.1', '/.thmx', '/VLC.amr', '/.cbt', '/Microsoft.MediaCenter.Pvr.Service.PvrService', '/X509Enrollment.CX509ExtensionSubjectKeyIdentifier.1', '/X509Enrollment.CCertPropertyRenewal', '/AudioCD', '/GRMain.Translator', '/.eps', '/MyWinHelp', '/X509Enrollment.CX509EnrollmentPolicyWebService', '/MSVidCtl.MSVidBDATunerDevice', '/ACCWIZ.ImexGridCtrl.1', '/PLA.BootTraceSessionCollection.1', '/System.Threading.ThreadStateException', '/3dscpy', '/.amv', '/WindowsSideShow.SideShowKeyCollection', '/MATLAB.AutoServer', '/ov2file', '/WSCommCntr4.NetworkConnectionManager', '/bidispl.bidispl.1', '/VirtualBox.VirtualBoxClient', '/Msxml2.DSOControl', '/MSVidCtl.MSVidInputDevices.1', '/Microsoft.DirectSoundI3DL2ReverbDMO', '/Groove.LogNotificationSignalContextFactory', '/Microsoft.DirectMusicChordMapTrack', '/X509Enrollment.CCspStatus', '/HardLink.Copyhook.1', '/Microsoft.PhotoAcqDeviceSelectionDlg.1', '/.tps', '/WMP11.AssocFile.WMS', '/.pps', '/.pubhtml', '/opendocument.DrawTemplate.1', '/Microsoft.VisualStudio.Publish.Framework.PublishProject', '/32HardLink.Copyhook.1', '/Microsoft.JScript.JSAuthor', '/ITIR.SystemSort.4', '/ACCWIZ.FieldListCtrl.2.8', '/X509Enrollment.CX509Enrollment.1', '/QC.MessageMover', '/CorrEngine.CorrelationEngine', '/Igfxdo.DataObject.1', '/Equation.PrefsFile', '/AcroExch.acrobatsecuritysettings.1', '/Groove.TabControl', '/System.Diagnostics.DebuggerStepThroughAttribute', '/.mdx', '/odcdatabase.1', '/eHome.RecoveryTaskDispatchServer', '/MSDAOSP', '/TpcCom.GenericRecognizer', '/TPCRTP.GestureRecognizer', '/MMCTask.MMCTask.1', '/igfx.MCCS.1', '/.ui', '/BDATuner.LanguageComponentType.1', '/English3x4.English3x4InputModule.1', '/DXImageTransform.Microsoft.MaskFilter', '/ehRecvr.EnumRecorderGraph', '/.xst', '/ehGLID.NetOPlugIn.1', '/NbDocViewer.NbAccessibleObject.1', '/YandexSWF.YSHUMIPZOK4RU5HIRBRXQTHAXU', '/.wpt', '/YandexINFE.YSHUMIPZOK4RU5HIRBRXQTHAXU', '/Msxml2.MXHTMLWriter.6.0', '/Groove.ActiveXUIWrapper', '/IMCommonCtrl.PromtPluginSettings', '/System.Runtime.Remoting.Metadata.W3cXsd2001.SoapNegativeInteger', '/DXImageTransform.Microsoft.AlphaImageLoader.1', '/Skype4COM.ConferenceCollection.1', '/UPnP.UPnPDevice', '/.perfmoncfg', '/MsoRun.OAVIEClock', '/CAPICOM.Utilities.1', '/PowerPoint.Slide', '/.RDP', '/.desklink', '/PdfTxt.PromtPdfTxtFileConverter', '/Python.File', '/TinyCAD design', '/IAS.RadiusProtocol.1', '/PLA.LegacyTraceSessionCollection', '/SysColorCtrl.SysColorCtrl', '/.adn', '/Access.ACCDRFile.12', '/.laccdb', '/.3gp', '/.cdmp', '/Outlook.OlkTimeZone.1', '/NbBaseDoc.NbBaseDocEdit.1', '/odc.cube', '/DXImageTransform.Microsoft.Stretch.1', '/.group', '/LR.LexRefEnglishStemmer.1.0', '/.wiz', '/AcSmComponents.AcSmPersistImpl_Internal.20', '/tklfile', '/MachineDebugManagerLocalPortSupplier.7', '/OpenOffice.Xlt', '/LibreOffice.WriterWebTemplate', '/IMAPI2.MsftStreamInterleave.1', '/System.Diagnostics.DebuggerNonUserCodeAttribute', '/MsTscAx.MsTscAx.1', '/ExcelWorksheet', '/VBScript Author', '/X509Enrollment.CPolicyQualifier', '/.trg', '/ShellNameSpace.ShellNameSpace', '/Skype4COM.Conversion', '/msstylesfile', '/WbemScripting.SWbemLastError.1', '/qedit.SmartRenderEngine.1', '/EhStorShell.EnhancedStorageFolder', '/System.IO.IsolatedStorage.IsolatedStorageException', '/BDATuner.AnalogLocator', '/MediaPlayer.MediaPlayer', '/VSTA_IP.disco.8.0', '/.tex', '/.m1v', '/MAPI/IPM.Note.Read', '/IAS.NTGroups.1', '/IMAPI2.MsftStreamPrng001', '/Microsoft.JScript.COMMethodInfo', '/.gif', '/Stack.Audio', '/Package', '/java_auto_file', '/MiDocViewer.MiDocView.1', '/.diagpkg', '/ScriptedDiag.Engine.1', '/uTorrent', '/DXImageTransform.Microsoft.Engrave.1', '/Sgml2If.Converter', '/ReplicateCatalog.ReplicateCatalog.1', '/32HardLink.Copyhook', '/.dll', '/Msxml2.DSOControl.3.0', '/MSOlapAdmin2.MSOLAPModel', '/VLC.wvx', '/ITIR.IndexSearch.4', '/System.ParamArrayAttribute', '/cngprovider.ccngprovider.1', '/MSVidCtl.MSVidVideoRendererDevices', '/RFMain.Translator', '/ADsNamespaces', '/GoogleDrive.gmap', '/.swf', '/ScriptoSys.Scripto', '/VLC.amv', '/VLC.wav', '/CDO.NNTPFinalConnector.1', '/msinkaut.InkCollector.1', '/Microsoft.DirectMusicSection.1', '/IAS.RAPBasedEAP', '/VLC.mp4', '/EhStorShell.ContextMenuHandler.1', '/evtfile', '/MSOlapAdmin2.MSOLAPExtMeasures.1', '/AFormAut.App', '/WSCommCntr4.CommCntrContent.1', '/IAS.ChangePassword.1', '/DMM.DMMCorrCountSource', '/Excel.Template.8', '/eHomeSchedulerService.MCESetTopBox', '/BDATuner.ComponentTypes', '/.ogv', '/InfoPath.Solution', '/PRMT6.PromtMorphUtility.3', '/System.AppDomainManager', '/Outlook.OlkComboBox.1', '/WSMan.InternalAutomation.1', '/AcroExch.acrobatsecuritysettings', '/PLA.DataCollectorSetCollection.1', '/.cdx', '/.jpx', '/3dscsm', '/VBEFile', '/ITIR.LocalDatabase', '/feed', '/.hol', '/Theme.ThemeThumbnail', '/service', '/Microsoft.Update.SystemInfo', '/CertificateAuthority.EncodeCRLDistInfo', '/CCWU.ComCallWrapper.1', '/.kbd', '/Groove.MiscHelperObject', '/x-github-desktop-auth', '/BDATuner.DVBTuneRequest', '/PrmAct.PromtProduct', '/Access.ShortCut.DataAccessPage', '/UmOutlookAddin.FormRegionAddin', '/Windows.OXPSConverter', '/certificate_wab_auto_file', '/Groove.AudioServices', '/OISbmpfile', '/IAS.RAPBasedEAP.1', '/CertificateAuthority.GetConfig', '/MediaCenterHandler.ShellFolder.1', '/SrDrvWuHelper.SrDrvWuHelper', '/JobObjectProv.JobObjectProv.1', '/ADOX.Column', '/Aec32BitAppServer.JetDbMgr.1', '/Wireless.About', '/DXImageTransform.Microsoft.GradientWipe', '/MSScriptControl.ScriptControl', '/Chat.Chat', '/HtmlDlgHelper.HtmlDlgHelper.1', '/PDictEdit.RE.4', '/CDO.NNTPEarlyConnector', '/Equation.QZEE2', '/Search.NullWB', '/SSPWorkspace', '/EventSystem.EventClass', '/Microsoft.DirectMusicWaveTrack.1', '/mlt_auto_file', '/ITIR.StdWordBreaker.4', '/Access.ACCDTFile', '/YandexJPEG.YSHUMIPZOK4RU5HIRBRXQTHAXU', '/MSVidCtl.MSVidWebDVDAdm.1', '/BDATuner.AuxiliaryInTuningSpace.1', '/Presenter.MCVideoPresenter', '/VisShe.CInfoTipShellExt', '/.pptmhtml', '/Outlook.OlkListBox.1', '/DefragEngine.DefragEngine', '/MSExtGroup', '/.ldb', '/OWS.PostData.1', '/VisualStudio.Launcher._vcsxsln80', '/LibreOffice.Iqy', '/IAS.Match.1', '/.gsheet', '/Groove.SketchItemInfo', '/RAServer.RemoteAssistance.1', '/System.Runtime.CompilerServices.MethodImplAttribute', '/LibreOffice.Jpg', '/Access.WizardUserDataFile.12', '/3dsrps', '/.dtx', '/ITIR.SvMgr.4', '/Office2007If.PowerPointConverter.2', '/PrintSys.CoPrintIsolationHost', '/VLC.m2v', '/FBiblio.Factoid', '/AcSignCore.AdskSignAppend.1', '/Access.ShortCut.StoredProcedure', '/MSSppPackageFile', '/Outlook.OlkLabel', '/X509Enrollment.CX509ExtensionAuthorityKeyIdentifier', '/System.Text.ASCIIEncoding', '/.udt', '/MSVidCtl.MSVidStreamBufferRecordingControl.1', '/tvvideocall1', '/Media Type', '/System.EnterpriseServices.CompensatingResourceManager.Compensator', '/.mpf', '/WPD.SettingsReviewPage.1', '/IMEPad.SKF.TCIME7', '/Microsoft.DirectMusicLoader', '/VLC.ts', '/._vbxsln80', '/NetProjW.Elev.1', '/tg', '/msinkaut.InkRecognizerContext', '/JPNIme.JPNInputModule', '/.wk1', '/SppComApi.OnlineActivation.1', '/Microsoft.DirectMusic', '/Msxml2.ServerXMLHTTP.3.0', '/SppComApi.LicensingStateTools.1', '/.aac,aif', '/Groove.AuditLogNotificationAction', '/Microsoft.DirectMusicMuteTrack', '/32HardLink.HardLinkMenu', '/MicrosoftPurbleShopSaveFile', '/UPnP.UPnPDeviceFinder.1', '/CAPICOM.Certificate', '/VLC.tod', '/.stp', '/cmdfile', '/Microsoft.DirectMusicLoader.1', '/MSOlapAdmin2.MSOLAPModel.1', '/StaticDib', '/LibreOffice.Xltx', '/ImeCommonAPIClassFactory1041.1', '/PowerPoint.SlideMacroEnabled.12', '/AcSmComponents.AcSmAcDbDatabase.20', '/.pch', '/IAS.Realm', '/MSOlapAdmin2.MSOLAPMeasures', '/3dsui', '/Skype4COM.SmsChunkCollection', '/CertificateAuthority.Config', '/Microsoft.VisualStudio.Publish.Library.Bootstrapper.BootstrapperDialogProperties', '/.gitmodules', '/OlePrn.PrinterURL.1', '/ehGLID.GLIDPlugInISDBTerrestrial', '/Groove.Clipboard', '/msinkaut.InkObject', '/PairingFolderItem', '/Msxml2.FreeThreadedDOMDocument.6.0', '/WMP11.AssocMIME.AU', '/opendocument.WriterGlobalDocument', '/ITIR.LocalGroup.4', '/WMSDKNamespace.NamespaceFactory', '/soffice.StarWriterDocument.6', '/VirtualBox.VirtualBox.1', '/Search.Indexer', '/Access.Database', '/Groove.MeetingsDataDelegate', '/PTDGrid.PTDGridCtrl.3', '/MimeDir.MimeDirParser', '/Microsoft.Update.InstallationAgent.1', '/NetServer', '/.M2T', '/TpcCom.UserDictionary.1', '/.btsearch', '/DXImageTransform.Microsoft.Stretch', '/.jpc', '/nfwfile', '/Microsoft.DirectSoundDistortionDMO', '/Package2', '/System.Runtime.Remoting.Services.EnterpriseServicesHelper', '/PeerDraw.PeerDraw.1', '/X509Enrollment.CX509ExtensionAuthorityKeyIdentifier.1', '/GoogleDrive.gsheet', '/Forms.HTML:Option.1', '/MMC.ExecutivePlatform', '/Groove.TableDataListDataSourceServices', '/OISCTRL.OISClientLauncher.1', '/3dscuix', '/MachineDebugManagerRuntimeJITServerRegistrar.7', '/h1dfile', '/accessthmltemplate', '/Groove.XMLMatrix', '/LibreOffice.Dotx', '/HardLink.IconOverlaySymbolicLink', '/.msdvd', '/Groove.Timer', '/AudioVBScript', '/System.EnterpriseServices.Internal.SoapServerVRoot', '/.pbm', '/HNetCfg.FwMgr', '/IMAPI2.MsftDiscFormat2RawCD', '/ScriptletHandler.Event', '/.M2TS', '/Groove.FormsToolUIDelegate', '/MQL5.Header', '/DMM.ClassificationModel.1', '/PLA.BootTraceSession.1', '/FileType', '/System.Runtime.Remoting.Metadata.W3cXsd2001.SoapMonthDay', '/ShapeCollector.ShapeCollector', '/Microsoft.Photos.ViewerGalleryInterface.1', '/VideoRenderCtl.VideoRenderCtl.1', '/IAS.DatabaseAccounting.1', '/msinkdiv.InkDivider.1', '/System.Runtime.InteropServices.ComImportAttribute', '/PLA.TraceSession', '/Search.Gatherer', '/System.Runtime.Remoting.Metadata.W3cXsd2001.SoapNonNegativeInteger', '/Equation.AXEE2', '/PortableDeviceWMDRM.PortableDeviceWMDRM.1', '/ADODB.Stream.6.0', '/Groove.CommonDialogs', '/.wpo', '/.std', '/.fodg', '/eHomeSchedulerService.TVThumbnailCache.1', '/SAPI.SpMMAudioEnum.1', '/AcroExch.XDPDoc', '/Microsoft.InformationCard.ElementBehaviorFactory.1', '/Microsoft.ACE.OLEDBErrors.12.0', '/PropVariantCollection.PropVariantCollection', '/Trident.HTMLEditor.1', '/Html2If.Converter', '/Wow6432Node', '/InfoPath.ExternalApplication', '/.rgs', '/EHomeDropTarget.EHomeMusicDropTarget', '/IAS.UserAccountValidation.1', '/.fdm', '/32HardLink.IconOverlaySymbolicLink', '/WSCommCntr4.ERenewalNotify', '/.cdr', '/.pls', '/.wm', '/MSIME.Japan', '/rlogin', '/System.Runtime.CompilerServices.CallConvStdcall', '/Outlook.OlkInfoBar.1', '/WMP.VCD', '/OlePrn.AspHelp.1', '/PortableDeviceWMDRM.PortableDeviceWMDRM', '/VSTA_IP.csproj.8.0', '/STSUpld.UploadCtl', '/Groove.AccountConfiguration', '/SymBinder', '/Codejock.ColorPicker.13.4.2', '/Groove.SoapStruct', '/.icl', '/.gitattributes', '/Groove.ApplicationServices', '/MSDAORA.1', '/MultitranConnector.Connector.2', '/MSOSOAP.DimeComposer30', '/Groove.TreeCtrl', '/IMEAPI.CImeCommandAvailabilityViewJK', '/.mpeg', '/AcroExch.Document.DC', '/com.sun.star.ServiceManager', '/eHomeSchedulerService.TVThumbnailCache', '/.tvc', '/VideoRenderCtl.VideoRenderCtl', '/AcroAccess.AcrobatAccess', '/capiprovider.Ccapiprovider', '/JavaScript1.3', '/IAS.SdoService.1', '/Outlook.File.hol', '/.jp2', '/Groove.ListBox', '/Msxml2.XMLHTTP', '/eHome.McProxy', '/Groove.ContactDevicesStore', '/.hdd', '/PIPFile', '/Microsoft.DirectMusicAuditionTrack.1', '/Sysmon.3', '/lzma_auto_file', '/cdmpfile', '/YandexWEBM.YSHUMIPZOK4RU5HIRBRXQTHAXU', '/MSDAENUM.1', '/GoogleUpdate.CoreClass', '/.mpl', '/.ilk', '/LibreOffice.Dotm', '/progId_VirtualBox.Shell.vmdk', '/SBEServer.SBEDeviceManager', '/HxDS.HxSession.1', '/AcSignCore.AdskSystemTime.1', '/.pfm', '/VLC.cue', '/Equation.PWEE2', '/DAO.TableDef.35', '/System.Security.Cryptography.CryptographicException', '/ADOX.Column.6.0', '/SQLXMLX', '/emffile', '/AdvancedDataFactory', '/.sst', '/IMsiServer', '/System.EnterpriseServices.CompensatingResourceManager.ClerkMonitor', '/MaxInventorServerHost.InventorServerHos', '/Groove.EDBClientBackupToolUIDelegate', '/.printerExport', '/AccessControlEntry', '/MSOlapAdmin2.MSOLAPLockManager.1', '/MiDocViewer.MiDocView', '/JRO.JetEngine', '/MsScp.MSSCP.1', '/Groove.SketchUserInfo', '/AcSmComponents.AcSmSheetSelSet.20', '/RowsetHelper', '/eHome.iTvHost', '/.ans', '/X509Enrollment.CCertPropertyFriendlyName.1', '/wcxfile', '/IAS.MachineInventory.1', '/IAS.BaseCampHost.1', '/AcSmComponents.NameValueMap.20', '/YandexJS.YSHUMIPZOK4RU5HIRBRXQTHAXU', '/Microsoft.DirectMusicScript', '/.rle', '/Search.CscHandler.1', '/WindowsBackupFolderOptions', '/EhSched.InstallEventsMediator', '/Groove.SoapArray', '/odcfile', '/VLC.mp3', '/ierss', '/Windows.XPSRichPreview.1', '/.mar', '/VSTA.vb.8.0', '/VSTA_IP.sdl.8.0', '/IMEPad.HWR.TCIME7', '/IE.FTP', '/SQLScriptFile', '/PTDStudio.Application', '/OISjpegfile', '/nQppExt.nQPropPage.1', '/Diagnostic.Config', '/MsRdpWebAccess.MsRdpClientShell.1', '/X509Enrollment.CX509PrivateKey.1', '/DXImageTransform.Microsoft.Fade.1', '/.evtx', '/GoogleUpdate.Update3WebSvc.1.0', '/MSComctlLib.ImageComboCtl.2', '/Standard.Preprocessor', '/JSON', '/.j2k', '/System.AppDomainUnloadedException', '/.vcs', '/.cue', '/WECAPI5.FpStructureElement', '/LWVFile', '/.bau', '/.mpeg2', '/MsoRun.TimeExecutiveBehavior', '/.lha', '/VLC.mlp', '/NODEMGR.AppEventsDHTMLConnector', '/Microsoft.VSTOCTPHostX.3', '/MsTscAx.MsTscAx.4', '/Groove.ChangeCredentialsCode', '/GoogleUpdate.OnDemandCOMClassMachine', '/Groove.InstantMessageServices', '/.gmmp', '/VisShe.ImageExtractorShellExt', '/Access.Lockfile', '/Groove.DomainTrustPolicy', '/.infopathxml', '/Groove.TabControl2', '/FaultrepElevatedDataCollection', '/JavaPlugin.112512', '/WMSDKNamespace.NamespaceFactory.1', '/.prf', '/.xbap', '/Skype4COM.IEProtocolHandler.1', '/MsoRun.TimeDHTMLBehavior', '/SyncMgrFolder', '/System.Runtime.Remoting.Metadata.W3cXsd2001.SoapInteger', '/PDictEdit.GR.4', '/.mmf', '/eHome.MCAsyncFilePlayer', '/MSOSOAP.SoapClient30', '/IMCommonCtrl.PromtPluginObject.2', '/HHCtrl.FileFinder', '/MMCListPadInfo.MMCListPadInfo.1', '/.r29', '/GoogleUpdate.CoreMachineClass.1', '/.xfdf', '/Microsoft.WindowsCardSpaceBackup', '/NbImage.NbCompositeLayer.1', '/Promt6.ShellContextMenu', '/Groove.DocumentShareFileEditManagerServices', '/UmOutlookAddin.OptionsPropPage', '/.lst', '/Groove.SystemMode', '/.tpc', '/dsn', '/PortableDeviceFTM.PortableDeviceFTM', '/.thm', '/STClient.STClient.1', '/JRO.Replica', '/adprovider.Cadprovider', '/LibreOffice.Pot', '/.UDL', '/.ovf', '/VsaVbRT.8.0', '/IAS.URHandler.1', '/.gdoc', '/PDictEdit.RG', '/Msrtedit.AAMSREdit', '/OWS.ExcelUI.2', '/STSUpld.CopyCtl', '/System.Reflection.ObfuscationAttribute', '/qedit.DxtAlphaSetter', '/DXImageTransform.Microsoft.CheckerBoard.1', '/Standard.Preprocessor.4', '/AcSignCore.AdskGetData.1', '/Scriptlet.HiFiTimer', '/VideoClipContainers', '/.ini', '/Msxml2.XSLTemplate.5.0', '/DXImageTransform.Microsoft.Wave', '/System.Runtime.Remoting.InternalRemotingServices', '/.nick', '/PenIMC.PimcManager.2', '/DXImageTransform.Microsoft.Wipe', '/Stack.System.Music', '/.MahjongTitansSave-ms', '/Rtf2If.Rtf2IFConverterNew.3', '/MSTTSDecWrp.DecObj.1', '/LibreOffice.WriterDocument.1', '/.lwp', '/Speech.VoiceCommand', '/PLA.ServerDataCollectorSetCollection', '/MachineDebugManagerAD2.6', '/MSHelp.hxc.2.5', '/OWS.ClientComment.2', '/.wbcat', '/KLCP.WMP.asx', '/Search.EmbeddedGatherMgr.1', '/STSServer.EnumSTSALTINFO.1', '/TypeLib', '/.diz', '/MSOlapAdmin2.MSOLAPSources', '/statemodel.StateController.1', '/DXImageTransform.Microsoft.Wave.1', '/inc_auto_file', '/AFormAut.App.1', '/.odl', '/.r22', '/.ecw', '/MemuHyperv.MemuHyperv', '/M-WIN-L.MA.10.0.1.5157734', '/Microsoft.VisualStudio.Publish.Framework.PersistenceData', '/DXImageTransform.Microsoft.RandomDissolve.1', '/eHome.McxRemoteDvrPlayer.1', '/IMEPad.IMJPCLST.10', '/COMSNAP.CPartitionSetContextMenu', '/Groove.FormsToolSearchDialogDelegate', '/PowerPoint.Template.8', '/.fky', '/System.ArrayTypeMismatchException', '/PublishedApp', '/MsRDP.MsRDP.5', '/VLC.mp1', '/bidispl.bidirequest.1', '/MiInkSeg.MiRichInkSegment.1', '/OWS.PptUI.2', '/LibreOffice.WriterWebTemplate.1', '/SmarTool8.FrontPageAddin', '/DXImageTransform.Microsoft.CrSpiral', '/eHome.MCSyncDVDPlayer.1', '/System.EnterpriseServices.Internal.Publish', '/MSGraph.Application.8', '/Groove.GrooveFormsDatabaseObject2', '/cpp_auto_file', '/.acl', '/X509Enrollment.CX509ExtensionCertificatePolicies.1', '/qedit.DxtKey.1', '/SAPI.SpStream', '/DMM.DMMCorrCount', '/OTB_Loader.ATB_Loader', '/Shell.Autoplay', '/WSCommCntr4.ERenewalResponse', '/Groove.DocShareReplaceFileCode', '/PowerPoint.Slide.8', '/AppID', '/WindowsSideShow.SideShowPropVariantCollection', '/.10207', '/Search.JetPropStore.1', '/WindowsSideShow.SideShowNotification.1', '/h1cfile', '/Excel.Backup', '/Prmtlr.PromtLR', '/Search.CommandCreator.1', '/shpfile', '/SharePoint.StssyncHandler.3', '/LEXFile', '/IMAPI2.MsftStreamZero', '/AcSmComponents.AcSmSimpleFileReferece.20', '/InfoPath.Editor.2', '/Groove.WebMessages', '/ComInkAnalysislib.AnalysisRegion', '/DXImageTransform.Microsoft.Matrix.1', '/Access.Shortcut.Report.1', '/ntmfile', '/Groove.CollectionDataListDataSourceServices', '/Microsoft.DirectMusicCommandTrack.1', '/tvsendfile1', '/.xml', '/PortableDevice.PortableDevice', '/.asmx', '/WMP11.AssocProtocol.MMS', '/.H1W', '/ITIR.LocalGroup', '/DXImageTransform.Microsoft.CrZigzag.1', '/.cap', '/ProtLDB.PromtDictionary', '/callto', '/TransIF.PrmtIFTranslator', '/.acp', '/Kind.Document', '/VisioViewerDWGDisplayCreator.VisioViewerDWGDisplayCreator.1', '/Psisdecd.AtscPsipParser.1', '/PLA.TraceDataProviderCollection.1', '/DVDMaker.DVD', '/json_auto_file', '/publishermhtmlfile', '/Groove.Notifier', '/VSTA_IP.wsdl.8.0', '/MSAddnDr.AddInDesigner.1', '/System.Security.Cryptography.SHA1CryptoServiceProvider', '/IMAPI2FS.BootOptions.1', '/.ccd', '/.wks', '/Skype4COM.ChatMessage.1', '/RowPosition.RowPosition', '/Microsoft.MediaCenter.iTv.CiTvSession', '/PDictEdit.RE', '/WIA.Rational', '/X509Enrollment.CX509AttributeRenewalCertificate.1', '/McxMdeOutputProfile.OutputProfileMgr.1', '/FPerson.Factoid.2', '/Groove.WorkspaceExplorerApplication', '/IMEAPI.CImeRequestSenderJK', '/VSTA.vbproj.8.0', '/Skype4COM.VoicemailCollection', '/.gpb', '/WECAPI5.FpFile.3', '/SAPIEngine.TTSEngine.1', '/X509Enrollment.CX509ExtensionMSApplicationPolicies', '/.ots', '/MSTSWebProxy.MSTSWebProxy.1', '/progId_VirtualBox.Shell.vdi', '/MiEng.MiEngine', '/.pub', '/IMCommonCtrl.PromtPluginMessageStorage.2', '/WScript.Network.1', '/MsoRun.CommandDHTMLBehavior.1', '/SearchConnectorFolder', '/Aec32BitAppServer.AecADOMgr.1', '/GoogleEarth.kmzfile', '/Msxml2.MXXMLWriter.5.0', '/3dschr', '/opendocument.ImpressTemplate.1', '/groove', '/OLE DB Row Proxy', '/WMP.DVR-MSFile', '/Word.Wizard.8', '/.ttf', '/GrooveLinkFile', '/AutoIt3Script', '/X509Enrollment.CX509ExtensionAlternativeNames.1', '/ITIR.CmdInt', '/VisShe.CVisioFileFilter', '/ehRecvr.BackgroundScanner.1', '/Groove.Name', '/VSTA.snippet.8.0', '/HtmlDlgSafeHelper.HtmlDlgSafeHelper.1', '/MATLAB.AutoServer.Single.9.5', '/EhSched.EhEPGdatEventsMediator', '/PowerPoint.SlideShow.8', '/.grv', '/CertificateAuthority.EncodeBitString', '/feeds', '/Codejock.SuiteControlsGlobalSettings.13.4.2', '/ConflictFolder', '/ICOFilter.CoICOFilter.1', '/LDAPNamespace', '/prffile', '/Autodict.AutoDict.3', '/.mds', '/.js', '/MSTTSCommon.LTS.2', '/.r18', '/IMEAPI.CImeCommandAvailabilityViewJK.1', '/AcroExch.Document', '/.lgn', '/.osz2', '/NODEMGR.MMCProtocol', '/.mnm', '/Microsoft.MediaCenter.iTv.CiTvOverlaySurface', '/DXImageTransform.Microsoft.Shadow', '/.p7b', '/Outlook.OlkPageControl.1', '/WMPlayer.OCX', '/VirtualBox.VirtualBox', '/Access.BlankDatabaseTemplate', '/Microsoft.MediaCenter.Internal.LaunchMediaCenter', '/X509Enrollment.CX509Extensions', '/PenIMC.PimcManager.4', '/PBrush', '/M-WIN-L.NB.10.0.1.5157734', '/Skype4COM.GroupCollection', '/FSLoaderParser2.DefinitionParser', '/Groove.WebServiceProperties', '/.gml', '/Skype4COM.SmsChunk', '/WSCommCntr4.ELearningCollection', '/mscfile', '/Rdpcomapi.RDPSession', '/GoogleUpdate.Update3WebMachineFallback.1.0', '/BDATuner.MPEG2TuneRequest', '/Scripting.Signer', '/cplfile', '/Sharepoint.OpenXMLDocuments', '/MicrosoftFreeCellSaveFile', '/Outlook.Application.12', '/WlanAdhoc.WlanAdhocLUA.1', '/DXImageTransform.Microsoft.ICMFilter', '/eHomeSchedulerService.EhepgdatDispatcher.1', '/ImeKeyEventHandler1041.1', '/LibreOffice.Vsdx', '/Groove.ResolveContactNameConflictGlueCode', '/IAS.AbsoluteTime.1', '/.in_', '/.mhtml', '/.rmvb', '/Microsoft.XMLDOM.1.0', '/MsRDP.MsRDP.3', '/AVIFile', '/SAPI.SpInprocRecognizer.1', '/.glk', '/Microsoft.DirectSoundI3DL2ReverbDMO.1', '/.dsn', '/Forms.HTML:Reset.1', '/MSIME.Taiwan.8', '/MWSAMP.MwsampCtrl.2', '/.searchConnector-ms', '/System.Security.Cryptography.RIPEMD160Managed', '/Promt8.DTSetup.2', '/.hxr', '/Microsoft.PowerShellData.1', '/.uot', '/ratfile', '/MicrosoftMahjongTitansSaveFile', '/SAPI.SpObjectTokenEnum', '/SPPUI.SPPUIObject.1', '/Game', '/GCSXFile', '/WMP11.AssocMIME.MIDI', '/DXImageTransform.Microsoft.Compositor.1', '/Groove.WebAccounts', '/.mif', '/DXImageTransform.Microsoft.ZigZag', '/Groove.InternalUpdateSubscriber', '/Msxml2.XMLSchemaCache.5.0', '/JSFile', '/DXImageTransform.Microsoft.MotionBlur', '/CorSymWriter_SxS', '/SmarTool8.ExcelAddin', '/Scripting.Dictionary', '/EX5.File', '/VisualStudio.Launcher._vbxsln80', '/Access.MDBFile', '/.xlk', '/MapiCvt.MapiCvt', '/MSDASC.MSDAINITIALIZE', '/.m', '/UmOutlookAddin.AuthDlg', '/.hxa', '/Groove.GFSCoordinator', '/.log', '/BDATuner.DVBCLocator.1', '/PRMTLIB.PromtTgtLangSegRulesCtrl.4', '/._vwdxsln80', '/SensorsApi.SensorManager', '/Access.Extension.12', '/X509Enrollment.CAlternativeName', '/EapTlsCfg.EapTlsCfg', '/PairingFolderItemBluetooth', '/miffile', '/Search.CscHandler', '/SBEServer.DiscBurner.1', '/TeamViewerSession', '/.epub', '/.isz', '/Microsoft.DirectMusicScriptTrack', '/OneNote.CFileConverter', '/mhtmlfile', '/ComPlusDebug.CorDebug.1', '/WbemScripting.SWbemObjectPath.1', '/ShellNameSpace.ShellNameSpace.1', '/InputProcessor.RioEventSender', '/.tdb', '/HardLink.IconOverlaySymbolicLink.1', '/WbemScripting.SWbemSink', '/Pdump.ProcessDump', '/OutlPOPPH', '/Aec32BitAppServer.AecSdfToolkit2.1', '/ORG10SVR.Application', '/.jxw', '/PrmtPro.PromtUser', '/TpcCom.RecoManager', '/UPnP.DescriptionDocument.1', '/ComInkAnalysislib.AnalysisRegion.1', '/Msxml2.ServerXMLHTTP', '/Groove.DataTransferObject', '/CAPICOM.HashedData.1', '/WindowsMail.AddressBook', '/search-ms', '/jpegfile', '/MediaCenter.DVR-MS', '/KLCP.WMP.divx', '/VideoLAN.VLCPlugin', '/PDictEdit.IR.4', '/SAPI.SpGramCompBackEnd', '/Agent.Control', '/CAPICOM.ExtendedProperty.1', '/Groove.Tree', '/Groove.GrooveFormsView', '/MMCCtrl.MMCCtrl.1', '/BDATuner.DigitalCableTuneRequest', '/.xcf', '/ITIR.CmdInt.4', '/System.BadImageFormatException', '/OlePrn.OleSNMP.1', '/PowerPoint.Show.8', '/Groove.StorageManager', '/PromtSmartFolders.PromtSmartFolders', '/MsScp.MSSCP', '/.potm', '/.glox', '/PDictEdit.RF.4', '/System.Security.HostProtectionException', '/MSVidCtl.MSVidAudioRendererDevices', '/SppComApi.TokenActivation', '/Search.MAPI2Handler.1', '/SyncMgrContent', '/.ssif', '/DirectShow', '/.aca', '/LibreOffice.Xlsm', '/System.Security.Cryptography.SignatureDescription', '/Excel.Sheet.12', '/License.Manager.1', '/KLCP.WMP.hdmov', '/.nuv', '/.r06', '/CLRMetaData.CorMetaDataDispenserRuntime.2', '/.bat', '/AMOVIE.ActiveMovieControl.2', '/ehGLID.GLIDLoaderHandler.1', '/Groove.CommonDialogs2', '/igfxsrvc.Color', '/BDATuner.MPEG2TuneRequestFactory.1', '/BDATuner.ComponentType.1', '/MyPromt.CPromtWebFeatures', '/VSTA.DTEProvider', '/DXImageTransform.Microsoft.Chroma', '/3dscal', '/.sxi', '/Workspace.ResTypeRegistry', '/UPnP.UPnPDevices.1', '/skypecheck2', '/WMP11.AssocFile.MPEG', '/PortableDeviceService.PortableDeviceService.1', '/JavaScript1.3 Author', '/Microsoft.DirectSoundGargleDMO', '/.jpg', '/SharePoint.SpreadsheetLauncher.2', '/opendocument.ImpressDocument.1', '/yEd 2', '/WMP11.AssocFile.WVX', '/.ifo', '/FTMngr.FileTranslateManager', '/System.Runtime.InteropServices.PreserveSigAttribute', '/HardLink.PropertySheetPage.1', '/Smart.DebugDocumentHelper.1', '/Groove.DownloadRAMP', '/ImeCommonAPIClassFactory1028.1', '/mpegfile', '/.out', '/zoommtg', '/MSVidCtl.MSVidWebDVDAdm', '/Microsoft.DirectMusicGraph', '/IMAPI2.MsftDiscFormat2Erase.1', '/CAPICOM.Certificate.3', '/IAS.MSChapErrorReporter.1', '/Groove.TextObjectSurrogate', '/MsoRun.IEPropertyListenerProxy', '/PortableDeviceWiaCompat.PortableDeviceWiaCompat.1', '/.accdc', '/.kml', '/Groove.ButtonRenderer', '/PRMT6.PromtMorph.3', '/MSDAOSP.1', '/PortableDevice.PortableDevice.1', '/Skype4COM.CallChannelManager.1', '/X509Enrollment.CObjectId.1', '/HNetCfg.FwAuthorizedApplication', '/wdpfile', '/.hwp', '/VSTA.wsdl.8.0', '/.htc', '/.movie', '/Search.OutlookToolbar.1', '/IAS.CRPBasedEAP.1', '/MSToolbar', '/MSHelp.hxw.2.5', '/Microsoft.DirectSoundWavesReverbDMO', '/PromtBrowserProxy.PromtBrowserClass', '/.ai', '/.mp+', '/PowerPoint.SlideMacroEnabled', '/ADODB.ErrorLookup', '/.xslt', '/PRMT8.PrmtDServices.PrmtEntryFilterData.3', '/WTVFile', '/Microsoft.DirectMusicScript.1', '/.j2w', '/eHome.McxAsyncRemotePlayer.1', '/eHome.RecoveryTaskMonitor', '/GIFFilter.CoGIFFilter', '/MMC20.Application', '/soffice.StarConfigFile.6', '/DXImageTransform.Microsoft.CrWheel.1', '/System.Security.SecurityException', '/Windows.XPSActiveDocument.1', '/PRMTLIB.PromtDictList2.4', '/.pcap', '/.ppt', '/LibreOffice.Vsdm', '/MSHelp.hxa.2.5', '/X509Enrollment.CX509ExtensionEnhancedKeyUsage.1', '/Groove.Label', '/Microsoft.Access.OLEDB.RecordsetConstructor.10.0', '/STSServer.STSServerInstance', '/X509Enrollment.CX509NameValuePair.1', '/Groove.GrooveFormsFieldColumnProperties', '/MiImage.NbImageLayer.1', '/.Rmarkdown', '/VLC.spx', '/.frm', '/Access.Project', '/Groove.InkControlWrapper', '/SAPI.SpMMAudioOut', '/ITIR.ResultSet.4', '/SymReader.dia', '/.tlh', '/.pat', '/pfmfile', '/soap', '/SmarTool8.OutlookAddin', '/wincredprovider.cwincredprovider.1', '/PdfRtf.PromtPdfRtfFileConverter', '/.vsi', '/.ocx', '/DXImageTransform.Microsoft.RevealTrans', '/trkfile', '/wordmhtmlfile', '/tdbfile', '/Microsoft.DirectMusicScriptAutoImpAudioPathConfig.1', '/Download.Download', '/Outlook.OlkCommandButton', '/MSOSOAP.SoapSerializer30', '/MetaTrader 5 Export File', '/YandexWEBP.YSHUMIPZOK4RU5HIRBRXQTHAXU', '/Groove.ApplicationDescriptor', '/qedit.DxtJpeg.1', '/Microsoft.DirectMusicChordMap', '/VLC.b4s', '/MMS', '/Groove.RVPServer', '/IAS.NTGroups', '/RdpCoreTS.WTSProtocolManager', '/.hxh', '/InfoPath.Solution.2', '/Txt2If.UTF8ToIfConverter.3', '/OlePrn.OleCvt.1', '/WSCommCntr4.ERenewalDownload.1', '/EHomeDropTarget.EHomeVideoDropTarget', '/.sog', '/.nsv', '/LR.LexRefBilingualServiceAttribute.1.0.1', '/.hxw', '/.gvi', '/PrmtLDB.PromtEntry.3', '/MWBfile', '/MSOlapAdmin2.MSOLAPExtLevel.1', '/Groove.WebMembers', '/MsoRun.AnimFilterDHTMLBehavior', '/SoftwareDistribution.VistaWebControl', '/BDATuner.DVBTuneRequest.1', '/dtsh.DetectionAndSharing.1', '/netcenter.NCLUA', '/IE.HTTP', '/Groove.FilesDownloadSettingsFactory', '/Adobe.AcrobatSearch', '/IMAPI.MSDiscMasterObj', '/PNGFilter.CoPNGFilter', '/SdrService.SdController.1', '/.css', '/ComPlusDebug.CorDebug', '/EhSched.ResourceMgr.1', '/.exc', '/AcSmComponents.AcSmSheetViews.20', '/Diagnostic.Resmon.Config', '/System.StackOverflowException', '/SppComApi.ModemActivation.1', '/System.Security.Cryptography.SHA512Managed', '/Microsoft.PowerShellConsole.1', '/{2C256447-3F0D-4CBB-9D12-575BB20CDA0A}', '/YandexPNG.YSHUMIPZOK4RU5HIRBRXQTHAXU', '/progId_VirtualBox.Shell.hdd', '/CAPICOM.Signer.2', '/ITIR.SystemWordSink.4', '/soffice.StarImpressDocument.6', '/MsoRun.AnimFilterDHTMLBehavior.1', '/MSOLAP90ErrorLookup.1', '/.etp', '/AcSignCore.AdskFindSignFile.1', '/MicrosoftHeartsSaveFile', '/OrgPlusWOPX.4', '/OneNote.Section.1', '/Outlook.OlkOptionButton.1', '/IMCommonCtrlLib.ICQPluginSettings.2', '/MachineDebugManagerUtilities.7', '/.AAC', '/Groove.WaitAnimationHelper', '/MSOlapAdmin2.MSOLAPRole', '/.cbr', '/.pdfxml', '/Theme.ThemeThumbnail.1', '/Outlook.File.ibc', '/VSTA.resx.8.0', '/Groove.XMLSyntax', '/opendocument.CalcDocument', '/TpcCom.InkObject.1', '/Agent.Control.1', '/FunctionDiscovery.Discovery', '/System.EnterpriseServices.Internal.ServerWebConfig', '/Scansrv.Application', '/Outlook.OlkDateControl', '/NbTextLayout.NbTextLayoutPageText.1', '/System.Runtime.Remoting.Messaging.RemotingSurrogateSelector', '/.jnt', '/MSComctlLib.SBarCtrl', '/.ext', '/opensearchblocked', '/soffice.StarCalcTemplate.6', '/CertificateAuthority.EncodeCRLDistInfo.1', '/.crl', '/Skype4COM.Application.1', '/.ard', '/Microsoft.DirectMusicSegment', '/MiDocViewer.MiRioEventSink.1', '/PromtEvw.PromtEvwKbdHook', '/Psisdecd.PBDA.1', '/AcroAccess.AcrobatAccess.1', '/.EMPTYBINARYREGISTRY', '/Igfxdo.DataObjectInit.1', '/.odctablefile', '/DfsShell.DfsShell.1', '/.psm1', '/InstalledApp', '/FunctionDiscovery.WSDPrintProxy', '/MSAddnDr.AddInInstance.1', '/PLA.ServerDataCollectorSet.1', '/LibreOffice.WriterGlobalDocument.1', '/MAPI/IPM.StickyNote', '/Interface', '/Skype4COM.SmsChunkCollection.1', '/.ipr', '/DAO.QueryDef.120', '/CivicAddressReport', '/Microsoft.GroupPolicy.AdmTmplEditor.GPMAdmTmplEditorManager', '/Microsoft.ACE.OLEDB.12.0', '/.ttc', '/Excel.OpenDocumentSpreadsheet', '/Kind.Music', '/Groove.DynamicsReceiver', '/Skype4COM.ParticipantCollection.1', '/.spx', '/msinkaut.InkRectangle', '/MsRDP.MsRDP.7', '/PLA.LegacyTraceSession', '/Psisdecd.CDvb.1', '/.phy', '/ocxfile', '/WMP11.AssocMIME.ADTS', '/JPEGFilter.CoJPEGFilter', '/SAPI.SpNotifyTranslator.1', '/CAPICOM.Signer.1', '/ScanProfiles.ScanProfileMgr', '/SAPI.SpGramCompBackEnd.1', '/Groove.GrooveSock', '/SoundRec', '/MSComctlLib.ImageListCtrl', '/X509Enrollment.CCertPropertyEnrollment.1', '/Groove.Edit', '/Groove.UIManager', '/32lnkfile', '/outlookfeed', '/.eprtx', '/WMP11.AssocFile.WMV', '/X509Enrollment.CX509MachineEnrollmentFactory', '/.p7m', '/excelmhtmlfile', '/.a', '/MemuHyperv.MemuHypervClient.1', '/PRMTLIB.PromtTMBasesListCtrl.4', '/PROMT5.SmartUrls.3', '/.markdown', '/Groove.AccountServices', '/Skype4COM.CallChannelMessage.1', '/Groove.ResetPassphraseCode', '/.tkl', '/PortableDeviceFTM.PortableDeviceFTM.1', '/YandexEPUB.YSHUMIPZOK4RU5HIRBRXQTHAXU', '/PowerPoint.TemplateMacroEnabled.12', '/ShapeCollector.ShapeCollector.1', '/VLC.xesc', '/IAS.ADsDataStore', '/OTB_Loader.PTB_Loader', '/Forms.ScrollBar.1', '/MWSAMP.MwsampCtrl.1', '/.pmr', '/CplExt.ViaKaraokePropPage', '/DXImageTransform.Microsoft.CrInset.1', '/RTPatcher.RTPatcher.1', '/.k3g', '/HtmRtf.PromtRtfHtmFileConverter', '/MagicVoicePage Class', '/SPCFile', '/Txt2If.CWIN1251ToIfConverter', '/Outlook.OlkTimeControl.1', '/msinkaut.InkRecognizerGuide.1', '/IAS.NTSamPerUser', '/MTxSpm.SharedPropertyGroupManager.1', '/OlePrn.OleSNMP', '/PRMTLIB.PromtTemplPropsCtrl.4', '/CertificateAuthority.EncodeStringArray.1', '/.def', '/LibreOffice.ImpressDocument.1', '/teamviewerapi', '/.docx', '/DXImageTransform.Microsoft.Spiral', '/WMP11.AssocMIME.MP4', '/BDATuner.ATSCLocator', '/.graphml', '/ITIR.SystemSort', '/GoogleDrive.glink', '/Groove.WebFiles2', '/Groove.DragDropDataTransferSource', '/ADOX.Group', '/.csa', '/h1hfile', '/X509Enrollment.CX509NameValuePair', '/Diagnostic.Document', '/LocationDisp.DispCivicAddressReport.1', '/MSDASCErrorLookup.1', '/MSOlapAdmin2.MSOLAPDimensions.1', '/ProcessDebugManager', '/PLA.LegacyTraceSessionCollection.1', '/.wmf', '/3dsxmim', '/VLC.m2t', '/progId_VirtualBox.Shell.ovf', '/.m4a', '/Groove.WebEvents', '/UmOutlookAddin.FormRegionAddin.1', '/.wpz', '/MSVidCtl.MSVidGenericSink.1', '/.xll', '/PrmtLDB.PromtDictionary.3', '/MSOSOAP.DataEncoderFactory30', '/Scriptlet.Context', '/TeamViewer.Service', '/EventSystem.EventPublisher', '/.maxcompound', '/.dwfx', '/OWS.ClientComment', '/Microsoft.PowerShellScript.1', '/COMSNAP.CUserPropPages', '/eHomeSchedulerService.MCEIRUser.1', '/Groove.ComponentManager', '/IMAPI2FS.MsftIsoImageManager.1', '/Search.EmbeddedGatherNotify.1', '/WINMGMTS', '/Groove.ContactAlerts', '/igfxdev.CUIDriver.1', '/ADOMD.Cellset.6.0', '/PLA.SystemDataCollectorSet.1', '/VLC.webm', '/PowerPoint.Show.7', '/STSServer.EnumSTSWORDEDIT.1', '/VLC.vlt', '/MATLAB.AutoServer.Single', '/Groove.ClipboardDataTransferSource', '/CAPICOM.Chain', '/.r02', '/ADOR.Recordset', '/NbTextLayout.NbTextLayoutPageProp', '/Autodesk.IPTex.1', '/MSOlapAdmin2.MSOLAPMeasures.1', '/IMCommonCtrl.PromtMessengerProxy', '/.mlc', '/.xls', '/ChromeHTML', '/MSRDC.SimilarityFileIdTable', '/PDictEdit.RS', '/System.EnterpriseServices.Internal.ComSoapPublishError', '/VSTA_IP.vssettings.8.0', '/System.Runtime.Remoting.Metadata.W3cXsd2001.SoapQName', '/System.NonSerializedAttribute', '/Doc2If.Doc2IfConverter.3', '/InternetExplorer.Application.1', '/LibreOffice.Met', '/.rte', '/Groove.TaskbarIcon', '/MagicUSBCableProgID', '/powerpointxmlfile', '/RAServer.RASMapi', '/X509Enrollment.CCertPropertyArchivedKeyHash', '/.xspf', '/IE.AssocFile.MHT', '/System.Runtime.Remoting.Metadata.W3cXsd2001.SoapNcName', '/.r19', '/Microsoft.InformationCard', '/.ADTS', '/jpcfile', '/Microsoft.Update.UpdateColl.1', '/PowerPoint.Addin', '/WECAPI5.FpFolder', '/Scripting.Encoder', '/Nbdoc.NBDocument', '/3dsmfe', '/eHome.iTvHost.1', '/MPolygonCOM.PTypeDialog.20', '/.vcg', '/Search.LanguageResource.1', '/Microsoft.DirectMusicMarkerTrack', '/MsoRun.IETimeBehaviorFactory.1', '/.H1F', '/MediaCatalogMGC', '/Groove.ChatEngine', '/WMSDKHTTPSourcePlugin.HTTPSource.2', '/VLC.DVDMovie', '/bidispl.bidirequestcontainer.1', '/cclaunch', '/Microsoft.Update.ServiceManager.1', '/Promt.Document.9', '/Word.Template.12', '/Groove.PropertySheetDialog', '/VLC.wv', '/MSOLAP.3', '/Msxml2.DOMDocument.3.0', '/WiaDevMgr.1', '/Groove.StorageURISyntax', '/VLC.vlc', '/VSS.VSSCoordinator.1', '/DXImageTransform.Microsoft.CrStretch.1', '/.r28', '/CRLFile', '/SPPWMI.SppWmiTokenActivationSigner', '/CERFile', '/Wired.Snapin', '/Microsoft.XMLDSO.1.0', '/msinkaut.InkRecognizerGuide', '/Groove.PersonalContactRecord', '/JobObjLimitInfoProv.JobObjLimitInfoProv.1', '/ContactPicker.PropPage1', '/Outlook.OlkComboBox', '/DXImageTransform.Microsoft.CrInset', '/TvRatings.EvalRat', '/Access.Project.12', '/.cc', '/CAPICOM.Chain.3', '/Microsoft.VSTOFormRegionsHostX.3', '/wprfile', '/Excel.SheetBinaryMacroEnabled.12', '/Microsoft.DirectMusicAudioPath', '/System.Security.Cryptography.RijndaelManaged', '/Excel.SheetMacroEnabled.12', '/CLRMetaData.CLRRuntimeHost.1', '/Equation.DSMT4', '/.ant', '/.sh', '/McxMdeOutputProfile.OutputProfileMgr', '/tn3270', '/CorTransientLoader.CorLoad', '/3dsclrx', '/FunctionDiscovery.UMBusDriver.1', '/Access.WizardDataFile.12', '/BDATuner.MPEG2ComponentType', '/GRMain.Translator.4', '/MiDocViewer.MiDocSearch', '/opendocument.WriterWebDocument.1', '/rusfile', '/MSComctlLib.ListViewCtrl.2', '/MAPI/IPM.Schedule.Meeting', '/NODEMGR.MMCDocConfig', '/OpenOffice.Xltm', '/3dsmusx', '/Groove.PrivateKeyStoreFactory', '/Search.GatherMgr', '/AutoCAD.SecurityParams.20', '/.vdi', '/Outlook.File.vcs', '/.aob', '/MSPersist.1', '/.opus', '/InfoPath.Document.2', '/PDict.PrmtPDict.2', '/OTB.WordTab', '/System.TimeoutException', '/X509Enrollment.CX509PublicKey', '/.djv', '/.fad', '/.URL', '/.dqy', '/.inf', '/WMP11.AssocMIME.ASX', '/VirtualBox.VirtualBoxClient.1', '/Groove.SynchronizationCode', '/MsoRun.OAVDShowPlayer', '/Outlook.OlkLabel.1', '/IMAPI2.MsftDiscRecorder2', '/GoogleUpdate.Update3WebSvc', '/ContactPicker.PropPage2', '/VisShe.IconHandlerShellExt', '/ADOX.Key', '/Groove.FileFilter', '/VSTA.xdr.8.0', '/Access.Shortcut.Function.1', '/DefaultLocationApi.1', '/System.Runtime.CompilerServices.DiscardableAttribute', '/.maxtool', '/.wsz', '/.csm', '/MSOlapAdmin2.MSOLAPExtMeasure.1', '/SavedDsQuery', '/.b6t', '/X509Enrollment.CPolicyQualifier.1', '/IAS.Request', '/OlePrn.AspHelp', '/LiveScript', '/EntryGrid.PromtEntryDlg', '/.acrobatsecuritysettings', '/Equation.SSEE2', '/.ols', '/Mathematica.GoogleIndexer', '/.m14', '/.wmx', '/CAPICOM.Certificates.4', '/DXImageTransform.Microsoft.Convolution.1', '/32HardLink.ACCDTFile.1', '/BDATuner.AnalogLocator.1', '/MiKTeX.PackageManager', '/PowerPoint.SlideShowMacroEnabled', '/MsoRun.OAVMediaDHTMLBehavior.1', '/HTML.HostEncode', '/Excel.Macrosheet', '/Outlook.OlkCheckBox.1', '/Search.EmbeddedSearchSvcAdmin.1', '/.lfg', '/PRMTLIB.PromtStatisticsCtrl.4', '/GoogleUpdate.ProcessLauncher', '/AzRoles.AzPrincipalLocator', '/IMCommonCtrlLib.ICQPluginSettings', '/.mcg', '/MSITFS', '/VLC.snd', '/DjVu.Document', '/MSCAL.Calendar', '/.ms', '/WSCommCntr4.ELearningCourse.1', '/.pip', '/MsoEuro.Converter.1', '/NameTranslate', '/10216_auto_file', '/Skype4COM.Profile', '/.bsc', '/SppComApi.OfflineActivation.1', '/MSOSOAP.ConnectorFactory30', '/X509Enrollment.CX509PolicyServerListManager', '/Msxml2.SAXXMLReader.3.0', '/DXImageTransform.Microsoft.Inset.1', '/Microsoft.DirectMusicChordTrack.1', '/Kind.Email', '/.mplog', '/wordhtmlfile', '/Msxml2.DSOControl.5.0', '/PRMTLIB.wwtlist2Ctrl.3', '/DXImageTransform.Microsoft.CrEngrave.1', '/OWS.ClientEventSubscription', '/.hxs', '/.r01', '/IAS.PolicyEnforcer.1', '/Shell.UIHelper', '/.odcdatabasefile', '/.vssettings', '/Microsoft.DirectMusicScriptAutoImpSegmentState.1', '/CAPICOM.EnvelopedData', '/3dsmxp', '/partition', '/WSMan.Automation.1', '/PLA.DataCollectorSet', '/Equation.SMEE2', '/Skype4COM.PluginMenuItem', '/.atc', '/OTB_Loader.WTB_Loader', '/.a52', '/.mt5', '/wlsrvc.WLServices', '/Groove.WindowProperties', '/Groove.MessageLoop', '/Name.NameCtrl', '/Transmittal.TransmittalFile.19', '/AccServerDocMgr.AccServerDocMgr.1', '/device', '/VLC.gxf', '/CAPICOM.Certificate.1', '/MSAddnDr.AddInDesigner', '/VLC.au', '/.vsdm', '/StickyNotes', '/Excel.Sheet.8', '/Groove.HTMLComponentBridge', '/Groove.Win32FileOperation', '/Microsoft.PhotoAcqDropTarget', '/TabIps.InkItem', '/JobObjIOActgInfoProv.JobObjIOActgInfoProv.1', '/LocationDisp.DispCivicAddressReport', '/Aec32BitAppServer.AecSdfToolkit.1', '/CplExt.Dts2PropPage.1', '/WinGraph.File', '/opendocument.WriterDocument.1', '/AccessControlList', '/qedit.MediaLocator', '/WMP11.AssocMIME.3G2', '/SmarTool8.SharePointDesignerAddin', '/JScript.Compact', '/Search.OneIndexHandler', '/MsRDP.MsRDP.3.a', '/SAPI.SpTextSelectionInformation', '/FDate.Factoid.2', '/.accdu', '/SAPI.SpVoice', '/CDO.SMTPConnector', '/VLC.vro', '/Groove.Win32UTCFileTime', '/PortableDeviceClassExtension.PortableDeviceClassExtension.1', '/VLC.mp4v', '/EhStorShell.AutoplayHandler', '/msinkaut.InkTransform', '/qedit.GrfCache.1', '/BehaviorFactory.Microsoft.DXTFilterFactory.1', '/.FreeCellSave-ms', '/System.Runtime.CompilerServices.IUnknownConstantAttribute', '/OpenOffice.Dot', '/WebServices.WSNetworkConnection', '/WSCommCntr4.ERenewalNotify.1', '/Equation.3', '/Chat.Chat.1', '/PeerFactory.PeerFactory', '/.xcu', '/PrmtLDB.PromtDictionaries.3', '/MiInkSeg.MiRioTabletInput', '/PhotoViewer.FileAssoc.Jpeg', '/Msxml2.XMLHTTP.6.0', '/Msxml2.XMLSchemaCache.4.0', '/IMRequestRAApp.IMRequestRA.1', '/ptddb.PTDMemory', '/X509Enrollment.CX509EnrollmentWebClassFactory', '/BDATuner.ISDBSLocator', '/Groove.Internationalization', '/CertificateStoreFile', '/IE.HTTPS', '/MSExtLocality', '/.sc2', '/Groove.ConfirmPasswordDialog', '/Groove.BogusParentWindow', '/BDATuner.DVBTLocator2', '/.jnlp', '/OutlPOPPH.1', '/ADOX.User', '/Groove.ChessEngine', '/WinForms.Control.Host.V3', '/Groove.TicTacToeCode', '/IAS.MSChapErrorReporter', '/System.EnterpriseServices.Internal.IISVirtualRoot', '/Groove.Static', '/.ozfx3', '/.shtml', '/igfxpph.GraphicsShellExt', '/WlanConn.WlanConn.1', '/Groove.FileLaunchServices', '/group_wab_auto_file', '/VLC.xm', '/.xa', '/.accdt', '/.vlc', '/Shell.FolderView', '/WinInetCache.WinInetCache.1', '/MSOlapAdmin2.MSOLAPLevel', '/jpffile', '/.r21', '/.nfw', '/System.Runtime.InteropServices.SEHException', '/lnkfile', '/.tgz', '/.shp', '/X509Enrollment.CX509ExtensionTemplate', '/OISpngfile', '/PRMEDCTL.PromtEdLightCtrl.2', '/rtp', '/Groove.NavigationBarCode', '/.ps1xml', '/X509Enrollment.CSignerCertificate.1', '/VLC.m3u8', '/FilePlaybackTerminal.FilePlaybackTerminal.1', '/WinHttp.WinHttpRequest.5.1', '/BDATuner.SystemTuningSpaces.1', '/Google.OneClickProcessLauncherMachine', '/Groove.DevicePolicy', '/MSDAORA ErrorLookup.1', '/PortableDeviceWiaCompat.PortableDeviceWiaCompat', '/powerpointhtmlfile', '/opendocument.WriterGlobalDocument.1', '/System.Security.HostSecurityManager', '/.mht', '/Skype4COM.Call', '/WSHController', '/eHomeSchedulerService.RecordingDispatcher', '/NbImage.NbBitmapLayer.1', '/Skype4COM.SmsMessage', '/X509Enrollment.CX509CertificateRequestCertificate', '/.soc', '/InfoPath.Application', '/3dsmaxc', '/Search.EmbeddedGatherMgr', '/SPPUI.SPPUIObject', '/.SolitaireSave-ms', '/LibreOffice.DrawTemplate.1', '/PROMT5.SmartUrls', '/ehGLID.AtscPsipParser.1', '/ehGLID.GLIDPlugInUDCR.1', '/Matlab.Application.9.5', '/Groove.Application', '/Coloader.VsDefaultLoader', '/ITIR.WWFilterBuild', '/JavaScript', '/VSTA_IP.xml.8.0', '/WSCommCntr4.ERenewalCategory.1', '/GPSMapEdit.Application', '/STSServer.EnumSTSWORDEDIT', '/Msxml2.XMLParser.3.0', '/outlookfeeds', '/LibreOffice.Wb2', '/Wired.About.1', '/eHomeSchedulerService.RecordingDispatcher.1', '/OneNote.TableOfContents', '/Access.ADEFile.12', '/.scf', '/.vbox', '/eHomeSchedulerService.MCEIRUser', '/CAPICOM.PrivateKey', '/COMSVCS.CServiceConfig', '/Tabs_for_Publisher.Connect', '/3dsphy', '/XML', '/jp2file', '/WMP11.AssocFile.WMD', '/brmFile', '/MSITStore', '/eHomeSchedulerService.EhepgdatWrapper.1', '/SAPI.SpStream.1', '/Groove.IdentityPolicy', '/MsTscAx.MsTscAx.3', '/MSOLAPErrorLookup.2', '/EhEtwServer.EhTraceProvider.1', '/WMP11.AssocFile.MOV', '/System.Resources.MissingManifestResourceException', '/DictEdit.Application', '/https', '/MSVidCtl.MSVidClosedCaptioningSI.1', '/Psisdecd.DigitalCable', '/System.Runtime.InteropServices.RuntimeEnvironment', '/.mwb', '/TvRatings.XDSToRat.1', '/Coq Script File', '/rqyfile', '/PrmtCtl.Document.3', '/PowerPoint.Application', '/OfficeListShortcut', '/AcSignCore.AdskSignLisp.1', '/RSMain.Translator.4', '/Microsoft.Update.WebProxy.1', '/Groove.WindowManager', '/KLCP.WMP.wv', '/Codejock.ListBox.13.4.2', '/.txt', '/VisualStudio.Launcher._sln60', '/WindowsMail.Envelope.1', '/WSCommCntr4.CommCntrController.1', '/3dscui', '/TyporaTextFile', '/Groove.DocumentShareVersionInformation', '/SplSetup.CFindNetPrinters', '/Groove.GFSShellServices', '/WSCommCntr4.WebSearchResult', '/.secstore', '/.docmhtml', '/Word97Rtf.PromtWord97RtfFileConverter', '/Microsoft.XPS.Shell.Metadata.1', '/CAPICOM.Store.3', '/.sxc', '/.rm', '/.cat', '/DXImageTransform.Microsoft.RandomBars.1', '/OfficeObj.OfficeObj12.1', '/ProductInf.PromtProductSession2', '/CAPICOM.Certificates.1', '/._vcppxsln80', '/Groove.TemporaryFileServices', '/MemuHyperv.Session', '/Groove.TextDialogs', '/KLCP.WMP.m3u', '/.grp', '/CDisplayZipArchive', '/TPCRTP.GestureRecognizer.1', '/msinkaut.InkWordList.1', '/.m2p', '/.pdx', '/Groove.FileEditNotifier', '/PowerPoint.Template', '/SPPWMI.SppWmiTokenActivationSigner.1', '/.rat', '/OWS.PptUI', '/IMAPI2.MsftDiscFormat2Erase', '/VLC.SVCDMovie', '/.oth', '/.c2r', '/CfgComp.CfgComp.1', '/.pwz', '/MSOLAP.2', '/Groove.ToolTemplateServices', '/MailFileAtt', '/System.Runtime.InteropServices.COMException', '/System.IO.DirectoryNotFoundException', '/Promt5.TemplateSemiAnalyzer', '/BDATuner.ATSCChannelTuneRequest', '/HxVz.HxIndexCtrl', '/powerpointhtmltemplate', '/.mav', '/.cal', '/Coloader.VsBothLoader.8.0', '/.vcf', '/.cur', '/Word.Document', '/Promt5.TemplateSemiAnalyzer.9', '/OldFont', '/Microsoft.VisualStudio.Publish.Framework.PublishPropPageComClass', '/zapfile', '/DownloadBehavior.DownloadBehavior', '/SAPI.SpObjectTokenCategory', '/MSAddnDr.AddInInstance', '/Skype4COM.Profile.1', '/OSE.Discussions', '/.hqx', '/VSTA_IP.vstemplate.8.0', '/Microsoft.IE.Manager.1', '/ContactPicker.PropPage2.1', '/Psisdecd.DvbSiParser', '/OSE.Discussion', '/Adobe.AcrobatSearch.1', '/.pcd', '/VLC.mpeg4', '/PrmtCtl.Document', '/Groove.AudioClip', '/.r14', '/WMPNSSCI.NSSManager', '/DispatchMapper.DispatchMapper', '/IAS.IasHelper', '/Microsoft.Update.Searcher', '/Microsoft.Update.Session', '/Aec32BitAppServer.AecSdfObjectGeometrySegment.1', '/PROMT5.SmartUrls2.3', '/MSOlapAdmin2.MSOLAPAggregations', '/.wvx', '/Groove.ContactServices', '/ADOMD.Catalog.6.0', '/.maw', '/Microsoft.DirectMusicTempoTrack.1', '/Groove.WebApplication', '/SharePoint.OpenDocuments.1', '/SensorsApi.SensorCollection', '/MSVidCtl.MSVidITVPlayback.1', '/scriptletfile', '/OlePrn.PrinterURL', '/WECAPI5.FpFolder.3', '/MsoRun.AnimMotionDHTMLBehavior', '/PLA.LegacyDataCollectorSetCollection', '/.bsg', '/Groove.ContactInjectorCode', '/DXImageTransform.Microsoft.Glow.1', '/System.Globalization.DateTimeFormatInfo', '/Microsoft.DirectMusicGraph.1', '/System.Runtime.Serialization.ObjectIDGenerator', '/MSOlapAdmin2.MSOLAPRoles.1', '/PrintSys.CoFilterPipeline.1', '/BDATuner.ATSCChannelTuneRequest.1', '/Microsoft.VisualStudio.Tools.Applications.DesignTime.HostAdapter', '/PhotoViewer.FileAssoc.Wdp', '/.mmd', '/DXImageTransform.Microsoft.Wipe.1', '/MagicUSBCableProgID.1', '/LibreOffice.Lwp', '/DOCSITE.DocSiteControl.1', '/.drv', '/Wired.Snapin.1', '/JPEGFilter.CoJPEGFilter.1', '/ERCLuaElevationHelper', '/IAS.MachineNameMapper.1', '/X509Enrollment.CX509ExtensionBasicConstraints', '/Codejock.TabControlPage.13.4.2', '/DXImageTransform.Microsoft.CrBarn', '/Sharepoint.OpenXMLDocuments.1', '/PortableDeviceClassExtension.PortableDeviceClassExtension', '/.faq', '/contact_wab_auto_file', '/wpofile', '/Scriptlet.SvrOm', '/usrfile', '/Microsoft.DirectMusicTimeSigTrack.1', '/Html2If.Converter.2', '/HNetCfg.NATUPnP.1', '/System.Runtime.InteropServices.ExternalException', '/Groove.GrooveFormsDatabaseObject', '/ptdsvr.PTDProjects', '/Doc95ToIf.Doc95ToIfConverter', '/WMNetSourcePlugin.NetSourcePlugin', '/MSDAURL.Binder', '/.r25', '/Psisdecd.ATSCTerrestrial.1', '/WPDSp.WPDServiceProvider', '/odcnew.1', '/OpenOffice.Xlsx', '/LR.LexRefBilingualTextContext.1.0.1', '/Groove.Hotkey', '/System.Security.Cryptography.RC2CryptoServiceProvider', '/TpcCom.RecoManager.1', '/.fav', '/.mdtxt', '/KLCP.WMP.webm', '/.pnf', '/SrDrvWuHelper.SrDrvWuHelper.1', '/Word.Picture.8', '/IAS.PostQuarantineEvaluator', '/MSOSOAP.SimpleParser30', '/rtsp', '/VLC.mpv2', '/WSCommCntr4.ELearningModule.1', '/System.Runtime.Remoting.Metadata.SoapMethodAttribute', '/Scriptlet.TypeLib', '/UPnP.UPnPServices.1', '/.soe', '/MSHelp.hxs.2.5', '/COMSNAP.SnapinAboutImpl.1', '/migfile', '/MSOSOAP.DimeParser30', '/.vor', '/VisShe.IconHandlerShellExt.1', '/MSRDC.Similarity', '/jfrfile', '/IAS.NTSamNames.1', '/SBEServer.BurnDevice', '/Control.TaskSymbol.1', '/IE.AssocFile.WEBSITE', '/MiImage.NbImageLayer', '/ERMain.Translator.4', '/Excel.Chart.8', '/SAPI.SPNotify', '/CertificateAuthority.EncodeDateArray', '/.nk2', '/WMP11.AssocMIME.MPEG', '/h1vfile', '/OlePrn.DSPrintQueue', '/.vsscc', '/NODEMGR.ComCacheCleanup', '/PRMTLIB.PromtDirComboCtrl.4', '/.au3', '/VLC.mod', '/.aps', '/eHome.McxRemoteDvdPlayer', '/LibreOffice.Psd', '/Msxml2.MXXMLWriter', '/ehGLID.GLIDLoaderDispatcher', '/MediaDevMgr.MediaDevMgr.1', '/.wmp', '/.gfs', '/SDENGINE.CSdGITManager', '/Search.CollatorErrors.1', '/Access.Shortcut.Macro.1', '/Office2007If.WordConverter', '/WinRAR', '/Mathematica.GoogleIndexer.1', '/AzRoles.AzAuthorizationStore.1', '/System.EnterpriseServices.Internal.ComManagedImportUtil', '/Printers', '/System.Runtime.Hosting.ApplicationActivator', '/Windows.Contact.1', '/Skype4COM.ParticipantCollection', '/TestServer.TestManager.1', '/VSMGMT.VssSnapshotMgmt.1', '/AcroBroker.Broker.1', '/Groove.IdentityServices', '/System.Diagnostics.DebuggerStepperBoundaryAttribute', '/WMP11.AssocMIME.WMZ', '/VSTA.settings.8.0', '/.gmap', '/eHome.McxRemoteDvdPlayer.1', '/PrmRange.PropertyBag.R5', '/.ComfyCakesSave-ms', '/LibreOffice.WriterWebDocument', '/OVCtl.OVCtl.1', '/.bik', '/ImeKeyEventHandler1042.1', '/Search.CollatorErrors', '/VLC.mid', '/Groove.WebBrowserControlWrapper', '/Groove.GFSConfigServices', '/.f', '/PhotoViewer.FileAssoc.Tiff', '/Codejock.RadioButton.13.4.2', '/.Job', '/Groove.TemplateParser', '/SBEServer.DiscBurner', '/.rsp', '/.one', '/InfoPath.Document', '/DMM.FeatureSelection', '/scrfile', '/.xltm', '/.r00', '/micaut.MathInputControl', '/Excel.Addin', '/IAS.TimeOfDay.1', '/System.Security.Cryptography.TripleDESCryptoServiceProvider', '/UmOutlookAddin.FormRegionContext', '/GoogleDrive.gscript', '/VisualStudio.Launcher._vcppxsln80', '/.cgm', '/MSOlapAdmin2.MSOLAPPartition.1', '/LibreOffice.WriterGlobalDocument', '/._sln80', '/Schedule.Service', '/PALIST.AlphaListCtrl9.1', '/FaxCover.Document', '/System.Security.Cryptography.SHA384Managed', '/MSOlapAdmin2.MSOLAPLevels', '/.plg', '/32Drive', '/X509Enrollment.CCertProperties.1', '/msinkaut.DrawingAttributes.1', '/.xlshtml', '/FADFile', '/Groove.WebTools', '/VLC.it', '/Promt5.TemplateAnalyzerProvider', '/ITIR.FTIBuild', '/Excel.Sheet.5', '/Skype4COM.CallChannelMessage', '/.viw', '/MediaDevMgr.MediaDevMgr', '/OLE DB Rowset Proxy', '/tvvpn1', '/SdrService.SdController', '/.otp', '/WSCommCntr4.CommCntrChannel.1', '/OutlSMTPPH', '/FaxCommon', '/System.Reflection.AmbiguousMatchException', '/MSOlapAdmin2.MSOLAPAggregations.1', '/PDictEdit.RF', '/regedit', '/MSComctlLib.TabStrip', '/.doc', '/PrmEDBase.EDBaseDirection', '/Groove.WebDiscussion', '/.vsx', '/Name.NameCtrl.1', '/new', '/.crd', '/Skype4COM.Conversion.1', '/eHome.MhegAddIn', '/PLA.ServerDataCollectorSet', '/X509Enrollment.CCertPropertyEnrollmentPolicyServer', '/Forms.HTML:Hidden.1', '/Groove.WSSSynchronizer', '/EhSched.InstallEventsMediator.1', '/TeamViewer.Service.1', '/PowerPoint.SlideShowMacroEnabled.12', '/pas', '/.pkt', '/WPDContextMenu.Video', '/ODCCUBEFILE', '/GrooveStub', '/Mathematica.WindowsIndexer', '/VLC.3gpp', '/IMAPI2.MsftStreamConcatenate.1', '/.r12', '/Groove.XPathQueryParser', '/.xbm', '/.H1S', '/MiKTeX.Session.2.9', '/odc.new', '/Stack', '/.drc', '/Microsoft.VisualStudio.Publish.Library.Bootstrapper.ProductState', '/FormHost.FormHost.1', '/TestServer.TestManager', '/MSOlapAdmin2.MSOLAPDatabases', '/System.Globalization.JulianCalendar', '/ADOX.Catalog.6.0', '/WW.TiberianSun.1', '/GoogleUpdate.PolicyStatus', '/OpenOffice.Ppt', '/CAPICOM.Certificates.3', '/Groove.TreeView', '/Access.Shortcut.View.1', '/.odcnewfile', '/DfsShell.DfsShellAdmin.1', '/VLC.mov', '/MSHelp.hxi.2.5', '/ehGLID.GLIDPlugInDVBTerrestrial.1', '/Msxml2.XMLSchemaCache.3.0', '/Microsoft.VisualStudio.Tools.Applications.Blueprints.HostItem', '/AMOVIE.ActiveMovieControl', '/.idl', '/ptdsvr.PTDMemories', '/DeviceRect.DeviceRect', '/MSVidCtl.MSVidFilePlaybackDevice.1', '/Msxml2.XSLTemplate', '/IAS.TimeOfDay', '/Excel.OpenDocumentSpreadsheet.12', '/Nbdoc.Stationery.1', '/SpeechUX.ConfigUI', '/TransMan.Manager.3', '/Word97Txt.PromtWord97TxtFileConverter', '/.jav', '/FilePlaybackTerminal.FilePlaybackTerminal', '/PDictEdit.RG.4', '/UserLibraryFolder', '/MSTTSDecWrp.DecObj', '/ptdobj.PTDPropBagSchema.3', '/PRMEDCTL.PrmEdCtl', '/CDO.SS_SMTPOnArrivalSink', '/launchreader', '/System.Runtime.Remoting.Metadata.W3cXsd2001.SoapToken', '/soffice.StarImpressDocument', '/IPW.User', '/LR.LexRefBilingualServiceAttribute.1.0', '/STSServer.DictationHost.1', '/ADODB.Stream', '/MSDataShape.1', '/DXImageTransform.Microsoft.Emboss.1', '/Groove.WebBrowserView2', '/GoogleUpdate.Update3WebMachine', '/Groove.ExternalAppTransfer', '/X509Enrollment.CX509Extension.1', '/FirefoxHTML-308046B0AF4A39CB', '/.snippet', '/ftp', '/Groove.MeetingsUIDelegate', '/Excel.AddInMacroEnabled', '/Windows.ContactManager', '/Aec32BitAppServer.AecSdfBoundingBox.1', '/BDATuner.DigitalCableLocator', '/X509Enrollment.CX509Enrollment', '/Groove.URLManager', '/dllfile', '/Groove.CommunicationsPanelCode', '/System.OperationCanceledException', '/CHHIme.CHHInputModule.1', '/AcSmComponents.AcSmSheetSet.20', '/KLCP.WMP.dts', '/BDATuner.AnalogAudioComponentType.1', '/TxCTx.TransactionContext', '/BDATuner.DVBTuningSpace', '/.msp', '/tlgfile', '/DRM.GetLicense.1', '/Word.TemplateMacroEnabled', '/AcSmComponents.AcSmAcDbObjectReference.20', '/Krnlprov.KernelTraceProvider.1', '/Groove.IEPFXPrivateKeyStoreFactory', '/Codejock.Resizer.13.4.2', '/System.Runtime.CompilerServices.IDispatchConstantAttribute', '/Groove.TextEngine', '/GoogleUpdate.OnDemandCOMClassMachine.1.0', '/CAPICOM.Signer', '/Groove.MonthPopup', '/Windows.Contact', '/DMM.MarginalModel', '/Ehmsas.MediaStatusSession.1', '/.vcproj', '/PBCFile', '/.suo', '/Groove.TicTacToeEngine', '/wmafile', '/.tr1', '/ADSK.ADAPPMGR', '/FormHost.FormHost', '/Microsoft.XMLDSO', '/MSComctlLib.Slider', '/VLC.bik', '/English3x4.English3x4InputModule', '/qedit.DxtCompositor.1', '/ITIR.LocalWordWheel.4', '/LibreOffice.DrawDocument.1', '/Skype4COM.Group.1', '/System.Runtime.CompilerServices.CallConvThiscall', '/TpcCom.UserDictionary', '/PTRegTerminal.Class', '/SearchFolder', '/DXImageTransform.Microsoft.Wheel.1', '/IMEAPI.CImeKeyMapViewJK', '/KLCP.WMP.vob', '/AcroPDF.PDF', '/Access.Shortcut.Table.1', '/PowerPoint.TemplateMacroEnabled', '/tdesktop.tg', '/Access.MDEFile.12', '/Microsoft.DirectMusicSegmentState', '/.mpp', '/SAPI.SpMMAudioOut.1', '/objref', '/EapTlsCfg.EapTlsCfg.1', '/WSCommCntr4.RssFeed', '/Coloader.VsBothLoader', '/VLC.wmv', '/WPD.WindowsPortableDeviceTask', '/System.Runtime.Remoting.Metadata.W3cXsd2001.SoapEntity', '/MSOlapAdmin2.MSOLAPDimensions', '/System.Security.Cryptography.SHA256Managed', '/Msxml2.XSLTemplate.6.0', '/IMAPI2.MsftDiscFormat2Data.1', '/VisualStudio.ContentInstaller.vsi', '/ODCDATABASEFILE', '/Outlook.Envelope.12', '/GoogleUpdate.CredentialDialogMachine', '/PrmAgentCtl.PrmAgents', '/System.Runtime.Remoting.Metadata.W3cXsd2001.SoapDate', '/TMX2PTD.TMX2PTDConverter.9', '/Microsoft.Update.AutoUpdate', '/Groove.StoreFactory', '/JavaScript1.1', '/System.Runtime.Remoting.Contexts.SynchronizationAttribute', '/P7RFile', '/QueryWinSAT', '/search', '/Skype4COM.GroupCollection.1', '/VSTA.config.8.0', '/MSRDC.SimilarityTraitsTable.1', '/Groove.WebBrowserEngine2', '/LibreOffice.WriterTemplate.1', '/COMSNAP.ComponentServicesExtensionSnapin', '/MsoRun.AnimSetDHTMLBehavior', '/.pot', '/.xesc', '/DXImageTransform.Microsoft.Iris.1', '/Microsoft.DirectMusicChordTrack', '/.aiff', '/RequestMakeCall.RequestMakeCall.1', '/DXImageTransform.Microsoft.Light.1', '/System.EnterpriseServices.Internal.SoapUtility', '/Groove.ManualResetEvent', '/X509Enrollment.CX509EnrollmentHelper', '/VLC.mpeg1', '/Stack.System.SearchScope', '/Microsoft.OMSAddin', '/Stack.System.WordWheel', '/.opc', '/System.Reflection.TargetException', '/.json', '/Promt5.RSS', '/SKBMonitor.KeyStrokeMonitor.1', '/WMP11.AssocMIME.WAX', '/.r11', '/WSCommCntr4.CommCntrManager.1', '/EHomeDropTarget.EHomeVideosHandler', '/.tsp', '/.z', '/DXImageTransform.Microsoft.Engrave', '/Windows.XPSActiveDocument', '/Microsoft.DirectMusicAudioPath.1', '/TAPI.TAPI.1', '/Psisdecd.CIsdb', '/BDATuner.MPEG2ComponentType.1', '/CorRegistration.CorIESecurityManager.1', '/AutoProxyTypes', '/.phn', '/.accda', '/Outlook.URL.webcal', '/Groove.InfoPathFormsToolErrAndWarnDlgDelegate', '/AcroExch.Plugin', '/.bz2', '/InkEd.InkEdit', '/.hta', '/MediaCenter.DVR', '/BDATuner.DVBSLocator.1', '/TestServer.Utility.1', '/CID', '/Psisdecd.AnalogCable.1', '/OSE.DiscussionServers.2', '/SpeechUX.ConfigUI.1', '/MSComctlLib.ImageListCtrl.2', '/Ietag.EvtSink.1', '/VLC.wsz', '/Outlook.OlkContactPhoto.1', '/Access.Shortcut.Query.1', '/eHomeSchedulerService.MCESetTopBox.1', '/NODEMGR.MMCVersionInfo', '/MSDASQL', '/Groove.ActionItemWizard', '/WMVFile', '/MSVidCtl.MSVidGenericSink', '/.x', '/VBS Author', '/Microsoft.MediaCenter.GlidHost.GLIDLoaderWrapper.1', '/Microsoft.MediaCenter.Tags.TagManager', '/PrmEDBase.PrmEDBases.2', '/X509Enrollment.CX509AttributeArchiveKey.1', '/Groove.NavigateTogetherHelper', '/Microsoft.MediaCenter.iTv.CiTvStreamInfo', '/IMAPI2.MsftRawCDImageCreator', '/Groove.GrooveFormsForm', '/.ADT', '/MSVidCtl.MSVidClosedCaptioning.1', '/eHome.McProxy.1', '/MSIDXSErrorLookup', '/Microsoft.Website', '/VSTA_IP.resx.8.0', '/Groove.ConfirmInstallDialogGlue', '/IRMain.Translator.4', '/.dotx', '/System.Security.VerificationException', '/.rmi', '/MsoRun.IEEventListenerProxy', '/PromtBrowserProxy.PromtBrowserClass.1', '/MSDAENUM', '/WlanPref.WlanPrefLUA.1', '/RequestMakeCall.RequestMakeCall', '/.ac3', '/X509Enrollment.CCspInformations', '/LibreOffice.DatabaseDocument.1', '/CorRegistration.CorIESecurityManager', '/.wpc', '/TeamViewer.Application', '/Microsoft.DiskQuota.1', '/Groove.DiscussionToolDataDelegate', '/System.Security.Cryptography.RSAPKCS1KeyExchangeDeformatter', '/.c', '/.H1C', '/DAO.Field.120', '/Microsoft.DirectMusicComposer', '/LbrkTxt.PromtLbrkTxtFileConverter.3', '/.fdf', '/.asa', '/Groove.LoginCertificatesCode', '/.DVR', '/Groove.DialogHelper', '/System.EnterpriseServices.Internal.AppDomainHelper', '/Groove.LocalGWSTransport', '/Search.DirMonitorNotifier.1', '/Access.Shortcut.Diagram.1', '/EnumBthMtpConnectors.EnumBthMtpConnectors', '/ISInstallDriver.StringTable.1', '/opensearchfilefolderresult', '/vxdfile', '/Groove.IdentitySelectorCode', '/MachineDebugManagerAD1.7', '/10207_auto_file', '/Outlook.OlkBusinessCardControl', '/LR.LexRefServiceContainer.1.0', '/VsaVbRT', '/DefaultLocationApi', '/PPSLAX.SlideLibrary.1', '/CLRMetaData.CLRRuntimeHost', '/http', '/System.Collections.CaseInsensitiveComparer', '/ImgUtil.CoMapMIMEToCLSID', '/Autodict.AutoDict', '/Prmtlr.PromtLR.3', '/System.STAThreadAttribute', '/Groove.SoapFault', '/MsoRun.TimeExecutiveBehavior.1', '/accesshtmlfile', '/Access.BlankProjectTemplate', '/IMEPad.IMJPCLST', '/OISCTRL.OISClientLauncher', '/MiDocViewer.MiDocSearch.1', '/ADsDSOObject', '/Microsoft.DirectMusicStyleTrack.1', '/Word.Template.8', '/CAPICOM.SignedCode', '/FirefoxURL-308046B0AF4A39CB', '/IMAPI.MSDiscMasterObj.1', '/.scr', '/TpcCom.InkSettings.1', '/EhStorShell.IconOverlayHandler', '/MiKTeX.PackageManager.2.9', '/System.Runtime.Remoting.Metadata.W3cXsd2001.SoapName', '/UPnP.DeviceHostICSSupport.1', '/.png', '/PrmtRange.Range.R5', '/.dotm', '/ehRecvr.Recorder', '/X509Enrollment.CX509Extensions.1', '/DXImageTransform.Microsoft.CrBlur.1', '/igfxsrvc.OpenGL', '/Stack.System.Music.DisplayArtist', '/System.ArgumentNullException', '/AcSmComponents.AcSmCalloutBlocks.20', '/WbemScripting.SWbemRefresher.1', '/anifile', '/ITIR.EngStemmer', '/System.EnterpriseServices.RegistrationHelperTx', '/.WMD', '/wmffile', '/WECAPI5.FpMetaInfo.3', '/EntryGrid.PromtEntryDlg.2', '/WMP11.AssocFile.WAV', '/VBScript.Encode', '/LibreOffice.Cmx', '/MSVidCtl.MSVidVMR9.1', '/.latex', '/System.Diagnostics.Debugger', '/SpeechUX.SpeechUXHost.1', '/Agent.Server', '/FDE.1', '/IAS.PolicyEnforcer', '/Groove.PropertyList', '/OziExplorer.WaypointsFile', '/Groove.OSDSigner', '/Word.RTF.8', '/PDFPrevHndlr.PDFPreviewHandler.1', '/Groove.TransportPackage', '/JobObjLimitInfoProv.JobObjLimitInfoProv', '/SQLOLEDB ErrorLookup.1', '/GIMP-2.8-pat', '/System.Runtime.InteropServices.InvalidOleVariantTypeException', '/StlVer.PrmtVerSession', '/SketchObj.SketchInk.1', '/.gform', '/JSFile.HostEncode', '/.rpl', '/LibreOffice.PCD', '/Groove.ComponentInstallSubscriber', '/.gsm', '/MSExtUser', '/._sln71', '/AWFile', '/tvchat1', '/AcSmComponents.AcSmAcDbViewReference.20', '/Mathematica.Control.1', '/statemodel.StateController', '/ELMFile', '/acrobat2018', '/X509Enrollment.CX509CertificateRequestPkcs10', '/WordDocument', '/.mydocs', '/HxDs.HxRegistryWalker', '/MSOlapAdmin2.MSOLAPAggregation', '/Behavior.Microsoft.DXTFilterBehavior', '/.msrcincident', '/DiskManagement.SnapIn', '/LibreOffice.Ppm', '/Groove.IdentityTemplate', '/MSRDC.RdcLibrary.1', '/IAS.RadiusProxy', '/SharePoint.OpenDocuments', '/Microsoft.DirectMusicParamControlTrack', '/Groove.IconListView', '/ImeKeyEventHandler1041', '/.dsw', '/Promt8.DTSetup', '/System.Globalization.JapaneseCalendar', '/LibreOffice.Pub', '/Microsoft.DirectMusicSignPostTrack', '/IDApro.Database32', '/KLCP.WMP.oga', '/Promt5.Web', '/BDATuner.DVBTuningSpace.1', '/Doc95ToIf.Doc95ToIfConverter.2', '/Access.MDEFile', '/Groove.SingleCellLayoutControlInfo', '/.asx', '/gopher', '/.wl', '/System.Runtime.Remoting.Metadata.SoapParameterAttribute', '/QC.DLQListener', '/.vbx', '/Excel.TemplateMacroEnabled', '/CAPICOM.ExtendedProperty', '/Microsoft.DirectMusicStyle', '/OneNote.Section', '/MSOlapAdmin2.MSOLAPCubeSecurities', '/VLC.669', '/Microsoft.MediaCenter.iTv.CiTvServiceInfo', '/Snapins.HTMLSnapin', '/3dsmnm', '/msinkaut.InkPicture', '/TerminalManager.Class', '/PDict.PrmtPDict', '/IAS.ADsDataStore.1', '/Outlook.OlkFrameHeader.1', '/System.IO.FileLoadException', '/IAS.Request.1', '/AceCnfViewer.Wizard', '/VisShe.QuickViewShellExt', '/32HardLink.PropertySheetPage', '/.vxd', '/WSCommCntr4.CommCntrContentCollection.1', '/capiprovider.ccapiprovider.1', '/WSCommCntr4.CommCntrChannelCollection.1', '/Mts.MtsGrp', '/Microsoft.DirectMusicSynth', '/ehGLID.PBDASiParser', '/VLC.adt', '/SAPI.SpPhraseBuilder', '/Word95Txt.PromtWord95TxtFileConverter.3', '/Microsoft.MediaCenter.GlidHost.ScanConfig', '/DXImageTransform.Microsoft.OAVRedirect.1', '/.infected', '/EhSched.EhEPGdatEventsMediator.1', '/.sty', '/Windows Media', '/Search.MediaCenterHandler', '/RDS.DataSpace.6.0', '/RefEdit.Ctrl', '/SSPWorkspace.1', '/MSDMine', '/.man', '/Groove.XYLayoutControlInfo', '/System.Runtime.Remoting.Contexts.Context', '/ehGLID.GLIDPlugInISDBSatellite', '/.cxx', '/ProcessDebugManager.7', '/X509Enrollment.CCryptAttributes', '/rtspt', '/IgfxExt.CUIExternal', '/Outlook.MsgAttach', '/Microsoft.Update.Downloader', '/VLC.m3u', '/MSOlapAdmin2.MSOLAPPartitions', '/.res', '/Udtool.UserDicManager.1', '/.bmp', '/Microsoft.PhotoAcqDropTarget.1', '/Microsoft.DirectMusicMotifTrack', '/Groove.SketchItem', '/WpdSerializer.WpdSerializer', '/IMEPad.HWR.TCIME', '/IRService.MediaOutputDevice', '/Microsoft.Jet.OLEDB.4.0', '/ExplorerCLSIDFlags', '/UmOutlookAddin.AuthDlg.1', '/IMEAPI.CImePropertyJK', '/MSASR.TextNormMultiResult', '/Access.ACCDTFile.12', '/MapSource.Document', '/.tli', '/EPTBL.ToolBarEx.1', '/MiInkSeg.MiRioEventSender.1', '/VLC.oma', '/opendocument.WriterTemplate.1', '/eHome.MCAsyncVcdPlayer', '/Groove.WebVCard', '/Doc2If.Doc2IfConverter', '/fRecordingTerminal.FileRecordingTerminal.1', '/AcSmComponents.AcSmSubset.20', '/.imc', '/Office2007If.ExcelConverter', '/Access.BlankProjectTemplate.12', '/ordecom.PDF2Word', '/WSCommCntr4.ERenewalDownload', '/SQLOLEDB ErrorLookup', '/.osz', '/.qds', '/.theme', '/Search.OneIndexHandler.1', '/WMDMCESP.WMDMCESP.1', '/ehGLID.GLIDPlugInPAL', '/.nb', '/PRMT8.PromtDictServices.2', '/WbemScripting.SWbemNamedValueSet', '/Codejock.ListView.13.4.2', '/RdpCoreKMTS.WTSProtocolManager.1', '/BvrdeSolution', '/IFProvider.PrmtIFDocument.3', '/sdchange.sdchangeobj', '/Search.EmbeddedGatherNotifyInline.1', '/JavaPlugin.111112', '/MSVidCtl.MSVidStreamBufferSink', '/MediaCenter.WTVFile', '/Publisher.Application.12', '/COMAdmin.COMAdminCatalog.1', '/Skype4COM.Command', '/IAS.PostEapRestrictions.1', '/ITS FILE', '/WECAPI5.FpStructureElement.3', '/SBEServer.DataBurner.1', '/WScript.Shell.1', '/.tak', '/Microsoft.FreeThreadedXMLDOM', '/Microsoft.VisualStudio.Publish.Library.Bootstrapper.ComBootstrapperDialog', '/sdwfile', '/COMSNAP.CPartitionSetPropPages', '/.tbc', '/MAPI/IPM.Post', '/.potx', '/Excelxmlss', '/MsTscAx.MsTscAx.8', '/Groove.GrooveFormsMetaDataObject', '/IAS.ProxyPolicyEnforcer.1', '/Windows.XPSReachViewer', '/PowerPoint.Show.4', '/WMP11.AssocMIME.WAV', '/DirectDraw', '/System.IndexOutOfRangeException', '/DMM.DMMCorrCount.1', '/ODBC.FileDSN', '/.tsv', '/Groove.OSDParser', '/.jtp', '/.nls', '/.xsf', '/IAS.EAPIdentity.1', '/QC.Recorder', '/IMCommonCtrl.PromtPluginObject', '/Search.DirMonitorNotifier', '/OOPlugIn.promtooplugin.2', '/MSVidCtl.MSVidEncoder.1', '/.maxc', '/Scriptlet.Behavior', '/MachineDebugManagerRemoteJITClient.7', '/System.DivideByZeroException', '/CAPICOM.SignedData', '/ptdsvr.PTDProjects.3', '/.otm', '/yEd 6', '/Search.ShellFolderr.1', '/PdfTxt.PromtPdfTxtFileConverter.3', '/TabIps.TextContributor', '/.php', '/MSDASC.PDPO', '/WMP11.AssocMIME.M4A', '/Microsoft.Jet.OLEDB.4.0Errors', '/Access.ACCDCFile', '/MicrosoftPurblePairsSaveFile', '/GoogleUpdate.CoCreateAsync', '/igfx.EDID.1', '/Shell.Application.1', '/RAServer.RASrv', '/MsTscAx.MsTscAx.7', '/Excel.WebQuery', '/WMP11.AssocMIME.3GP', '/.chr', '/WlanConn.WlanConn', '/Msxml2.FreeThreadedDOMDocument', '/PDXFileType', '/VLC.ogg', '/MSHelp.hxe.2.5', '/Groove.ComboBox', '/.csv', '/.wma', '/X509Enrollment.CX509PolicyServerListManager.1', '/PowerPoint.ShowMacroEnabled.12', '/MsoRun.AnimTargetDHTMLBehavior', '/Microsoft.VisualStudio.Tools.Applications.Blueprints.BaseTypes.HostControlTypeGroup', '/Access.ACCDEFile', '/MOFL.Factoid', '/ColleagueImport.ColleagueImportAddIn', '/IMEAPI.CImeProductObjectJK.1', '/Microsoft.MediaCenter.iTv.CiTvStreamSelector', '/Excel.Chart', '/.xps', '/MMCListPadInfo.MMCListPadInfo', '/IAS.ExtensionHost.1', '/MSVidCtl.MSVidOutputDevices', '/Office2007If.PowerPointConverter', '/.jpeg', '/VLC.tts', '/System.Reflection.InvalidFilterCriteriaException', '/IPM.Note.Mobile.MMS', '/IAS.SdoService', '/.xdr', '/OSE.DiscussionServer.2', '/Search.MediaCenterHandler.1', '/ZoomLauncher', '/.r17', '/mshjdic.hanjadic', '/DXImageTransform.Microsoft.CrBlinds', '/PTRegTerminalClass.Class', '/SAPI.SpShortcut', '/JavaWebStart.isInstalled.1.8.0.0', '/Groove.AccountDialogTool', '/Agent.Character2.2', '/MsScp.SCPTRANS.1', '/.tga', '/FRMain.Translator', '/CDO.NNTPPostConnector', '/Microsoft.DirectMusicSegment.1', '/ADODB.Record', '/32HardLink.IconOverlaySymbolicLink.1', '/WMSDKMSBSourcePlugin.MSBDSource', '/EPFFile', '/AcSmComponents.AcSmSheetSetMgr.20', '/PowerPoint.Addin.12', '/LibreOffice.Tif', '/CLRMetaData.CorRuntimeHost', '/VLC.dv', '/PLA.BootTraceSession', '/Groove.ProxyConfigServices', '/.disco', '/SAPI.SpResourceManager.1', '/eHome.RecoveryTaskWrapper', '/Msxml2.MXNamespaceManager.6.0', '/X509Enrollment.CObjectIds', '/MSVidCtl.MSVidITVCapture.1', '/Skype4COM.Settings.1', '/ADOX.User.6.0', '/CLRMetaData.CorMetaDataDispenser', '/MsoRun.AnimateDHTMLBehavior.1', '/Stack.System.ItemTypeText', '/.b4s', '/.thp', '/System.Runtime.Serialization.OnSerializedAttribute', '/Windows.CompositeFont', '/cngprovider.Ccngprovider', '/MsoRun.IEHTMLElementCollection.1', '/svgfile', '/MSSearch.IpsPi.1', '/.nrg', '/.rpc', '/SDSHELLEXTENSION.SdShellExtension.1', '/NbDocViewer.NbAccessibleObject', '/tvfiletransfer1', '/aspfile', '/.xsl', '/CplExt.VIASysFxPropPage.1', '/Access.ShortCut.Table', '/Microsoft.PhotoAcqDeviceSelectionDlg', '/.jar', '/.PurblePairsSave-ms', '/.\"3gp', '/.xpm', '/Groove.DocumentShareEngine2', '/System.Runtime.InteropServices.TypeLibConverter', '/NbBaseDoc.NbBaseDocEdit', '/X509Enrollment.CBinaryConverter', '/IMCommonCtrlLib.TranslateDirecti.2', '/System.Random', '/Msxml2.ServerXMLHTTP.5.0', '/VLC.ape', '/VSTA.disco.8.0', '/AllFilesystemObjects', '/MSOlapAdmin2.MSOLAPAuxiliaries.1', '/VLC.avi', '/ADOR.Recordset.6.0', '/KLCP.WMP.mk3d', '/LibreOffice.Xlsb', '/PDictEdit.FR.4', '/.wrt', '/VLC.xa', '/VSTA.xml.8.0', '/Codejock.GroupBox.13.4.2', '/DAO.Group.36', '/Groove.IPXMLEditorWrapper', '/CDO.Configuration', '/WindowsMail.MimeEdit', '/.ofs', '/DefragEngine.DefragEngine.1', '/GoogleDrive.gform', '/.ram', '/Groove.DataListDisplay', '/X509Enrollment.CX509CertificateRequestCertificate.1', '/GQSXFile', '/STClient.STClient', '/TpcCom.ClassicW.1', '/.erf', '/PLA.LegacyDataCollectorSetCollection.1', '/MSVidCtl.MSVidStreamBufferV2Source.1', '/WindowsSideShow.SideShowSession', '/.dib', '/LibreOffice.Xbm', '/WlanAdhoc.WlanAdhocLUA', '/dictedit.PromtDictionaryEditor.4', '/JavaPlugin.111512', '/.wtf', '/MSILink', '/Groove.ToolTemplateRecordSet', '/SppComApi.ModemActivation', '/office.Extension', '/Applications', '/3dsmix', '/.hxd', '/SAPI.SpFileStream', '/Msi.Patch', '/MSOlapAdmin2.MSOLAPLockManager', '/Microsoft.XPS.Shell.Metadata', '/Groove.IdentitiesGlueCode', '/System.Security.Cryptography.CryptographicUnexpectedOperationException', '/LISTNET.Listnet', '/X509Enrollment.CCertPropertyArchived.1', '/DXImageTransform.Microsoft.MotionBlur.1', '/VLC.mts', '/System.Text.UnicodeEncoding', '/System.Runtime.Remoting.Metadata.W3cXsd2001.SoapTime', '/Control.TaskSymbol', '/VBS', '/scriptlet', '/Shell.FolderView.1', '/.jtx', '/.oxt', '/MSP.MSP', '/Groove.SplitterLayoutControlInfo', '/IMESingleKanjiDict', '/MsTscAx.MsTscAx.5', '/IMECheckDefaultInputProfile.Japan', '/MSScriptControl.ScriptControl.1', '/MSHelp.hxq.2.5', '/PowerPoint.Wizard.8', '/LibreOffice.Xlt', '/.wps', '/MSOlapAdmin2.MSOLAPDetails', '/.uu', '/Stack.System.Music.AlbumTitle', '/Search.GatherNotifyInline', '/ADOX.Catalog', '/odccube.1', '/.r10', '/X509Enrollment.CObjectId', '/wrtfile', '/IAS.URHandler', '/Skype4COM.ChatCollection.1', '/HardLink.PropertySheetPage', '/Groove.ManagedObjectServices', '/Groove.BFSUtilPrivate', '/Groove.FilesToolAlerts', '/Forms.MultiPage.1', '/WIA.DeviceManager.1', '/EhStorShell.IconOverlayHandler.1', '/mpfile', '/VBScript', '/X509Enrollment.CX509ExtensionBasicConstraints.1', '/IAS.ExternalAuthNames', '/.H1V', '/.ogm', '/WindowsSideShow.SideShowClassExtension.1', '/.aif', '/.oc_', '/Msxml2.SAXAttributes.3.0', '/System.MissingMemberException', '/System.Runtime.Serialization.OnDeserializedAttribute', '/Wired.About', '/IAS.ChangePassword', '/MDACVer.Version.6.0', '/WMP11.AssocMIME.AIFF', '/.dbf', '/Microsoft.DirectMusicBandTrack', '/LibreOffice.Jpeg', '/.sob', '/Groove.MessagerMgr', '/OSE.Discussion.2', '/System.Runtime.InteropServices.InvalidComObjectException', '/DXImageTransform.Microsoft.Fade', '/MSComctlLib.SBarCtrl.2', '/COMSNAP.CPartitionNotify', '/Search.LoadLangRes.1', '/WMP11.AssocFile.MP4', '/.uue', '/Windows.Gadget.1', '/.o', '/BDATuner.MPEG2Component.1', '/Access.WizardDataFile', '/System.Runtime.Remoting.Metadata.W3cXsd2001.SoapLanguage', '/Groove.Win32FileSystemServices', '/UmOutlookAddin.ButtonBar', '/VLC.m4v', '/ehGLID.DvbSiParser', '/.hxq', '/Microsoft.Photos.ViewerDropTarget', '/MSTTSCommon.LTS', '/Msxml2.XMLParser', '/MSOlapAdmin2.MSOLAPClient', '/X509Enrollment.CX509Attribute', '/HxDS.HxRegisterProtocol', '/Access.ACCDCFile.12', '/Outlook.Template', '/WMSDKHTTPSourcePlugin.HTTPSource', '/BDATuner.DigitalCableTuningSpace', '/.ibc', '/.jbf', '/StaticMetafile', '/ehGLID.GLIDPlugInDVBSatellite', '/DMM.CEALG', '/System.Runtime.Remoting.Metadata.W3cXsd2001.SoapNormalizedString', '/.gpx', '/.qop', '/.trp', '/ClientCaps.ClientCaps.1', '/Msxml2.MXNamespaceManager.4.0', '/ehGLID.GLIDPlugInUDCR', '/SppComApi.OfflineActivation', '/Forms.ListBox.1', '/DXImageTransform.Microsoft.Iris', '/WECAPI5.FpStructureModification', '/.lf2', '/WPD.NetworkConfigCompletionPage', '/SRMain.Translator.4', '/.compositefont', '/3dsmat', '/Codejock.HexEdit.13.4.2', '/.xlsb', '/Groove.PermissionsGlueCode', '/UmOutlookAddin.OptionsPropPage.1', '/Outlook.URL.mailto', '/AcSmComponents.AcSmCustomPropertyBag.20', '/.sdg', '/OSTFile', '/Microsoft.JScript.COMPropertyInfo', '/About.PromtAbout', '/X509Enrollment.CX509ExtensionSmimeCapabilities.1', '/bootstrap.vsto.1', '/Microsoft.DirectMusicScriptAutoImpAudioPath.1', '/AcSmComponents.AcSmCustomPropertyValue.20', '/CertificateAuthority.EncodeAltName', '/.w64', '/Access.Shortcut.DataAccessPage.1', '/WMP11.AssocFile.AIFF', '/KLCP.WMP.tps', '/.aspx', '/System.Runtime.Serialization.Formatters.SoapMessage', '/LibreOffice.602', '/.zoommtg', '/Search.CustomWordbreaker', '/.s3m', '/.ogx', '/MSOlapAdmin2.MSOLAPPartitions.1', '/DAO.DBEngine.36', '/Groove.NotifierNotificationsActionFactory', '/Groove.FileDownloadProgressDialogFactory', '/IAS.ProxyPolicyEnforcer', '/LibreOffice.Rtf', '/.ino', '/MTxAS.AppServer.1', '/Groove.LocalGWSProvider', '/Presenter.MCVideoPresenter.1', '/SAPI.SpLexicon.1', '/Aec32BitAppServer.AecScriptControl.1', '/System.IO.StringWriter', '/icyx', '/.obj', '/.website', '/OfficeObj.OfficeObj12', '/JScript Author', '/Equation.EDEE2', '/j2wfile', '/DExplore.AppObj', '/Skype4COM.Participant.1', '/TpcCom.UserLexiconManager', '/Microsoft.DirectMusicComposer.1', '/SensorsApi.SensorCollection.1', '/Word.Application', '/ImgUtil.CoMapMIMEToCLSID.1', '/.xlsx', '/Msxml2.XMLSchemaCache', '/.gsite', '/.web', '/MSOLAP', '/LibreOffice.Docx', '/Search.ShellFolder', '/Search.NlCiIndex', '/.mqv', '/AccClientDocMgr.AccClientDocMgr.1', '/FunctionDiscovery.PropertyStore.1', '/.cdi', '/WMP.PlayMedia', '/X509Enrollment.CX509CertificateTemplateADWritable.1', '/RDS.DataControl.6.0', '/Forms.HTML:Image.1', '/.mtv', '/OTB_Loader.ETB_Loader', '/.gdl', '/Groove.AccountConfigurationCodeSecurityFactory', '/.Rpres', '/IMRequestRAApp.IMRequestRA', '/DXImageTransform.Microsoft.Shadow.1', '/VisShe.ImageExtractorShellExt.1', '/IMAPI2.MsftDiscFormat2RawCD.1', '/PromtSmartFoldersShellExt.PromtSmartFoldersShellExt', '/JavaPlugin.112412', '/WScript.Network', '/KLCP.WMP.mpl', '/Spp.Spp', '/PrmAct.ExInfo', '/PLA.LegacyDataCollectorSet.1', '/WMP.AudioCD', '/MediaPlayer.MediaPlayer.1', '/Groove.PropertyListEngine2', '/Groove.ChatAdapter', '/.i64', '/Groove.GrooveFormsDatabase2', '/.rus', '/progId_VirtualBox.Shell.vhd', '/msinkaut.InkRecognizerContext.1', '/WSCommCntr4.ERenewalCategory', '/Promt.Application.9', '/System.Runtime.InteropServices.SafeArrayRankMismatchException', '/Groove.SubForm', '/Excel.Sheet', '/Skype4COM.ChatMessageCollection', '/PortableDeviceValues.PortableDeviceValues', '/RDBFileProperties.1', '/MsoRun.IEHTMLElementCollection', '/System.EnterpriseServices.Internal.SoapServerTlb', '/.apc', '/Groove.OrganizationInfo', '/ActiveTclScript', '/Equation.ACEE4', '/igfx.CUIPower.1', '/Groove.GroovePicturesToolObject', '/DXImageTransform.Microsoft.ZigZag.1', '/DllHostInitializer', '/Microsoft.Update.UpdateColl', '/ProcessDebugManager.ThreadMgr.1', '/IEPH.RSSHandler', '/.wri', '/.r04', '/StlVer.PrmtVerSession.3', '/DNWithBinary', '/ScriptletHandler.Automation', '/InfoPath.Editor', '/PortableDeviceServiceFTM.PortableDeviceServiceFTM.1', '/Coloader.VsFreeLoader', '/GoogleUpdate.CoreMachineClass', '/X509Enrollment.CCertPropertyEnrollmentPolicyServer.1', '/Behavior.Microsoft.DXTFilterBehavior.1', '/.tvlink', '/IImeIPointSrv1041.1', '/.fods', '/VLC.3ga', '/Microsoft.DirectMusicAuditionTrack', '/.r15', '/NbImage.NbCompositeLayer', '/DAO.User.35', '/WIA.Vector.1', '/Groove.TableDataListDataSource', '/Groove.ContactListIconProvider', '/System.Threading.Overlapped', '/System.Security.Cryptography.RSAPKCS1SignatureFormatter', '/AdobeAcrobat.OpenDocuments', '/LargeInteger', '/ComPlusDebug.CorpubPublish.1', '/RDS.DataControl', '/stssync', '/LatLongReport.1', '/fRecordingTerminal.FileRecordingTerminal', '/ACCWIZ.FieldListCtrl.1.8', '/Search.NlCiIndex.1', '/Outlook.OlkCategoryStrip.1', '/Object.Microsoft.DXTFilter', '/KLCP.WMP.ifo', '/MsoRun.IterateDHTMLBehavior', '/.xtp', '/Skype4COM.SmsTargetCollection.1', '/WIA.CommonDialog.1', '/ADODB.Command', '/CAPICOM.HashedData', '/Equations', '/.ani', '/Groove.BroadcastServices', '/Groove.ContactSelectorPaneWrapper', '/MsRDP.MsRDP.4.a', '/Excelhtmlfile', '/.cab', '/System.InvalidCastException', '/.ps', '/X509Enrollment.CX509ExtensionMSApplicationPolicies.1', '/Outlook.OlkFrameHeader', '/LibreOffice.CalcTemplate.1', '/WMP11.AssocFile.MP3', '/tvjoinv8', '/.mgc', '/GoogleDrive.gsite', '/System.Security.Policy.AllMembershipCondition', '/.tc', '/VLC.flv', '/Aec32BitAppServer.AecSdfObject.1', '/KLCP.WMP.mpls', '/MSDAER', '/IMAPI.MSEnumDiscRecordersObj', '/VLC.mpe', '/igfxcfg.DataObject', '/IAS.MachineNTGroups', '/Groove.WebCalendar', '/Groove.Win32UIPackage', '/Word.Picture.6', '/Microsoft.DirectMusicSynthSink.1', '/KLCP.WMP.caf', '/DAO.Relation.36', '/.mdn', '/.3gp2', '/DictEdit.Application.9', '/System.Security.Cryptography.HMACSHA256', '/ADOMD.Catalog', '/CertificateAuthority.ServerExit', '/DMM.CEALG.1', '/.p12', '/Groove.Menu', '/OTB.ProjectTab', '/Installer', '/PenInputPanel.PenInputPanel', '/System.IO.PathTooLongException', '/System.Security.Policy.PolicyException', '/FaxComEx.FaxServer', '/.htw', '/BDATuner.AuxiliaryInTuningSpace', '/TemplatePrinter.TemplatePrinter.1', '/ADODB.Recordset', '/TpcCom.GenericRecognizer.1', '/PPSLAX.SlideLibrary', '/webcal', '/Groove.ToolUIHelperObject', '/InternetShortcut', '/.oma', '/AcSignCore.AdskSecurity.1', '/.jxr', '/Microsoft.DirectMusicPerformance', '/MMC.SnapInFailureReporter', '/BDATuner.Component', '/Internet.HHCtrl.1', '/CfgComp.CfgComp', '/X509Enrollment.CX509EnrollmentHelper.1', '/System.Globalization.KoreanCalendar', '/Word97Rtf.PromtWord97RtfFileConverter.3', '/igfx.Rotation.1', '/DXImageTransform.Microsoft.MaskFilter.1', '/MSComctlLib.ProgCtrl', '/FaxTiff.FaxTiff.1', '/OneNote.IEAddin', '/dbfile', '/MSHelp.hxr.2.5', '/Jivay_Geometriy', '/EventSystem.EventSubscription.1', '/MicrosoftWorks.WkImgSrv.WksImagingServer', '/Promt5.Web.2', '/CHHIme.CHHInputModule', '/DXImageTransform.Microsoft.Strips', '/WinRAR.REV', '/Groove.NetworkDiagnostics', '/CDisplayRarArchive', '/Groove.SoundNotificationAction', '/PRMTLIB.PromtTemplateComboCtrl.4', '/Tabs_for_Publisher.clsRulerSubclass', '/PropertyKeyCollection.PropertyKeyCollection', '/Word.TemplateMacroEnabled.12', '/Microsoft.VisualStudio.Publish.Library.Bootstrapper.ProductStateList', '/BDATuner.DVBTLocator.1', '/CertificateAuthority.Request.1', '/.uop', '/progId_VirtualBox.Shell.vbox-extpack', '/Groove.PeerAwarenessRAMP', '/Spek.Audio', '/WinInetBroker.WinInetBroker.1', '/Msxml2.DOMDocument', '/UrlToHtml.PromtUrlReader.2', '/opendocument.WriterDocument', '/.sxd', '/CertificateAuthority.ServerPolicy', '/.dif', '/igfxdev.CUIDriver', '/Promt5.TextAnalyzerEngine.9', '/IAS.AuditChannel', '/Groove.UpdateNotifierLoop', '/ACCWIZ.ImexGridCtrl.1.8', '/Groove.RoleHelperObject', '/Microsoft.Update.WebProxy', '/NbTextLayout.NbTextLayoutPage', '/.dos', '/VLC.mpga', '/.mp4', '/X509Enrollment.CCertPropertySHA1Hash', '/YandexTIFF.YSHUMIPZOK4RU5HIRBRXQTHAXU', '/.r26', '/ms-help', '/DMM.MarginalModel.1', '/NCProv.NCProvider', '/GIMP-2.8-xcf', '/MediaFoundation', '/Msxml2.MXHTMLWriter.5.0', '/FDMFile', '/AcInetEngine.AcInetTransfer.20', '/Groove.FileDescriptor', '/WMP11.AssocMIME.WMA', '/System.SerializableAttribute', '/MSHelp.hxk.2.5', '/Search.Gatherer.1', '/opendocument.DrawDocument.1', '/NbDocCstg.NbDocCstg.1', '/CAPICOM.Certificates', '/.manifest', '/Search.FilesystemBackupProvider', '/Midoc.Stationery', '/KLCP.WMP.mka', '/VLC.CDAudio', '/WMP11.AssocMIME.TTS', '/.cpy', '/Access.OLE2Link', '/03861_auto_file', '/PIFUAC.TheElevated1', '/CAPICOM.SignedCode.1', '/IMAPI2.MsftWriteEngine2.1', '/wlsrvc.FileDataCache', '/MSOlapAdmin2.MSOLAPCubeSecurity', '/P10File', '/FRMain.Translator.4', '/BDATuner.ChannelIDTuningSpace', '/YandexFB2.YSHUMIPZOK4RU5HIRBRXQTHAXU', '/X509Enrollment.CCertificatePolicy', '/PowerPoint.Addin.8', '/Microsoft.PhotoAcquire.1', '/UmOutlookAddin.AudioNotes.1', '/.H1K', '/.mde', '/BDATuner.DigitalCableTuneRequest.1', '/igfxsrvc.DispayConfig.1', '/GoogleUpdate.OnDemandCOMClassMachineFallback', '/ImeCommonAPIClassFactory1041', '/LR.LexRefStGeObject.1.0.1', '/X509Enrollment.CCertPropertyRequestOriginator', '/TDCCtl.TDCCtl', '/System.ExecutionEngineException', '/Microsoft.MediaCenter.iTv.CiTvVideoSurface', '/Groove.EventResult', '/System.ThreadStaticAttribute', '/AudioVBScript.1', '/.ipfix', '/.sch', '/.xlaunch', '/Word97Txt.PromtWord97TxtFileConverter.3', '/SppComApi.LicensingStatusData.1', '/AcSmComponents.AcSmSheetView.20', '/Groove.WebForms2', '/Groove.DVOStorageSecurity', '/rtspu', '/.der', '/.hxe', '/DMM.Classifier', '/MAPI/IPM.Task', '/AutoCAD.AcadLayerStateManager.20', '/WECAPI5.FpMetaInfo', '/SQLfile', '/pop', '/ASFFile', '/Movavi Video Converter 18 Premium.Convert.Video', '/DXImageTransform.Microsoft.Inset', '/Promt5.PromtFeed', '/.vwr', '/rtmp', '/COMSNAP.COMNSView', '/BMPFilter.CoBMPFilter', '/.r23', '/NetworkExplorerPlugins', '/VSTA.xslt.8.0', '/SAPI.SpObjectToken.1', '/PhunScene', '/Matlab.Desktop.Application', '/FunctionDiscovery.Discovery.1', '/Microsoft.DirectSoundChorusDMO', '/KSGenerator.KeystrokeGenerator', '/PLA.SystemDataCollectorSetCollection', '/WSCommCntr4.CommCntrContent', '/Search.CollatorDSO.1', '/MSCAL.Calendar.7', '/.partial', '/RtfTxt.PromtRtfTxtFileConverter.3', '/Excel.Application', '/WebServices.WSLogging', '/CDO.NNTPEarlyConnector.1', '/MIDFile', '/SAPI.SpWaveFormatEx.1', '/MsoRun.OAVRedirectFallback', '/Snapins.FolderSnapin.1', '/SharePoint.SpreadsheetLauncher.1', '/Office.awsdc', '/ImeCommonAPIClassFactory1042.1', '/OneNote.IEAddin.12', '/IAS.RadiusProtocol', '/MsoRun.IEEventListenerProxy.1', '/PCBFile', '/.sublime-settings', '/System.IO.IOException', '/.txz', '/IAS.NTSamAuthentication', '/Coloader.VsDefaultLoader.8.0', '/Windows.Xbap', '/Groove.FormsToolPrintDialogDelegate', '/Forms.TextBox.1', '/PromtUsers.PromtUsersInfo.3', '/WPDSp.WPDServiceProvider.1', '/WECAPI5.FpStats.3', '/VLC.xspf', '/IAS.UserAccountValidation', '/IMCommonCtrlLib.MainPropertyPage.2', '/Yandex.Disk.Trash', '/WindowsMail.AddressBook.1', '/.crx', '/System.Security.Cryptography.MACTripleDES', '/MsoRun.AnimScaleDHTMLBehavior.1', '/ADOX.Table.6.0', '/.sldm', '/.xla', '/CTapiLuaLib.1', '/MSOSOAP.SoapTypeMapperFactory30', '/DataCtl.DataCtl.1', '/MSRDC.Similarity.1', '/ADOX.Table', '/WSCommCntr4.RssFeedCollection', '/WD95CONVLib.WordRtfPromtFileConverter.3', '/WbemScripting.SWbemDateTime.1', '/.hdp', '/AcSmComponents.AcSmSheetSelSets.20', '/h1ffile', '/Access.Shortcut.Module.1', '/KLCP.WMP.mxf', '/MSVidCtl.MSVidVMR9', '/.glink', '/ScriptletHandler.Behavior', '/DAO.PrivateDBEngine.120', '/VSTA_IP.xslt.8.0', '/Groove.GrooveFormsField', '/Unknown', '/.mad', '/CorRegistration.CorFltr', '/Microsoft.DirectMusicContainer', '/SppComApi.ElevationConfig.1', '/.vob', '/.mapimail', '/php_auto_file', '/.Rmd', '/OInfo.OInfoCtrl.1', '/tvsqcustomer1', '/WMP.WMDBFile', '/.wmdb', '/SEG2PTD.SEG2PTDConverter.9', '/Microsoft.DirectMusicSysExTrack', '/MSVidCtl.MSVidStreamBufferSource.1', '/Groove.RelationshipManager', '/OWS.ClientCommentThread.2', '/OWS.ClientCollaboration.2', '/.bkm', '/PDictEdit.ER.4', '/Microsoft.DirectMusicScriptAutoImpPerformance', '/MiEng.MiEngine.1', '/QC.MessageMover.1', '/SDRun.AutoPlayHandler', '/Aec32BitAppServer.AecSdfCoordinateSystemMetadata.1', '/Groove.WebFiles', '/Skype4COM.ApplicationStreamCollection.1', '/LibreOffice.Docm', '/.msi', '/ComInkAnalysislib.InkAnalyzer', '/DXImageTransform.Microsoft.BasicImage.1', '/Word.DocumentMacroEnabled', '/Microsoft.DiskQuota', '/PRMT6.PromtMorphUtility', '/IMAPI2FS.MsftFileSystemImage', '/.odh', '/LibreOffice.Pgm', '/DocWrap.DocWrap', '/Excel.CSV', '/Msxml2.XMLHTTP.4.0', '/SAPI.SpMMAudioEnum', '/System.Security.SuppressUnmanagedCodeSecurityAttribute', '/Microsoft.PowerShellModule.1', '/Groove.MiscPackage', '/Groove.VoiceMemoCode', '/MTSAdmin.Catalog.1', '/GIMP-2.8-gbr', '/WMP11.AssocFile.WAX', '/AcroExch.pdfxml.1', '/Coloader.VsDefaultLoader.1', '/WSCommCntr4.WebServiceManager', '/RAServer.RASMapi.1', '/System.NullReferenceException', '/WIA.ImageFile.1', '/System.Threading.ThreadInterruptedException', '/Groove.MultiCellLayout', '/GoogleUpdate.Update3WebMachineFallback', '/SPPUI.SPPUIObjectInteractive', '/ListPad.ListPad', '/Microsoft.MediaCenter.GlidHost.GLIDLoaderWrapper', '/msinkaut.InkTablets.1', '/WSCommCntr4.ELearningModule', '/OneIndex.ShellFolder.1', '/MsRDP.MsRDP', '/Search.FilterRegistration', '/MediaCenterSidebarGadget.Controller', '/Ehmsas.MediaStatusAggregator', '/BDATuner.ComponentType', '/LayoutRect.LayoutRect', '/CDO.NNTPPostConnector.1', '/VSTA.txt.8.0', '/Codejock.ScrollBar.13.4.2', '/BDATuner.DigitalCableLocator.1', '/KLCP.WMP.mlp', '/Groove.ListViewColumnInfo', '/ADODB.Parameter.6.0', '/IMAPI2FS.BootOptions', '/.mobi', '/System.TypeUnloadedException', '/WIA.DeviceManager', '/Word.Template', '/Microsoft.Photos.ViewerDropTarget.1', '/Microsoft.DirectSoundCompressorDMO', '/OISemffile', '/ADOMD.Cellset', '/.dl_', '/CplExt.Dts2PropPage', '/Stack.System.Author', '/MSFSStore', '/Groove.TextPainter', '/piffile', '/Shell.Application', '/InfoPath.DesignerWordImport', '/DBROWPRX.AsServer', '/.docm', '/.htx', '/HtmRtf.PromtHtmRtfFileConverter.3', '/VSTA.DTEProvider.1', '/.RData', '/MSHelp.hxf.2.5', '/PortableDeviceServiceFTM.PortableDeviceServiceFTM', '/VLC.m4a', '/PowerPoint.Application.12', '/STSServer.STSServerInstance.1', '/bidispl.bidirequest', '/MiInkSeg.MiRioEventSender', '/SDSnapin.SDSnapin.1', '/COMSNAP.ComponentServicesExtensionSnapin.1', '/OWS.ExcelUI', '/Download.Download.1', '/Skype4COM.PluginMenuItem.1', '/MsoRun.OAVIEClock.1', '/MSComctlLib.Toolbar', '/PrmtCtl.Directions', '/WSCommCntr4.ERenewalResponse.1', '/MsoRun.AnimRotationDHTMLBehavior', '/WIA.Rational.1', '/SAPI.SpObjectTokenCategory.1', '/wordxmlfile', '/Psisdecd.ATSCTerrestrial', '/WECAPI5.FpFile', '/Groove.DataRecoveryPolicy', '/MSVidCtl.MSVidStreamBufferSink.1', '/MS Remote.1', '/3dsms', '/OlePrn.DSPrintQueue.1', '/OneNote.Package', '/.sxg', '/SAPI.SpDataKey.1', '/SAPI.SpPhrase', '/Groove.Slider', '/System.Collections.Stack', '/ImeCommonAPIClassFactory2052', '/OSE.Discussions.2', '/Msxml2.SAXAttributes.4.0', '/DiskManagement.Connection', '/netcenter.NCLUA.1', '/script', '/MAPI/IPM.Activity', '/SAPI.SpPhrase.1', '/Msxml2.MXXMLWriter.3.0', '/MSHelp.hxt.2.5', '/PRMT8.PromtLDBConv', '/AcSmComponents.AcSmDatabase.20', '/DAO.Relation.120', '/EHomeDropTarget.EHomeMCLDropTarget', '/JobObjSecLimitInfoProv.JobObjSecLimitInfoProv.1', '/Word.Application.8', '/System.Runtime.Serialization.SerializationException', '/.ras', '/.ntf', '/.xlm', '/SAPIEngine.TTSEngine', '/h1wfile', '/WMP11.AssocFile.wma', '/AcSmComponents.AcSmViewCategories.20', '/MsTscAx.MsTscAx', '/Groove.ComponentPolicyDirector', '/InstalledUpdate', '/X509Enrollment.CX509PolicyServerUrl.1', '/DXImageTransform.Microsoft.CrEmboss.1', '/Python.NoConFile', '/Excel.XLL', '/Groove.WebServices', '/PrmEDBase.EDBase', '/jnlp', '/igfxsrvc.DisplayConfig', '/Msi.Package', '/TeamViewerMeetingAddIn.AddIn', '/KLCP.WMP.amv', '/.xhtml', '/X509Enrollment.CX509MachineEnrollmentFactory.1', '/.dxf', '/IMEAPI.CImeProductObjectJK', '/LibreOffice.Pcx', '/Skype4COM.Settings', '/VLC.tta', '/.mxp', '/sublime-settings_auto_file', '/qedit.DxtJpegPP', '/smtp', '/Groove.Win32WindowWrapperComponent', '/DMM.DMMCorrCountSource.1', '/System.Security.Cryptography.HMACSHA384', '/UmOutlookAddin.FormRegionContext.1', '/DXImageTransform.Microsoft.CrSlide.1', '/PromtEdSvr8.PromtEdSvr', '/WSCommCntr4.CommCntrController', '/X509Enrollment.CCertPropertyEnrollment', '/SAPI.SpMMAudioIn', '/System.Security.Cryptography.DSASignatureFormatter', '/Agent.Control.2', '/korime.korinputmodule.1', '/MsTscAx.MsTscAx.6', '/Microsoft.PhotoProgressDialog.1', '/.zoom', '/.mpg', '/Microsoft.DirectMusicTemplate', '/Word.Basic.8', '/Groove.DocumentShareToolGlue5', '/.r05', '/Skype4COM.SmsTarget', '/.otf', '/BDATuner.DVBTLocator', '/cdafile', '/PrintSys.CoPrintIsolationHost.1', '/32HardLink.HardLinkMenu.1', '/DXImageTransform.Microsoft.Wheel', '/System.Runtime.InteropServices.ComRegisterFunctionAttribute', '/Microsoft.ACE.ACERCLR.12.0', '/.wpd', '/sysfile', '/PKOFile', '/X509Enrollment.CPolicyQualifiers.1', '/WMPNSSCI.NSSManager.1', '/Microsoft.FreeThreadedXMLDOM.1.0', '/IMAPI2FS.MsftIsoImageManager', '/WbemScripting.SWbemLocator.1', '/PrmtSvr.Directions.9', '/Scriptlet.Factory', '/Groove.OSDFactoryList', '/Groove.ScriptServices', '/Office12.Authz', '/MSPowerPointSho', '/Drive', '/Shell.CDBurn', '/Groove.SpaceArchiveInjectorCode', '/Snapins.OCXSnapin.1', '/AceCnfViewer.sortie', '/WMP11.AssocMIME.M3U', '/IMAPI2.MsftRawCDImageCreator.1', '/System.EnterpriseServices.Internal.AssemblyLocator', '/System.Globalization.StringInfo', '/.rc', '/ITIR.GroupBuild', '/MSDFMAP.Handler', '/MSDASC', '/NICKFile', '/System.Runtime.InteropServices.ComUnregisterFunctionAttribute', '/ISInstallDriver.StringTable', '/FaxTiff.FaxTiff', '/Codejock.PushButton.13.4.2', '/GoogleUpdate.Update3COMClassService.1.0', '/igfx.CUIService.1', '/RSMain.Translator', '/AcSmComponents.AcSmFileReference.20', '/Groove.TaskScheduler', '/.lib', '/System.Threading.Mutex', '/DiskManagement.SnapInComponent', '/LibreOffice.Vst', '/NODEMGR.NodeInitObject', '/KLCP.WMP.ra', '/VSTA_IP.xdr.8.0', '/DataCtl.DataCtl', '/.odp', '/MSVidCtl.MSVidWebDVD', '/.pklg', '/.vb', '/HomePage.HomePage', '/DXImageTransform.Microsoft.Spiral.1', '/.pcx', '/Txt2If.CWIN1252ToIfConverter.3', '/.MOD', '/LibreOffice.Pptm', '/Skype4COM.Chat.1', '/3dsmoc', '/MSComctlLib.TreeCtrl.2', '/.odm', '/Skype4COM.ChatMessageCollection.1', '/Equation.ESEE4', '/RStudio.Rproj', '/BDATuner.DVBSTuningSpace', '/PLA.TraceDataProvider.1', '/Microsoft.DirectMusicSeqTrack', '/InfoPath.Application.2', '/Groove.CryptoServices', '/NODEMGR.MMCVersionInfo.1', '/Ietag.OOC.1', '/IcecreamEbookReader', '/CorTransientLoader.CorLoad.1', '/ehGLID.GLIDLoaderDispatcher.1', '/CertificateAuthority.EncodeAltName.1', '/Microsoft.DirectMusicSynth.1', '/curfile', '/ITIR.LocalWordWheel', '/STSUpld.CopyCtl.1', '/CLSID', '/Microsoft.DirectSoundGargleDMO.1', '/.sln', '/UnityWebPlayer.UnityWebPlayer.1', '/WindowsSideShow.SideShowKeyCollection.1', '/wlsrvc.FileDataCache.1', '/GrooveToolArchive', '/Word.Basic.9', '/igfxTMM.CloneViewHelper', '/.mfe', '/.settings', '/DBRSTPRX.AsServer.1', '/.fodt', '/Promt6.WebPageFolder.2', '/Groove.PassphrasePolicy', '/textfile', '/CAPICOM.OID', '/Microsoft.Update.StringColl.1', '/VBSFile'])"
      ]
     },
     "execution_count": 13,
     "metadata": {},
     "output_type": "execute_result"
    }
   ],
   "source": [
    "d['_update']['HKEY_CLASSES_ROOT']['_update'].keys()"
   ]
  },
  {
   "cell_type": "code",
   "execution_count": 14,
   "metadata": {
    "ExecuteTime": {
     "end_time": "2020-07-21T08:44:47.806039Z",
     "start_time": "2020-07-21T08:44:47.797038Z"
    }
   },
   "outputs": [
    {
     "data": {
      "text/plain": [
       "dict_keys(['/DC4D7920-6AC8-11cf-8ADB-00AA00C00905', '/ED4B87C4-9F76-11d1-8BF7-0000F8754DA1', '_', '/4F86BADF-9F77-11d1-B1B7-0000F8753F5D', '/73A4C9C1-D68D-11d0-98BF-00A0C90DC8D9'])"
      ]
     },
     "execution_count": 14,
     "metadata": {},
     "output_type": "execute_result"
    }
   ],
   "source": [
    "d['_update']['HKEY_CLASSES_ROOT']['_update']['/Licenses']['_update'].keys()"
   ]
  },
  {
   "cell_type": "code",
   "execution_count": 15,
   "metadata": {
    "ExecuteTime": {
     "end_time": "2020-07-21T08:44:48.486078Z",
     "start_time": "2020-07-21T08:44:48.477077Z"
    }
   },
   "outputs": [
    {
     "data": {
      "text/plain": [
       "(1, 'iokouhloohrojhhhtnooiokomiwnmohosmsl')"
      ]
     },
     "execution_count": 15,
     "metadata": {},
     "output_type": "execute_result"
    }
   ],
   "source": [
    "d['_update']['HKEY_CLASSES_ROOT']['_update']['/Licenses']['_update']\\\n",
    "['/DC4D7920-6AC8-11cf-8ADB-00AA00C00905']['_update']['_']"
   ]
  },
  {
   "cell_type": "code",
   "execution_count": null,
   "metadata": {},
   "outputs": [],
   "source": []
  },
  {
   "cell_type": "code",
   "execution_count": 16,
   "metadata": {
    "ExecuteTime": {
     "end_time": "2020-07-21T08:44:49.414131Z",
     "start_time": "2020-07-21T08:44:49.405130Z"
    }
   },
   "outputs": [
    {
     "data": {
      "text/plain": [
       "[1, 'iokouhloohrojhhhtnooiokomiwnmohosmsl']"
      ]
     },
     "execution_count": 16,
     "metadata": {},
     "output_type": "execute_result"
    }
   ],
   "source": [
    "a['HKEY_CLASSES_ROOT']['/Licenses']['/DC4D7920-6AC8-11cf-8ADB-00AA00C00905']['_']"
   ]
  },
  {
   "cell_type": "code",
   "execution_count": null,
   "metadata": {},
   "outputs": [],
   "source": []
  },
  {
   "cell_type": "code",
   "execution_count": 10,
   "metadata": {
    "ExecuteTime": {
     "end_time": "2020-07-21T08:44:06.774692Z",
     "start_time": "2020-07-21T08:44:06.765691Z"
    }
   },
   "outputs": [
    {
     "data": {
      "text/plain": [
       "(1, 'iokouhloohrojhhhtnooiokomiwnmohosmsl')"
      ]
     },
     "execution_count": 10,
     "metadata": {},
     "output_type": "execute_result"
    }
   ],
   "source": [
    "b['HKEY_CLASSES_ROOT']['/Licenses']['/DC4D7920-6AC8-11cf-8ADB-00AA00C00905']['_']"
   ]
  },
  {
   "cell_type": "code",
   "execution_count": null,
   "metadata": {},
   "outputs": [],
   "source": []
  },
  {
   "cell_type": "code",
   "execution_count": null,
   "metadata": {},
   "outputs": [],
   "source": []
  },
  {
   "cell_type": "code",
   "execution_count": null,
   "metadata": {},
   "outputs": [],
   "source": []
  },
  {
   "cell_type": "code",
   "execution_count": null,
   "metadata": {},
   "outputs": [],
   "source": []
  },
  {
   "cell_type": "code",
   "execution_count": 7,
   "metadata": {
    "ExecuteTime": {
     "end_time": "2020-07-21T07:50:58.865354Z",
     "start_time": "2020-07-21T07:50:20.445156Z"
    }
   },
   "outputs": [
    {
     "name": "stdout",
     "output_type": "stream",
     "text": [
      "start writing\n",
      "writed C:\\.reg\\d.json\n"
     ]
    }
   ],
   "source": [
    "a = myjson_load(r'C:\\.reg\\first_snapshot 2020-07-21 10-04-48+0300.json')\n",
    "b = myjson_load(r'C:\\.reg\\last_snapshot 2020-07-21 10-21-18+0300.json')\n",
    "d = comp.compare_dicts(a,b)\n",
    "myjson_dump(d,r'C:\\.reg\\d.json')"
   ]
  },
  {
   "cell_type": "code",
   "execution_count": null,
   "metadata": {},
   "outputs": [],
   "source": []
  },
  {
   "cell_type": "code",
   "execution_count": null,
   "metadata": {},
   "outputs": [],
   "source": []
  },
  {
   "cell_type": "code",
   "execution_count": null,
   "metadata": {},
   "outputs": [],
   "source": []
  },
  {
   "cell_type": "code",
   "execution_count": null,
   "metadata": {},
   "outputs": [],
   "source": []
  },
  {
   "cell_type": "code",
   "execution_count": 2,
   "metadata": {
    "ExecuteTime": {
     "end_time": "2020-07-20T17:32:37.569733Z",
     "start_time": "2020-07-20T17:32:37.552732Z"
    }
   },
   "outputs": [],
   "source": [
    "stat = {}\n",
    "def scan_key(key,path=()):\n",
    "    nkeys,nvals,chdate = reg.QueryInfoKey(key)\n",
    "    #errors = {}\n",
    "    root = {}\n",
    "    for i in range(nkeys):\n",
    "        try:\n",
    "            name = reg.EnumKey(key,i)\n",
    "        except WindowsError as e:\n",
    "            print(path,i,nkeys)\n",
    "            break\n",
    "        err = False\n",
    "        try:\n",
    "            name_key = reg.OpenKey(key,name)\n",
    "        except WindowsError as e:\n",
    "            root['/'+name] = [-1,str(e)]\n",
    "            err = True\n",
    "            #print(path+(name,))\n",
    "        if not err:\n",
    "            root['/'+name] = scan_key(name_key,path+(name,))\n",
    "\n",
    "    for i in range(nvals):\n",
    "        name,val,typ = reg.EnumValue(key,i)\n",
    "        #if typ==reg.REG_QWORD:\n",
    "        #    val=str(val)\n",
    "        if type(val)==bytes:\n",
    "            val=repr(val)\n",
    "        root['_'+name]=(typ,val)\n",
    "        #stat[typ] = [path+(name,),val]\n",
    "    return root"
   ]
  },
  {
   "cell_type": "code",
   "execution_count": 5,
   "metadata": {
    "ExecuteTime": {
     "end_time": "2020-07-20T17:34:07.289865Z",
     "start_time": "2020-07-20T17:33:27.983617Z"
    }
   },
   "outputs": [
    {
     "name": "stdout",
     "output_type": "stream",
     "text": [
      "('HKEY_CURRENT_USER', 'Software', 'Classes', 'Wow6432Node', 'CLSID') 12 341468976\n",
      "('HKEY_USERS', 'S-1-5-21-281476240-1351446808-3602091694-1000', 'Software', 'Classes', 'Wow6432Node', 'CLSID') 12 85233056\n",
      "('HKEY_USERS', 'S-1-5-21-281476240-1351446808-3602091694-1000_Classes', 'Wow6432Node', 'CLSID') 12 85233056\n"
     ]
    }
   ],
   "source": [
    "all_reg2 = {\n",
    "    'HKEY_CLASSES_ROOT'    :scan_key(reg.HKEY_CLASSES_ROOT    ,('HKEY_CLASSES_ROOT',)),\n",
    "    'HKEY_CURRENT_USER'    :scan_key(reg.HKEY_CURRENT_USER    ,('HKEY_CURRENT_USER',)),\n",
    "    'HKEY_LOCAL_MACHINE'   :scan_key(reg.HKEY_LOCAL_MACHINE   ,('HKEY_LOCAL_MACHINE',)),\n",
    "    'HKEY_USERS'           :scan_key(reg.HKEY_USERS           ,('HKEY_USERS',)),\n",
    "    'HKEY_PERFORMANCE_DATA':scan_key(reg.HKEY_PERFORMANCE_DATA,('HKEY_PERFORMANCE_DATA',)),\n",
    "    'HKEY_CURRENT_CONFIG'  :scan_key(reg.HKEY_CURRENT_CONFIG  ,('HKEY_CURRENT_CONFIG',)),\n",
    "}"
   ]
  },
  {
   "cell_type": "code",
   "execution_count": null,
   "metadata": {},
   "outputs": [],
   "source": []
  },
  {
   "cell_type": "code",
   "execution_count": 4,
   "metadata": {
    "ExecuteTime": {
     "end_time": "2020-07-20T17:33:19.918155Z",
     "start_time": "2020-07-20T17:33:19.909155Z"
    }
   },
   "outputs": [],
   "source": [
    "import json_diff as jd"
   ]
  },
  {
   "cell_type": "code",
   "execution_count": 8,
   "metadata": {
    "ExecuteTime": {
     "end_time": "2020-07-20T17:37:36.716843Z",
     "start_time": "2020-07-20T17:37:29.252416Z"
    }
   },
   "outputs": [],
   "source": [
    "comp = jd.Comparator()\n",
    "diff = comp.compare_dicts(all_reg,all_reg2)"
   ]
  },
  {
   "cell_type": "code",
   "execution_count": 29,
   "metadata": {
    "ExecuteTime": {
     "end_time": "2020-07-20T17:42:40.582224Z",
     "start_time": "2020-07-20T17:42:40.573223Z"
    }
   },
   "outputs": [
    {
     "data": {
      "text/plain": [
       "dict_keys(['HKEY_CURRENT_USER', 'HKEY_USERS', 'HKEY_PERFORMANCE_DATA', 'HKEY_LOCAL_MACHINE'])"
      ]
     },
     "execution_count": 29,
     "metadata": {},
     "output_type": "execute_result"
    }
   ],
   "source": [
    "diff['_update'].keys()"
   ]
  },
  {
   "cell_type": "code",
   "execution_count": 28,
   "metadata": {
    "ExecuteTime": {
     "end_time": "2020-07-20T17:39:54.655733Z",
     "start_time": "2020-07-20T17:39:54.642732Z"
    }
   },
   "outputs": [
    {
     "data": {
      "text/plain": [
       "dict_keys(['_HRZR_PGYFRFFVBA', '_Puebzr', '_{7P5N40RS-N0SO-4OSP-874N-P0S2R0O9SN8R}\\\\Abgrcnq++\\\\abgrcnq++.rkr'])"
      ]
     },
     "execution_count": 28,
     "metadata": {},
     "output_type": "execute_result"
    }
   ],
   "source": [
    "diff['_update']['HKEY_CURRENT_USER']['_update']['/Software']['_update']['/Microsoft']\\\n",
    "['_update']['/Windows']['_update']['/CurrentVersion']['_update']['/Explorer']['_update']\\\n",
    "['/UserAssist']['_update']['/{CEBFF5CD-ACE2-4F4F-9178-9926F41749EA}']['_update']['/Count']\\\n",
    "['_update'].keys()"
   ]
  },
  {
   "cell_type": "code",
   "execution_count": 33,
   "metadata": {
    "ExecuteTime": {
     "end_time": "2020-07-20T17:44:21.477994Z",
     "start_time": "2020-07-20T17:44:21.467994Z"
    }
   },
   "outputs": [
    {
     "data": {
      "text/plain": [
       "(3,\n",
       " 'b\"u\\\\x00\\\\x00\\\\x00\\\\x0b\\\\x00\\\\x00\\\\x00\\\\xda\\\\x00\\\\x00\\\\x00\\\\x17\\\\x96\\\\x12\\\\x01\\\\x00\\\\x00\\\\x00\\\\x00\\\\x90\\\\x91=?\\\\x86\\\\xf2\\\\x15?V\\\\xe6\\\\xdf>\\\\x17X\\\\xe8>\\\\x08X\\\\x0b?\\\\x00\\\\x00\\\\x80?r+F?\\\\x00\\\\x00\\\\x80?2\\\\xf9\\'?\\\\x06\\\\x00\\\\x00\\\\x00\\\\xc0n\\\\xf9\\\\xe8\\\\x94^\\\\xd6\\\\x01\\\\x00\\\\x00\\\\x00\\\\x00\"')"
      ]
     },
     "execution_count": 33,
     "metadata": {},
     "output_type": "execute_result"
    }
   ],
   "source": [
    "diff['_update']['HKEY_CURRENT_USER']['_update']['/Software']['_update']['/Microsoft']\\\n",
    "['_update']['/Windows']['_update']['/CurrentVersion']['_update']['/Explorer']['_update']\\\n",
    "['/UserAssist']['_update']['/{CEBFF5CD-ACE2-4F4F-9178-9926F41749EA}']['_update']['/Count']\\\n",
    "['_update']['_{7P5N40RS-N0SO-4OSP-874N-P0S2R0O9SN8R}\\\\Abgrcnq++\\\\abgrcnq++.rkr']"
   ]
  },
  {
   "cell_type": "code",
   "execution_count": 35,
   "metadata": {
    "ExecuteTime": {
     "end_time": "2020-07-20T18:06:01.415347Z",
     "start_time": "2020-07-20T18:06:01.298340Z"
    }
   },
   "outputs": [
    {
     "name": "stdout",
     "output_type": "stream",
     "text": [
      "start writing\n",
      "writed C:\\.reg\\patch1.json\n"
     ]
    }
   ],
   "source": [
    "#with open(r'C:\\.reg\\patch1.json','w') as f:\n",
    "myjson_dump(diff,r'C:\\.reg\\patch1.json')"
   ]
  },
  {
   "cell_type": "code",
   "execution_count": null,
   "metadata": {},
   "outputs": [],
   "source": []
  },
  {
   "cell_type": "code",
   "execution_count": null,
   "metadata": {},
   "outputs": [],
   "source": []
  },
  {
   "cell_type": "code",
   "execution_count": 301,
   "metadata": {
    "ExecuteTime": {
     "end_time": "2020-07-16T20:48:20.286924Z",
     "start_time": "2020-07-16T20:48:07.027166Z"
    }
   },
   "outputs": [
    {
     "name": "stdout",
     "output_type": "stream",
     "text": [
      "start writing\n",
      "writed C:\\.files\\test2.json\n"
     ]
    }
   ],
   "source": [
    "root = all_reg['HKEY_LOCAL_MACHINE']#['/SOFTWARE']#['/Microsoft']#['/Windows']\\\n",
    "    #['/CurrentVersion']#['/Installer']#['/UserData']#['/S-1-5-18']#['/Components']\n",
    "l = list(root.keys())\n",
    "#print(len(l))\n",
    "#o = {}\n",
    "#for i in range(0,40000):\n",
    "#    #if i in range(23000,23400): continue\n",
    "#    o[l[i]] = root[l[i]]\n",
    "#k=0\n",
    "#o=root[l[k]]\n",
    "#print(repr(l[k]))\n",
    "myjson_dump(root,r'C:\\.files\\test2.json')"
   ]
  },
  {
   "cell_type": "code",
   "execution_count": 285,
   "metadata": {
    "ExecuteTime": {
     "end_time": "2020-07-16T20:35:50.792055Z",
     "start_time": "2020-07-16T20:35:50.457036Z"
    }
   },
   "outputs": [
    {
     "data": {
      "text/plain": [
       "True"
      ]
     },
     "execution_count": 285,
     "metadata": {},
     "output_type": "execute_result"
    }
   ],
   "source": [
    "3 in range(5)"
   ]
  },
  {
   "cell_type": "code",
   "execution_count": 224,
   "metadata": {
    "ExecuteTime": {
     "end_time": "2020-07-16T07:57:51.349643Z",
     "start_time": "2020-07-16T07:57:51.342642Z"
    }
   },
   "outputs": [
    {
     "data": {
      "text/plain": [
       "'/Installer'"
      ]
     },
     "execution_count": 224,
     "metadata": {},
     "output_type": "execute_result"
    }
   ],
   "source": [
    "l[29]"
   ]
  },
  {
   "cell_type": "code",
   "execution_count": 174,
   "metadata": {
    "ExecuteTime": {
     "end_time": "2020-07-16T07:38:55.365668Z",
     "start_time": "2020-07-16T07:38:55.357668Z"
    }
   },
   "outputs": [
    {
     "data": {
      "text/plain": [
       "143"
      ]
     },
     "execution_count": 174,
     "metadata": {},
     "output_type": "execute_result"
    }
   ],
   "source": [
    "len(all_reg['HKEY_LOCAL_MACHINE']['/SOFTWARE']['/Microsoft'].keys())"
   ]
  },
  {
   "cell_type": "code",
   "execution_count": 68,
   "metadata": {
    "ExecuteTime": {
     "end_time": "2020-07-16T07:07:07.746543Z",
     "start_time": "2020-07-16T07:07:07.740543Z"
    }
   },
   "outputs": [
    {
     "name": "stdout",
     "output_type": "stream",
     "text": [
      "start writing\n",
      "writed C:\\.files\\test3.json\n"
     ]
    }
   ],
   "source": [
    "myjson_dump([1,2,9860129204093812055,4,5,6],r'C:\\.files\\test3.json')"
   ]
  },
  {
   "cell_type": "code",
   "execution_count": 69,
   "metadata": {
    "ExecuteTime": {
     "end_time": "2020-07-16T07:08:05.677857Z",
     "start_time": "2020-07-16T07:08:05.670856Z"
    }
   },
   "outputs": [
    {
     "data": {
      "text/plain": [
       "18446744073709551616"
      ]
     },
     "execution_count": 69,
     "metadata": {},
     "output_type": "execute_result"
    }
   ],
   "source": [
    "2**64\n",
    "9860129204093812055\n",
    "18446744073709551616"
   ]
  },
  {
   "cell_type": "code",
   "execution_count": 140,
   "metadata": {
    "ExecuteTime": {
     "end_time": "2020-07-15T21:06:34.323702Z",
     "start_time": "2020-07-15T21:06:34.315702Z"
    }
   },
   "outputs": [
    {
     "data": {
      "text/plain": [
       "dict_keys(['/AppEvents', '/Console', '/Control Panel', '/Environment', '/EUDC', '/Identities', '/Keyboard Layout', '/Network', '/Printers', '/Software', '/System', '/Uninstall', '/Volatile Environment', '_'])"
      ]
     },
     "execution_count": 140,
     "metadata": {},
     "output_type": "execute_result"
    }
   ],
   "source": [
    "all_reg['HKEY_CURRENT_USER'].keys()"
   ]
  },
  {
   "cell_type": "code",
   "execution_count": null,
   "metadata": {},
   "outputs": [],
   "source": []
  },
  {
   "cell_type": "code",
   "execution_count": 72,
   "metadata": {
    "ExecuteTime": {
     "end_time": "2020-07-16T07:20:59.714144Z",
     "start_time": "2020-07-16T07:20:20.668911Z"
    }
   },
   "outputs": [],
   "source": [
    "#for k,v in all_reg['HKEY_CLASSES_ROOT']['/.nb']['/M-WIN-L.NB.10.0.1.5157734']['/ShellNew'].items():\n",
    "with open(r'C:\\.files\\test.json','w') as f:\n",
    "    #print(k)\n",
    "    json.dump(all_reg,f)\n"
   ]
  },
  {
   "cell_type": "code",
   "execution_count": null,
   "metadata": {},
   "outputs": [],
   "source": []
  },
  {
   "cell_type": "code",
   "execution_count": null,
   "metadata": {},
   "outputs": [],
   "source": []
  },
  {
   "cell_type": "code",
   "execution_count": 21,
   "metadata": {
    "ExecuteTime": {
     "end_time": "2020-07-19T19:49:29.384640Z",
     "start_time": "2020-07-19T19:49:29.380639Z"
    }
   },
   "outputs": [],
   "source": [
    "import ipyinspector as insp"
   ]
  },
  {
   "cell_type": "code",
   "execution_count": 22,
   "metadata": {
    "ExecuteTime": {
     "end_time": "2020-07-19T19:49:45.736575Z",
     "start_time": "2020-07-19T19:49:29.387640Z"
    }
   },
   "outputs": [
    {
     "name": "stderr",
     "output_type": "stream",
     "text": [
      "ERROR:root:Internal Python error in the inspect module.\n",
      "Below is the traceback from this internal error.\n",
      "\n"
     ]
    },
    {
     "name": "stdout",
     "output_type": "stream",
     "text": [
      "Traceback (most recent call last):\n",
      "  File \"C:\\ProgramData\\Miniconda3\\lib\\site-packages\\IPython\\core\\interactiveshell.py\", line 3331, in run_code\n",
      "    exec(code_obj, self.user_global_ns, self.user_ns)\n",
      "  File \"<ipython-input-22-2b1e38944690>\", line 1, in <module>\n",
      "    get_ipython().run_line_magic('oi', 'all_reg')\n",
      "  File \"C:\\ProgramData\\Miniconda3\\lib\\site-packages\\IPython\\core\\interactiveshell.py\", line 2317, in run_line_magic\n",
      "    result = fn(*args, **kwargs)\n",
      "  File \"C:\\ProgramData\\Miniconda3\\lib\\site-packages\\ipyinspector\\__init__.py\", line 156, in oi\n",
      "    insp = ObjectInspector(obj)\n",
      "  File \"C:\\ProgramData\\Miniconda3\\lib\\site-packages\\ipyinspector\\__init__.py\", line 102, in __init__\n",
      "    self.add_node(Object(obj))\n",
      "  File \"C:\\ProgramData\\Miniconda3\\lib\\site-packages\\ipyinspector\\__init__.py\", line 71, in __init__\n",
      "    super().__init__(' '.join(label), show_icon=False)\n",
      "  File \"C:\\ProgramData\\Miniconda3\\lib\\site-packages\\ipytree\\tree.py\", line 52, in __init__\n",
      "    self.name = name\n",
      "  File \"C:\\ProgramData\\Miniconda3\\lib\\site-packages\\traitlets\\traitlets.py\", line 585, in __set__\n",
      "    self.set(obj, value)\n",
      "  File \"C:\\ProgramData\\Miniconda3\\lib\\site-packages\\traitlets\\traitlets.py\", line 574, in set\n",
      "    obj._notify_trait(self.name, old_value, new_value)\n",
      "  File \"C:\\ProgramData\\Miniconda3\\lib\\site-packages\\traitlets\\traitlets.py\", line 1139, in _notify_trait\n",
      "    type='change',\n",
      "  File \"C:\\ProgramData\\Miniconda3\\lib\\site-packages\\ipywidgets\\widgets\\widget.py\", line 605, in notify_change\n",
      "    self.send_state(key=name)\n",
      "  File \"C:\\ProgramData\\Miniconda3\\lib\\site-packages\\ipywidgets\\widgets\\widget.py\", line 489, in send_state\n",
      "    self._send(msg, buffers=buffers)\n",
      "  File \"C:\\ProgramData\\Miniconda3\\lib\\site-packages\\ipywidgets\\widgets\\widget.py\", line 737, in _send\n",
      "    self.comm.send(data=msg, buffers=buffers)\n",
      "  File \"C:\\ProgramData\\Miniconda3\\lib\\site-packages\\ipykernel\\comm\\comm.py\", line 123, in send\n",
      "    data=data, metadata=metadata, buffers=buffers,\n",
      "  File \"C:\\ProgramData\\Miniconda3\\lib\\site-packages\\ipykernel\\comm\\comm.py\", line 71, in _publish_msg\n",
      "    buffers=buffers,\n",
      "  File \"C:\\ProgramData\\Miniconda3\\lib\\site-packages\\jupyter_client\\session.py\", line 746, in send\n",
      "    to_send = self.serialize(msg, ident)\n",
      "  File \"C:\\ProgramData\\Miniconda3\\lib\\site-packages\\jupyter_client\\session.py\", line 659, in serialize\n",
      "    signature = self.sign(real_message)\n",
      "  File \"C:\\ProgramData\\Miniconda3\\lib\\site-packages\\jupyter_client\\session.py\", line 604, in sign\n",
      "    h.update(m)\n",
      "  File \"C:\\ProgramData\\Miniconda3\\lib\\hmac.py\", line 93, in update\n",
      "    self.inner.update(msg)\n",
      "KeyboardInterrupt\n",
      "\n",
      "During handling of the above exception, another exception occurred:\n",
      "\n",
      "Traceback (most recent call last):\n",
      "  File \"C:\\ProgramData\\Miniconda3\\lib\\site-packages\\IPython\\core\\interactiveshell.py\", line 2044, in showtraceback\n",
      "    stb = value._render_traceback_()\n",
      "AttributeError: 'KeyboardInterrupt' object has no attribute '_render_traceback_'\n",
      "\n",
      "During handling of the above exception, another exception occurred:\n",
      "\n",
      "Traceback (most recent call last):\n",
      "  File \"C:\\ProgramData\\Miniconda3\\lib\\site-packages\\IPython\\core\\ultratb.py\", line 1148, in get_records\n",
      "    return _fixed_getinnerframes(etb, number_of_lines_of_context, tb_offset)\n",
      "  File \"C:\\ProgramData\\Miniconda3\\lib\\site-packages\\IPython\\core\\ultratb.py\", line 316, in wrapped\n",
      "    return f(*args, **kwargs)\n",
      "  File \"C:\\ProgramData\\Miniconda3\\lib\\site-packages\\IPython\\core\\ultratb.py\", line 350, in _fixed_getinnerframes\n",
      "    records = fix_frame_records_filenames(inspect.getinnerframes(etb, context))\n",
      "  File \"C:\\ProgramData\\Miniconda3\\lib\\inspect.py\", line 1488, in getinnerframes\n",
      "    frameinfo = (tb.tb_frame,) + getframeinfo(tb, context)\n",
      "  File \"C:\\ProgramData\\Miniconda3\\lib\\inspect.py\", line 1450, in getframeinfo\n",
      "    lines, lnum = findsource(frame)\n",
      "  File \"C:\\ProgramData\\Miniconda3\\lib\\site-packages\\IPython\\core\\ultratb.py\", line 182, in findsource\n",
      "    lines = linecache.getlines(file, globals_dict)\n",
      "  File \"C:\\ProgramData\\Miniconda3\\lib\\linecache.py\", line 47, in getlines\n",
      "    return updatecache(filename, module_globals)\n",
      "  File \"C:\\ProgramData\\Miniconda3\\lib\\linecache.py\", line 136, in updatecache\n",
      "    with tokenize.open(fullname) as fp:\n",
      "  File \"C:\\ProgramData\\Miniconda3\\lib\\tokenize.py\", line 454, in open\n",
      "    encoding, lines = detect_encoding(buffer.readline)\n",
      "  File \"C:\\ProgramData\\Miniconda3\\lib\\tokenize.py\", line 423, in detect_encoding\n",
      "    first = read_or_stop()\n",
      "  File \"C:\\ProgramData\\Miniconda3\\lib\\tokenize.py\", line 381, in read_or_stop\n",
      "    return readline()\n",
      "KeyboardInterrupt\n"
     ]
    },
    {
     "ename": "KeyboardInterrupt",
     "evalue": "",
     "output_type": "error",
     "traceback": [
      "\u001b[1;31m---------------------------------------------------------------------------\u001b[0m"
     ]
    }
   ],
   "source": [
    "%oi all_reg"
   ]
  },
  {
   "cell_type": "code",
   "execution_count": 7,
   "metadata": {
    "ExecuteTime": {
     "end_time": "2020-07-19T19:32:54.400545Z",
     "start_time": "2020-07-19T19:32:54.357542Z"
    }
   },
   "outputs": [
    {
     "data": {
      "application/vnd.jupyter.widget-view+json": {
       "model_id": "61f2a5ff57c140ec8e906a761a96eab1",
       "version_major": 2,
       "version_minor": 0
      },
      "text/plain": [
       "DataInspector(layout=Layout(max_height='30em', overflow_y='auto'), multiple_selection=False, nodes=(Data(close…"
      ]
     },
     "metadata": {},
     "output_type": "display_data"
    }
   ],
   "source": [
    "insp.di(\"{'x':1,'y':2}\")"
   ]
  },
  {
   "cell_type": "code",
   "execution_count": null,
   "metadata": {},
   "outputs": [],
   "source": []
  },
  {
   "cell_type": "code",
   "execution_count": 8,
   "metadata": {
    "ExecuteTime": {
     "end_time": "2020-07-19T19:35:38.029089Z",
     "start_time": "2020-07-19T19:35:38.022088Z"
    }
   },
   "outputs": [],
   "source": [
    "from ipytree import Tree, Node"
   ]
  },
  {
   "cell_type": "code",
   "execution_count": 9,
   "metadata": {
    "ExecuteTime": {
     "end_time": "2020-07-19T19:35:46.483572Z",
     "start_time": "2020-07-19T19:35:46.461571Z"
    }
   },
   "outputs": [
    {
     "data": {
      "application/vnd.jupyter.widget-view+json": {
       "model_id": "de2a665edf5c4bb89beba716d0b50fce",
       "version_major": 2,
       "version_minor": 0
      },
      "text/plain": [
       "Tree()"
      ]
     },
     "metadata": {},
     "output_type": "display_data"
    }
   ],
   "source": [
    "tree = Tree(stripes=True)\n",
    "tree"
   ]
  },
  {
   "cell_type": "code",
   "execution_count": 11,
   "metadata": {
    "ExecuteTime": {
     "end_time": "2020-07-19T19:36:26.516862Z",
     "start_time": "2020-07-19T19:36:26.508862Z"
    }
   },
   "outputs": [],
   "source": [
    "node1 = Node('node1')\n",
    "tree.add_node(node1)\n"
   ]
  },
  {
   "cell_type": "code",
   "execution_count": 12,
   "metadata": {
    "ExecuteTime": {
     "end_time": "2020-07-19T19:36:38.598553Z",
     "start_time": "2020-07-19T19:36:38.581552Z"
    }
   },
   "outputs": [],
   "source": [
    "node2 = Node('node2')\n",
    "tree.add_node(node2)"
   ]
  },
  {
   "cell_type": "code",
   "execution_count": 13,
   "metadata": {
    "ExecuteTime": {
     "end_time": "2020-07-19T19:36:50.346225Z",
     "start_time": "2020-07-19T19:36:50.341225Z"
    }
   },
   "outputs": [],
   "source": [
    "tree.nodes = [node2, node1]"
   ]
  },
  {
   "cell_type": "code",
   "execution_count": 14,
   "metadata": {
    "ExecuteTime": {
     "end_time": "2020-07-19T19:37:04.366027Z",
     "start_time": "2020-07-19T19:37:04.314024Z"
    }
   },
   "outputs": [],
   "source": [
    "node3 = Node('node3', disabled=True)\n",
    "node4 = Node('node4')\n",
    "node5 = Node('node5', [Node('1'), Node('2')])\n",
    "node2.add_node(node3)\n",
    "node2.add_node(node4)\n",
    "node2.add_node(node5)\n"
   ]
  },
  {
   "cell_type": "code",
   "execution_count": 16,
   "metadata": {
    "ExecuteTime": {
     "end_time": "2020-07-19T19:38:56.841460Z",
     "start_time": "2020-07-19T19:38:56.829460Z"
    }
   },
   "outputs": [
    {
     "data": {
      "application/vnd.jupyter.widget-view+json": {
       "model_id": "de2a665edf5c4bb89beba716d0b50fce",
       "version_major": 2,
       "version_minor": 0
      },
      "text/plain": [
       "Tree(nodes=(Node(name='node2', nodes=(Node(disabled=True, name='node3'), Node(name='node4'), Node(name='node5'…"
      ]
     },
     "metadata": {},
     "output_type": "display_data"
    }
   ],
   "source": [
    "tree"
   ]
  },
  {
   "cell_type": "code",
   "execution_count": null,
   "metadata": {},
   "outputs": [],
   "source": []
  },
  {
   "cell_type": "code",
   "execution_count": null,
   "metadata": {},
   "outputs": [],
   "source": []
  },
  {
   "cell_type": "code",
   "execution_count": null,
   "metadata": {
    "ExecuteTime": {
     "end_time": "2020-07-20T17:42:40.582224Z",
     "start_time": "2020-07-20T17:42:40.573223Z"
    }
   },
   "outputs": [],
   "source": []
  },
  {
   "cell_type": "code",
   "execution_count": 23,
   "metadata": {
    "ExecuteTime": {
     "end_time": "2020-07-19T19:51:46.496482Z",
     "start_time": "2020-07-19T19:51:46.478481Z"
    }
   },
   "outputs": [
    {
     "data": {
      "text/html": [
       "\n",
       "<div style=\"background-color:gainsboro; border:solid black; width:600px; padding:20px;\">\n",
       "Code: <input type=\"text\" id=\"code_input\" size=\"50\" height=\"2\" value=\"sin(pi / 2)\"><br>\n",
       "Result: <input type=\"text\" id=\"result_output\" size=\"50\" value=\"1.0\"><br>\n",
       "<button onclick=\"exec_code()\">Execute</button>\n",
       "</div>\n",
       "\n",
       "<script type=\"text/Javascript\">\n",
       "    function handle_output(out_type, out){\n",
       "        console.log(out_type);\n",
       "        console.log(out);\n",
       "        var res = null;\n",
       "         // if output is a print statement\n",
       "        if(out_type == \"stream\"){\n",
       "            res = out.data;\n",
       "        }\n",
       "        // if output is a python object\n",
       "        else if(out_type === \"pyout\"){\n",
       "            res = out.data[\"text/plain\"];\n",
       "        }\n",
       "        // if output is a python error\n",
       "        else if(out_type == \"pyerr\"){\n",
       "            res = out.ename + \": \" + out.evalue;\n",
       "        }\n",
       "        // if output is something we haven't thought of\n",
       "        else{\n",
       "            res = \"[out type not implemented]\";   \n",
       "        }\n",
       "        document.getElementById(\"result_output\").value = res;\n",
       "    }\n",
       "    \n",
       "    function exec_code(){\n",
       "        var code_input = document.getElementById('code_input').value;\n",
       "        var kernel = IPython.notebook.kernel;\n",
       "        var callbacks = {'output' : handle_output};\n",
       "        document.getElementById(\"result_output\").value = \"\";  // clear output box\n",
       "        var msg_id = kernel.execute(code_input, callbacks, {silent:false});\n",
       "        console.log(\"button pressed\");\n",
       "    }\n",
       "</script>\n"
      ],
      "text/plain": [
       "<IPython.core.display.HTML object>"
      ]
     },
     "execution_count": 23,
     "metadata": {},
     "output_type": "execute_result"
    }
   ],
   "source": [
    "from IPython.display import HTML\n",
    "from math import pi, sin\n",
    "\n",
    "# Add an input form similar to what we saw above\n",
    "input_form = \"\"\"\n",
    "<div style=\"background-color:gainsboro; border:solid black; width:600px; padding:20px;\">\n",
    "Code: <input type=\"text\" id=\"code_input\" size=\"50\" height=\"2\" value=\"sin(pi / 2)\"><br>\n",
    "Result: <input type=\"text\" id=\"result_output\" size=\"50\" value=\"1.0\"><br>\n",
    "<button onclick=\"exec_code()\">Execute</button>\n",
    "</div>\n",
    "\"\"\"\n",
    "\n",
    "# here the javascript has a function to execute the code\n",
    "# within the input box, and a callback to handle the output.\n",
    "javascript = \"\"\"\n",
    "<script type=\"text/Javascript\">\n",
    "    function handle_output(out_type, out){\n",
    "        console.log(out_type);\n",
    "        console.log(out);\n",
    "        var res = null;\n",
    "         // if output is a print statement\n",
    "        if(out_type == \"stream\"){\n",
    "            res = out.data;\n",
    "        }\n",
    "        // if output is a python object\n",
    "        else if(out_type === \"pyout\"){\n",
    "            res = out.data[\"text/plain\"];\n",
    "        }\n",
    "        // if output is a python error\n",
    "        else if(out_type == \"pyerr\"){\n",
    "            res = out.ename + \": \" + out.evalue;\n",
    "        }\n",
    "        // if output is something we haven't thought of\n",
    "        else{\n",
    "            res = \"[out type not implemented]\";   \n",
    "        }\n",
    "        document.getElementById(\"result_output\").value = res;\n",
    "    }\n",
    "    \n",
    "    function exec_code(){\n",
    "        var code_input = document.getElementById('code_input').value;\n",
    "        var kernel = IPython.notebook.kernel;\n",
    "        var callbacks = {'output' : handle_output};\n",
    "        document.getElementById(\"result_output\").value = \"\";  // clear output box\n",
    "        var msg_id = kernel.execute(code_input, callbacks, {silent:false});\n",
    "        console.log(\"button pressed\");\n",
    "    }\n",
    "</script>\n",
    "\"\"\"\n",
    "\n",
    "HTML(input_form + javascript)"
   ]
  },
  {
   "cell_type": "markdown",
   "metadata": {
    "heading_collapsed": true
   },
   "source": [
    "# DISKS"
   ]
  },
  {
   "cell_type": "code",
   "execution_count": 4,
   "metadata": {
    "ExecuteTime": {
     "end_time": "2020-07-14T11:07:48.677723Z",
     "start_time": "2020-07-14T11:07:48.610719Z"
    },
    "hidden": true
   },
   "outputs": [],
   "source": [
    "global_log = r'D:\\Users\\feelus\\Desktop\\scan-diff.log'"
   ]
  },
  {
   "cell_type": "code",
   "execution_count": 5,
   "metadata": {
    "ExecuteTime": {
     "end_time": "2020-07-14T11:15:46.512053Z",
     "start_time": "2020-07-14T11:07:48.679723Z"
    },
    "hidden": true,
    "scrolled": false
   },
   "outputs": [
    {
     "name": "stdout",
     "output_type": "stream",
     "text": [
      "=== D:\\ ===\n",
      "=== D:\\ ===\n",
      "simple update\n",
      "149 GB scanned - completed\n",
      "149 GB calculated, 0 GB calculated (99% cached)- completed\n",
      "start writing\n",
      "writed .files/last_snapshot 2020-07-14 14-07-48+0300.json\n",
      "--- ITERATION ---\n",
      "--- ITERATION ---\n",
      "--- FINAL ITERATION ---\n",
      "start writing\n",
      "writed .files/patch 2020-07-13 22-29-28+0300 to 2020-07-14 14-07-48+0300.json\n"
     ]
    }
   ],
   "source": [
    "last_diff_dir('D:',{r'D:\\Users\\feelus\\YandexDisk',r'D:\\$RECYCLE.BIN'},global_log)\n",
    "# executed in 8m 51s, finished 22:38:19 2020-07-13\n",
    "# executed in 7m 58s, finished 14:15:46 2020-07-14 149 GB"
   ]
  },
  {
   "cell_type": "code",
   "execution_count": 6,
   "metadata": {
    "ExecuteTime": {
     "end_time": "2020-07-14T11:25:51.777672Z",
     "start_time": "2020-07-14T11:15:46.516053Z"
    },
    "hidden": true,
    "scrolled": true
   },
   "outputs": [
    {
     "name": "stdout",
     "output_type": "stream",
     "text": [
      "=== C:\\ ===\n",
      "=== C:\\ ===\n",
      "simple update\n",
      "142 GB scanned - completed\n",
      "142 GB calculated, 0 GB calculated (99% cached)- completed\n",
      "start writing\n",
      "writed .files/last_snapshot 2020-07-14 14-15-46+0300.json\n",
      "--- ITERATION ---\n",
      "--- FINAL ITERATION ---\n",
      "start writing\n",
      "writed .files/patch 2020-07-14 13-10-54+0300 to 2020-07-14 14-15-46+0300.json\n"
     ]
    }
   ],
   "source": [
    "#patch 2020-05-31 11-40-04+0300 to 2020-07-02 23-29-48+0300.json\n",
    "# Program Files/Mozilla Firefox/chrome.manifest\n",
    "#  файлы размера 0 содержится и в moved и в new/old\n",
    "last_diff_dir('C:',{r'C:\\$RECYCLE.BIN'},global_log)\n",
    "# executed in 11m 20s, finished 11:55:56 2020-07-14 \n",
    "# executed in 10m 5s, finished 14:25:51 2020-07-14 142 GB"
   ]
  },
  {
   "cell_type": "code",
   "execution_count": 7,
   "metadata": {
    "ExecuteTime": {
     "end_time": "2020-07-14T11:26:56.249360Z",
     "start_time": "2020-07-14T11:25:51.785673Z"
    },
    "hidden": true,
    "scrolled": true
   },
   "outputs": [
    {
     "name": "stdout",
     "output_type": "stream",
     "text": [
      "=== D:\\Users\\feelus\\YandexDisk\\ ===\n",
      "=== D:\\Users\\feelus\\YandexDisk\\ ===\n",
      "simple update\n",
      "207 GB scanned - completed\n",
      "207 GB calculated, 0 GB calculated (99% cached)- completed\n",
      "start writing\n",
      "writed .files/last_snapshot 2020-07-14 14-25-51+0300.json\n",
      "--- ITERATION ---\n",
      "--- FINAL ITERATION ---\n",
      "start writing\n",
      "writed .files/patch 2020-07-14 14-02-26+0300 to 2020-07-14 14-25-51+0300.json\n"
     ]
    }
   ],
   "source": [
    "last_diff_dir(r'D:\\Users\\feelus\\YandexDisk',{},global_log)\n",
    "# executed in 1m 4.46s, finished 14:26:56 2020-07-14 207 GB"
   ]
  },
  {
   "cell_type": "code",
   "execution_count": null,
   "metadata": {
    "hidden": true
   },
   "outputs": [],
   "source": []
  },
  {
   "cell_type": "code",
   "execution_count": 20,
   "metadata": {
    "ExecuteTime": {
     "end_time": "2020-07-14T11:45:31.372434Z",
     "start_time": "2020-07-14T11:45:31.366433Z"
    },
    "hidden": true,
    "scrolled": true
   },
   "outputs": [],
   "source": [
    "last_diff_dir('H:',{r'H:\\$RECYCLE.BIN'},global_log)\n",
    "# executed in 1.56s, finished 14:26:57 2020-07-14 343 GB"
   ]
  },
  {
   "cell_type": "code",
   "execution_count": 21,
   "metadata": {
    "ExecuteTime": {
     "end_time": "2020-07-14T11:45:32.463496Z",
     "start_time": "2020-07-14T11:45:32.455495Z"
    },
    "hidden": true,
    "scrolled": true
   },
   "outputs": [],
   "source": [
    "last_diff_dir('I:',{r'I:\\$RECYCLE.BIN'},global_log)\n",
    "# executed in 12m 44s, finished 14:39:42 2020-07-14 330 GB"
   ]
  },
  {
   "cell_type": "code",
   "execution_count": null,
   "metadata": {
    "hidden": true
   },
   "outputs": [],
   "source": []
  },
  {
   "cell_type": "code",
   "execution_count": 10,
   "metadata": {
    "ExecuteTime": {
     "end_time": "2020-07-14T11:39:42.087163Z",
     "start_time": "2020-07-14T11:39:42.082163Z"
    },
    "hidden": true
   },
   "outputs": [],
   "source": [
    "import os\n",
    "#os.system(\"shutdown /s /t 1\");"
   ]
  },
  {
   "cell_type": "code",
   "execution_count": 11,
   "metadata": {
    "ExecuteTime": {
     "end_time": "2020-07-14T11:39:43.044218Z",
     "start_time": "2020-07-14T11:39:42.090164Z"
    },
    "hidden": true
   },
   "outputs": [
    {
     "ename": "BaseException",
     "evalue": "",
     "output_type": "error",
     "traceback": [
      "\u001b[1;31m---------------------------------------------------------------------------\u001b[0m",
      "\u001b[1;31mBaseException\u001b[0m                             Traceback (most recent call last)",
      "\u001b[1;32m<ipython-input-11-409fa8c7e39a>\u001b[0m in \u001b[0;36m<module>\u001b[1;34m\u001b[0m\n\u001b[1;32m----> 1\u001b[1;33m \u001b[1;32mraise\u001b[0m \u001b[0mBaseException\u001b[0m\u001b[1;33m(\u001b[0m\u001b[1;33m)\u001b[0m\u001b[1;33m\u001b[0m\u001b[1;33m\u001b[0m\u001b[0m\n\u001b[0m",
      "\u001b[1;31mBaseException\u001b[0m: "
     ]
    }
   ],
   "source": [
    "raise BaseException()"
   ]
  },
  {
   "cell_type": "code",
   "execution_count": 74,
   "metadata": {
    "ExecuteTime": {
     "end_time": "2020-07-15T19:15:23.288956Z",
     "start_time": "2020-07-15T19:15:23.275955Z"
    },
    "hidden": true
   },
   "outputs": [],
   "source": [
    "x = [None,repr(b'\\x01\\x05\\x99')]"
   ]
  },
  {
   "cell_type": "code",
   "execution_count": 75,
   "metadata": {
    "ExecuteTime": {
     "end_time": "2020-07-15T19:15:26.504140Z",
     "start_time": "2020-07-15T19:15:26.500140Z"
    },
    "hidden": true
   },
   "outputs": [],
   "source": [
    "import json\n",
    "with open(r'C:\\.files\\test.json','w') as f:\n",
    "    json.dump(x,f)"
   ]
  },
  {
   "cell_type": "code",
   "execution_count": 77,
   "metadata": {
    "ExecuteTime": {
     "end_time": "2020-07-15T19:19:25.924324Z",
     "start_time": "2020-07-15T19:19:25.916324Z"
    },
    "hidden": true
   },
   "outputs": [
    {
     "data": {
      "text/plain": [
       "6"
      ]
     },
     "execution_count": 77,
     "metadata": {},
     "output_type": "execute_result"
    }
   ],
   "source": [
    "reg.REG_LINK"
   ]
  },
  {
   "cell_type": "code",
   "execution_count": null,
   "metadata": {
    "hidden": true
   },
   "outputs": [],
   "source": []
  },
  {
   "cell_type": "code",
   "execution_count": null,
   "metadata": {
    "hidden": true
   },
   "outputs": [],
   "source": []
  },
  {
   "cell_type": "code",
   "execution_count": null,
   "metadata": {
    "hidden": true
   },
   "outputs": [],
   "source": []
  },
  {
   "cell_type": "code",
   "execution_count": null,
   "metadata": {
    "hidden": true
   },
   "outputs": [],
   "source": []
  }
 ],
 "metadata": {
  "hide_input": false,
  "kernelspec": {
   "display_name": "Python 3",
   "language": "python",
   "name": "python3"
  },
  "language_info": {
   "codemirror_mode": {
    "name": "ipython",
    "version": 3
   },
   "file_extension": ".py",
   "mimetype": "text/x-python",
   "name": "python",
   "nbconvert_exporter": "python",
   "pygments_lexer": "ipython3",
   "version": "3.6.7"
  }
 },
 "nbformat": 4,
 "nbformat_minor": 2
}
